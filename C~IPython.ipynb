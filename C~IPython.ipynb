{
 "cells": [
  {
   "cell_type": "markdown",
   "metadata": {},
   "source": [
    "<p style=\"color:#FFF; background:#06D; padding:12px; font-size:20px; font-style:italic; text-align:center\">\n",
"<span style=\"width:49%; display:inline-block; text-align:left\">Version 2025-06</span>\n",
"<span style=\"width:49%; display:inline-block; text-align:right\">Licence CC–BY–NC–ND</span>\n",
"<span style=\"font-size:40px; font-style:normal\"><b>EXERCICES : IPYTHON</b></span><br>\n",
"<span style=\"width:49%; display:inline-block; text-align:left\">Christophe Schlick</span>\n",
"<span style=\"width:49%; display:inline-block; text-align:right\">schlick ಄ u<b>-</b>bordeaux • fr</p>"
   ]
  },
  {
   "cell_type": "markdown",
   "metadata": {},
   "source": [
    "---\n",
    "> ***ATTENTION : Les exercices C4 et C5 ne seront pas traités en TD, mais pourront être faits en travail personnel et mis sur votre espace www au CREMI, selon les modalités définies sur le site web du cours***\n",
    "---\n",
    "\n",
    "L'objectif de cette feuille d'exercices est de voir comment mettre en oeuvre quelques unes des fonctionnalités avancées utilisables dans les notebooks, grâce aux trois packages **`doctest`**, **`ipywidgets`** et **`display`**. Avant de commencer cette feuille d'exercices, il est donc fortement recommandé de relire le notebook **04-IPython.ipynb** qui contient les éléments de cours correspondants."
   ]
  },
  {
   "cell_type": "code",
   "execution_count": null,
   "metadata": {
    "tags": []
   },
   "outputs": [],
   "source": [
    "from SRC.tools import show # import de la fonction 'show'\n",
    "import warnings; warnings.filterwarnings('ignore') # suppression des 'warning' de l'interpréteur"
   ]
  },
  {
   "cell_type": "markdown",
   "metadata": {
    "tags": []
   },
   "source": [
    "<h2 style=\"padding:16px; color:#FFF; background:#06D\">Exercice C1 - Utilisation du module 'doctest'</h2>\n",
    "\n",
    "Reprenez les fonctions suivantes, écrites dans les exercices B1, B2 et B3 :\n",
    "\n",
    "**`gcd(p,q)`** ● **`lcm(p,q)`** ● **`gcd_lcm(n)`** ● **`prime_eratos(n)`** ● **`latin(seq)`** ● **`show_grid(mat)`**\n",
    "\n",
    "et modifiez les docstrings pour inclure les éléments permettant de définir les tests unitaires, associés avec chacune des fonctions, en utilisant le formalisme du package **`doctest`**. Il faudra faire en sorte que les cas d'utilisation listés dans les tests soient suffisamment complets pour inclure l'ensemble des situations possibles pour les données entrantes (différents types de données pour les arguments, différents domaines pour les valeurs des arguments, etc). N'oubliez pas de rajouter dans le code des différentes fonctions, les clauses **`assert`** pour identifier les différentes causes d'erreurs potentielles. Vous pouvez également rajouter les annotations de fonctions pour compléter les informations sur les données entrantes et sortantes.\n",
    "\n",
    "> **Note :** La fonction **`latin(seq)`** utilise la fonction **`randrange`** pour créer les permutations aléatoires de la matrice, donc chaque exécution va donner un résultat différent, ce qui rend les tests unitaires systématiques impossibles. La solution consiste à forcer le générateur aléatoire à fournir exactement la même séquence de valeurs à chaque appel, grâce à la fonction **`seed`** du module **`random`**"
   ]
  },
  {
   "cell_type": "code",
   "execution_count": null,
   "metadata": {},
   "outputs": [],
   "source": [
    "# gcd(p,q)"
   ]
  },
  {
   "cell_type": "code",
   "execution_count": null,
   "metadata": {},
   "outputs": [],
   "source": [
    "# lcm(p,q)"
   ]
  },
  {
   "cell_type": "code",
   "execution_count": null,
   "metadata": {},
   "outputs": [],
   "source": [
    "# gcd_lcm(p,q)"
   ]
  },
  {
   "cell_type": "code",
   "execution_count": null,
   "metadata": {},
   "outputs": [],
   "source": [
    "# prime_eratos(n)"
   ]
  },
  {
   "cell_type": "code",
   "execution_count": null,
   "metadata": {},
   "outputs": [],
   "source": [
    "# latin(seq)"
   ]
  },
  {
   "cell_type": "code",
   "execution_count": null,
   "metadata": {},
   "outputs": [],
   "source": [
    "# show_grid(mat)"
   ]
  },
  {
   "cell_type": "markdown",
   "metadata": {},
   "source": [
    "---\n",
    "Pour activer les tests unitaires présents dans les docstrings, il suffit d'importer puis de lancer la fonction **`testmod`** :"
   ]
  },
  {
   "cell_type": "code",
   "execution_count": null,
   "metadata": {},
   "outputs": [],
   "source": [
    "from doctest import testmod\n",
    "testmod() # mise en oeuvre des tests avec affichage compact\n",
    "#testmod(verbose=True) # idem avec affichage détaillé"
   ]
  },
  {
   "cell_type": "markdown",
   "metadata": {},
   "source": [
    "<h2 style=\"padding:16px; color:#FFF; background:#06D\">Exercice C2 - Utilisation du module 'ipywidgets'</h2>\n",
    "\n",
    "Comme on l'a vu dans le chapitre 4, le package **`ipywidgets`** contient deux fonctions, **`interact`** et **`interact_manual`**, qui permettent d'insérer des widgets d'interaction pour saisir facilement les valeurs des paramètres des fonctions. En utilisant le principe général de mise en oeuvre décrit dans la section C du chapitre 4, l'objectif de l'exercice est d'arriver à rajouter des interacteurs pour certains des fonctions définies dans l'exercice précédent."
   ]
  },
  {
   "cell_type": "code",
   "execution_count": null,
   "metadata": {},
   "outputs": [],
   "source": [
    "from ipywidgets import interact, interact_manual # import des fonctions d'interaction"
   ]
  },
  {
   "cell_type": "markdown",
   "metadata": {},
   "source": [
    "---\n",
    "Ecrire une fonction **`show_eratos(n)`** qui permet d'utiliser la fonction **`prime_eratos(n)`** en ajoutant un curseur destiné à saisir la valeur de $n$ entre les bornes 2 et 2000 : "
   ]
  },
  {
   "cell_type": "code",
   "execution_count": null,
   "metadata": {},
   "outputs": [],
   "source": [
    "# show_eratos(n=2) # au départ, on positionne le curseur sur 2"
   ]
  },
  {
   "cell_type": "markdown",
   "metadata": {},
   "source": [
    "---\n",
    "Ecrire une fonction **`show_gcd_lcm(p,q)`** qui permet d'afficher le PGCD et le PPCM des deux entiers $p$ et $q$, dont les valeurs (comprises entre 1 et 1000) vont être saisies à l'aide de deux curseurs :"
   ]
  },
  {
   "cell_type": "code",
   "execution_count": null,
   "metadata": {},
   "outputs": [],
   "source": [
    "# show_gcd_lcm(p=1, q=1) # au départ, on positionne les deux curseurs sur 1"
   ]
  },
  {
   "cell_type": "markdown",
   "metadata": {},
   "source": [
    "---\n",
    "Ecrire une fonction **`show_latin(seq)`** qui permet d'afficher (via la fonction **`show_grid`**) un carré latin aléatoire généré à partir de **`seq`**. L'utilisateur pourra saisir la séquence en entrant une expression Python valide dans une widget fournissant une zone de saisie. Cette expression sera convertie vers le type de séquence adéquat (str, list, tuple, set...) par la fonction standard **`eval`** avant d'être passée en paramètre à la fonction **`latin`**. Pour cette fonction, on va utiliser le décorateur **`interact_manual`** afin de permettre à l'utilisateur de saisir l'expression Python correspondant à la séquence choisie, avant de lancer l'affichage du carré latin généré :"
   ]
  },
  {
   "cell_type": "code",
   "execution_count": null,
   "metadata": {},
   "outputs": [],
   "source": [
    "# show_latin(seq=\"'ABCDE'\") # on définit la chaîne 'ABCDE' comme séquence par défaut"
   ]
  },
  {
   "cell_type": "markdown",
   "metadata": {},
   "source": [
    "<h2 style=\"padding:16px; color:#FFF; background:#06D\">Exercice C3 - Utilisation du module 'display'</h2>\n",
    "\n",
    "Dans l'exercice B3, on a écrit une fonction **`show_grid(mat)`** qui utilisait les caractères **`-|+`** pour simuler l'affichage d'une grille à l'aide d'une chaîne de caractères multi-lignes. De même, dans l'exercice B5, on a écrit la fonction **`show_maze(maze)`** qui utilisait des motifs piochés dans le jeu de caractères ***box-drawing*** du standard Unicode pour l'affichage de labyrinthes. Néanmoins, même si ces deux fonctions donnent le résultat escompté, les chaînes de caractères ne constituent clairement pas l'outil idéal lorsqu'il s'agit de réaliser des affichages complexes dans un notebook. Comme on l'a vu au chapitre 4, l'interpréteur IPython fournit un module **`display`** permettant à un programme Python d'afficher des données multimédia extrêmement variées. L'objectif de cet exercice, est d'utiliser ce module pour réécrire les deux fonctions précédentes, en utilisant une sortie au **format HTML** pour **`show_grid`** et une sortie au **format SVG** pour **`show_maze`**"
   ]
  },
  {
   "cell_type": "code",
   "execution_count": null,
   "metadata": {},
   "outputs": [],
   "source": [
    "import IPython.display as dp # import du package 'Ipython.display' avec alias 'dp'"
   ]
  },
  {
   "cell_type": "markdown",
   "metadata": {},
   "source": [
    "---\n",
    "En s'inspirant de la fonction **`fold_seq(seq)`** vue dans le chapitre 4 du cours, réécrire la fonction **`show_grid(mat)`** en remplaçant l'utilisation des caractères **`-|+`** par une table HTML. On pourra consulter l'exemple de la table HTML fournie dans le chapitre 2, pour identifier les propriétés CSS permettant de tracer les bordures des cellules de la grille.\n",
    "\n",
    "Voici le résultat à obtenir pour une matrice de taille 6x20 contenant les entiers entre 1 et 120 :\n",
    "\n",
    "<table>\n",
    "<tr>\n",
    "<td style='border:2px solid black; background-color:#FFF'>1<td style='border:2px solid black; background-color:#FFF'>2<td style='border:2px solid black; background-color:#FFF'>3<td style='border:2px solid black; background-color:#FFF'>4<td style='border:2px solid black; background-color:#FFF'>5<td style='border:2px solid black; background-color:#FFF'>6<td style='border:2px solid black; background-color:#FFF'>7<td style='border:2px solid black; background-color:#FFF'>8<td style='border:2px solid black; background-color:#FFF'>9<td style='border:2px solid black; background-color:#FFF'>10<td style='border:2px solid black; background-color:#FFF'>11<td style='border:2px solid black; background-color:#FFF'>12<td style='border:2px solid black; background-color:#FFF'>13<td style='border:2px solid black; background-color:#FFF'>14<td style='border:2px solid black; background-color:#FFF'>15<td style='border:2px solid black; background-color:#FFF'>16<td style='border:2px solid black; background-color:#FFF'>17<td style='border:2px solid black; background-color:#FFF'>18<td style='border:2px solid black; background-color:#FFF'>19<td style='border:2px solid black; background-color:#FFF'>20\n",
    "<tr>\n",
    "<td style='border:2px solid black; background-color:#FFF'>21<td style='border:2px solid black; background-color:#FFF'>22<td style='border:2px solid black; background-color:#FFF'>23<td style='border:2px solid black; background-color:#FFF'>24<td style='border:2px solid black; background-color:#FFF'>25<td style='border:2px solid black; background-color:#FFF'>26<td style='border:2px solid black; background-color:#FFF'>27<td style='border:2px solid black; background-color:#FFF'>28<td style='border:2px solid black; background-color:#FFF'>29<td style='border:2px solid black; background-color:#FFF'>30<td style='border:2px solid black; background-color:#FFF'>31<td style='border:2px solid black; background-color:#FFF'>32<td style='border:2px solid black; background-color:#FFF'>33<td style='border:2px solid black; background-color:#FFF'>34<td style='border:2px solid black; background-color:#FFF'>35<td style='border:2px solid black; background-color:#FFF'>36<td style='border:2px solid black; background-color:#FFF'>37<td style='border:2px solid black; background-color:#FFF'>38<td style='border:2px solid black; background-color:#FFF'>39<td style='border:2px solid black; background-color:#FFF'>40\n",
    "<tr>\n",
    "<td style='border:2px solid black; background-color:#FFF'>41<td style='border:2px solid black; background-color:#FFF'>42<td style='border:2px solid black; background-color:#FFF'>43<td style='border:2px solid black; background-color:#FFF'>44<td style='border:2px solid black; background-color:#FFF'>45<td style='border:2px solid black; background-color:#FFF'>46<td style='border:2px solid black; background-color:#FFF'>47<td style='border:2px solid black; background-color:#FFF'>48<td style='border:2px solid black; background-color:#FFF'>49<td style='border:2px solid black; background-color:#FFF'>50<td style='border:2px solid black; background-color:#FFF'>51<td style='border:2px solid black; background-color:#FFF'>52<td style='border:2px solid black; background-color:#FFF'>53<td style='border:2px solid black; background-color:#FFF'>54<td style='border:2px solid black; background-color:#FFF'>55<td style='border:2px solid black; background-color:#FFF'>56<td style='border:2px solid black; background-color:#FFF'>57<td style='border:2px solid black; background-color:#FFF'>58<td style='border:2px solid black; background-color:#FFF'>59<td style='border:2px solid black; background-color:#FFF'>60\n",
    "<tr>\n",
    "<td style='border:2px solid black; background-color:#FFF'>61<td style='border:2px solid black; background-color:#FFF'>62<td style='border:2px solid black; background-color:#FFF'>63<td style='border:2px solid black; background-color:#FFF'>64<td style='border:2px solid black; background-color:#FFF'>65<td style='border:2px solid black; background-color:#FFF'>66<td style='border:2px solid black; background-color:#FFF'>67<td style='border:2px solid black; background-color:#FFF'>68<td style='border:2px solid black; background-color:#FFF'>69<td style='border:2px solid black; background-color:#FFF'>70<td style='border:2px solid black; background-color:#FFF'>71<td style='border:2px solid black; background-color:#FFF'>72<td style='border:2px solid black; background-color:#FFF'>73<td style='border:2px solid black; background-color:#FFF'>74<td style='border:2px solid black; background-color:#FFF'>75<td style='border:2px solid black; background-color:#FFF'>76<td style='border:2px solid black; background-color:#FFF'>77<td style='border:2px solid black; background-color:#FFF'>78<td style='border:2px solid black; background-color:#FFF'>79<td style='border:2px solid black; background-color:#FFF'>80\n",
    "<tr>\n",
    "<td style='border:2px solid black; background-color:#FFF'>81<td style='border:2px solid black; background-color:#FFF'>82<td style='border:2px solid black; background-color:#FFF'>83<td style='border:2px solid black; background-color:#FFF'>84<td style='border:2px solid black; background-color:#FFF'>85<td style='border:2px solid black; background-color:#FFF'>86<td style='border:2px solid black; background-color:#FFF'>87<td style='border:2px solid black; background-color:#FFF'>88<td style='border:2px solid black; background-color:#FFF'>89<td style='border:2px solid black; background-color:#FFF'>90<td style='border:2px solid black; background-color:#FFF'>91<td style='border:2px solid black; background-color:#FFF'>92<td style='border:2px solid black; background-color:#FFF'>93<td style='border:2px solid black; background-color:#FFF'>94<td style='border:2px solid black; background-color:#FFF'>95<td style='border:2px solid black; background-color:#FFF'>96<td style='border:2px solid black; background-color:#FFF'>97<td style='border:2px solid black; background-color:#FFF'>98<td style='border:2px solid black; background-color:#FFF'>99<td style='border:2px solid black; background-color:#FFF'>100\n",
    "<tr>\n",
    "<td style='border:2px solid black; background-color:#FFF'>101<td style='border:2px solid black; background-color:#FFF'>102<td style='border:2px solid black; background-color:#FFF'>103<td style='border:2px solid black; background-color:#FFF'>104<td style='border:2px solid black; background-color:#FFF'>105<td style='border:2px solid black; background-color:#FFF'>106<td style='border:2px solid black; background-color:#FFF'>107<td style='border:2px solid black; background-color:#FFF'>108<td style='border:2px solid black; background-color:#FFF'>109<td style='border:2px solid black; background-color:#FFF'>110<td style='border:2px solid black; background-color:#FFF'>111<td style='border:2px solid black; background-color:#FFF'>112<td style='border:2px solid black; background-color:#FFF'>113<td style='border:2px solid black; background-color:#FFF'>114<td style='border:2px solid black; background-color:#FFF'>115<td style='border:2px solid black; background-color:#FFF'>116<td style='border:2px solid black; background-color:#FFF'>117<td style='border:2px solid black; background-color:#FFF'>118<td style='border:2px solid black; background-color:#FFF'>119<td style='border:2px solid black; background-color:#FFF'>120\n",
    "</table>"
   ]
  },
  {
   "cell_type": "code",
   "execution_count": null,
   "metadata": {},
   "outputs": [],
   "source": [
    "# TODO :\n",
    "# partir du code de la fonction 'show_grid' de l'exercice B3\n",
    "# enlever tout ce qui concerne la gestion de la taille des cellules\n",
    "# et injecter des extraits du code de la fonction 'fold_seq' du chapitre 4"
   ]
  },
  {
   "cell_type": "code",
   "execution_count": null,
   "metadata": {
    "tags": []
   },
   "outputs": [],
   "source": [
    "show_grid([range(n, n+20) for n in range(1, 121, 20)])"
   ]
  },
  {
   "cell_type": "markdown",
   "metadata": {},
   "source": [
    "---\n",
    "Comme on l'a vu dans l'exercice A2, le langage **SVG** permet de créer des figures composées de tracés divers (droites, courbes, carrés, cercles, polygones, etc) dont on peut contrôler tous les aspects graphiques, et semble donc être un choix intéressant pour obtenir une visualisation de qualité pour les labyrinthes.\n",
    "\n",
    "En s'inspirant des exemples SVG vus précédemment, réécrire la fonction **`show_maze(maze)`** en remplaçant l'utilisation des motifs de caractères ***box-drawing*** par un code SVG pour obtenir le tracé du labyrinthe. La manière la plus simple pour arriver au résultat escompté, consiste à parcourir la liste stockée dans le paramètre **`maze`**, et afficher un carré noir (resp. carré blanc) pour chaque lettre 'A' (resp. lettre 'B') rencontrée. Par défaut, chaque case du labyrinthe est représentée par un carré de 8x8 pixels sur l'image SVG générée, mais cette taille peut être modifiée par l'utilisateur, en rajoutant un paramètre **`scale`** lors de l'appel à la fonction.\n",
    "\n",
    "Voici le résultat à obtenir pour la représentation du labyrinthe correspondant au fichier **`maze0.txt`** :\n",
    "\n",
    "<center><img src='IMG/maze.svg' width=160></center>"
   ]
  },
  {
   "cell_type": "code",
   "execution_count": null,
   "metadata": {},
   "outputs": [],
   "source": [
    "from SRC.tools import load\n",
    "maze = load('DATA/maze0.txt') # on charge un des labyrinthes à afficher"
   ]
  },
  {
   "cell_type": "code",
   "execution_count": null,
   "metadata": {},
   "outputs": [],
   "source": [
    "# TODO :\n",
    "# écrire l'entête et la docstring de la fonction show_maze(maze, scale=8)\n",
    "# utiliser les variables 'rows' et 'cols' pour stocker la taille du labyrinthe\n",
    "# utiliser une variable 'view' pour stocker la zone de tracé (width et viewBox)\n",
    "# utiliser un dictionnaire 'colors' associant noir à 'A' et blanc à 'B'\n",
    "# utiliser une liste 'svg' pour stocker une commande <rect> pour chaque cellule\n",
    "# ajouter la balise <svg> et afficher l'image générée"
   ]
  },
  {
   "cell_type": "code",
   "execution_count": null,
   "metadata": {},
   "outputs": [],
   "source": [
    "show_maze(maze) # on vérifie le résultat sur le labyrinthe choisi\n",
    "#show_maze(maze, scale=20) # idem en modifiant le facteur d'échelle pour l'affichage"
   ]
  },
  {
   "cell_type": "markdown",
   "metadata": {},
   "source": [
    "---\n",
    "Dans le dossier **DATA** figurent également les fichiers **walk0.txt, ..., walk6.txt** qui contiennent, pour chacun des 7 labyrinthes, le chemin le plus court entre l'entrée et la sortie. Ce chemin est défini par une suite de couples **(x,y)** correspondant aux cases successives parcourues par un marcheur traversant le labyrinthe en utilisant ce chemin. Voici, par exemple, un extrait du contenu du fichier **walk0.txt** :\n",
    "\n",
    "```\n",
    "#\n",
    "# Sample walk file (27 steps)\n",
    "#\n",
    "# Each line defines one walker step as (x,y) cell coordinates\n",
    "#\n",
    "\n",
    "0 1\n",
    "1 1\n",
    "1 2\n",
    "...\n",
    "12 13\n",
    "13 13\n",
    "14 13\n",
    "```\n",
    "\n",
    "La dernière question de l'exercice consiste à écrire une fonction **`show_walk(maze, walk, scale=8)`** qui va utiliser le contenu de deux fichiers ***mazeN.txt*** et ***walkN.txt*** d'un même labyrinthe pour afficher à la fois le tracé du labyrinthe et celui du chemin le traversant, en utilisant à nouveau **`scale`** comme facteur d'échelle.\n",
    "\n",
    "Voici le résultat à obtenir pour la représentation du labyrinthe correspondant au fichier **`walk0.txt`** :\n",
    "\n",
    "<center><img src='IMG/walk.svg' width=160></center>"
   ]
  },
  {
   "cell_type": "code",
   "execution_count": null,
   "metadata": {},
   "outputs": [],
   "source": [
    "maze, walk = load('DATA/maze0.txt'), load('DATA/walk0.txt')"
   ]
  },
  {
   "cell_type": "code",
   "execution_count": null,
   "metadata": {},
   "outputs": [],
   "source": [
    "def show_walk(maze, walk, scale=8):\n",
    "  \"\"\"display provided maze and walk as an SVG image, using 'scale' as scaling factor\"\"\"\n",
    "  # pas d'informations supplémentaires, à vous de coder..."
   ]
  },
  {
   "cell_type": "code",
   "execution_count": null,
   "metadata": {},
   "outputs": [],
   "source": [
    "show_walk(maze, walk) # on vérifie le résultat sur le labyrinthe choisi\n",
    "#show_walk(maze, walk, scale=20) # idem en modifiant le facteur d'échelle pour l'affichage"
   ]
  },
  {
   "cell_type": "markdown",
   "metadata": {},
   "source": [
    "<h2 style=\"padding:16px; color:#FFF; background:#06D\">Exercice C4 - Pixel Art</h2>\n",
    "\n",
    "Le but de l'exercice est de créer et d'afficher de manière interactive, une image de type [**Pixel Art**](https://en.wikipedia.org/wiki/Pixel_art) en générant une image SVG à partir d'un fichier texte. Comme dans l'exercice des labyrinthes, on fournit un ensemble de 7 fichiers textes semi-structurés, contenant la description de quelques images de faible résolution (de 64x64 à 128x128 pixels). Les fichiers se trouvent dans le dossier **DATA** et se nomment **pixelart0.txt, ..., pixelart6.txt** . Voici, par exemple, le contenu (tronqué pour des raisons de place) du fichier **pixelart0.txt** :\n",
    "\n",
    "```\n",
    "# Sample image file : 64x64 pixels, 2 colors\n",
    "#\n",
    "# The file content is splitted in two areas, separated by a 3-dot pattern '...'\n",
    "# - The top area contains one char per pixel, using one of the 64 possible chars\n",
    "#   'ABCDEFGHIJKLMNOPQRSTUVWXYZ+abcdefghijklmnopqrstuvwxyz-0123456789'\n",
    "# - The bottom area contains one standard 'RRGGBB' string for each color\n",
    "#   (one color per line, listed in the same order as the charset above)\n",
    "\n",
    "AAAAAAAABBBBBBBBAAAAAAAABBBBBBBBAAAAAAAABBBBBBBBAAAAAAAABBBBBBBB\n",
    "AAAAAAAABBBBBBBBAAAAAAAABBBBBBBBAAAAAAAABBBBBBBBAAAAAAAABBBBBBBB\n",
    "AAAAAAAABBBBBBBBAAAAAAAABBBBBBBBAAAAAAAABBBBBBBBAAAAAAAABBBBBBBB\n",
    "\n",
    " (il faut rajouter ici les 58 lignes de pixels intermédiaires)\n",
    "\n",
    "BBBBBBBBAAAAAAAABBBBBBBBAAAAAAAABBBBBBBBAAAAAAAABBBBBBBBAAAAAAAA\n",
    "BBBBBBBBAAAAAAAABBBBBBBBAAAAAAAABBBBBBBBAAAAAAAABBBBBBBBAAAAAAAA\n",
    "BBBBBBBBAAAAAAAABBBBBBBBAAAAAAAABBBBBBBBAAAAAAAABBBBBBBBAAAAAAAA\n",
    "...\n",
    "000000\n",
    "FFFFFF\n",
    "```"
   ]
  },
  {
   "cell_type": "markdown",
   "metadata": {},
   "source": [
    "---\n",
    "Les lignes de commentaires dans l'entête du fichier donnent la description du formalisme utilisé :\n",
    "\n",
    "- Le contenu du fichier se décompose en 2 parties, séparées par une ligne réduite à 3 points **`...`**\n",
    "\n",
    "- La première partie contient une série de lignes définissant ***la couleur de chaque pixel de l'image***, en utilisant un caractère par couleur. On met en oeuvre une chaîne d'encodage composée de 64 caractères différents (cf. la 5e ligne de commentaire dans le fichier), ce qui signifie que l'image ne peut contenir plus de 64 couleurs différentes\n",
    "\n",
    "- La seconde partie du fichier contient une série de lignes définissant ***les valeurs RGB des couleurs utilisées***, via une chaîne au format standard **`RRGGBB`**. Les couleurs sont listées (une par ligne) dans le même ordre que les 64 caractères de la chaîne d'encodage.\n",
    "\n",
    "Dans l'image **pixelart0.txt**, seules 2 couleurs sont utilisées sur les 64 possibles : plus précisément, chaque pixel de valeur **A** va correspondre à la couleur `#000000` et chaque pixel de valeur **B** à la couleur `#FFFFFF`.\n",
    "\n",
    "Voici le contenu visuel des 7 images stockés dans les 7 fichiers fournis : \n",
    "\n",
    "<center><img src=\"IMG/pixelart.png\"></center><br>\n",
    "\n",
    "A partir de ces fichiers semi-structurés, on va générer une image au format SVG dans laquelle chaque pixel est remplacé par un disque de même couleur. Pour donner un effet plus \"artistique\" au résultat, on va rajouter une perturbation aléatoire à la position de chaque disque par rapport à la grille régulière des pixels. Voici le résultat souhaité, appliqué à l'image **pixelart6.txt** ***(cliquer sur l'image pour afficher la version haute résolution)*** :\n",
    "\n",
    "<center><a href=\"IMG/pixelart++.png\"><img src=\"IMG/pixelart+.png\" width=\"480\"></a></center>"
   ]
  },
  {
   "cell_type": "markdown",
   "metadata": {},
   "source": [
    "---\n",
    "\n",
    "Le code à réaliser va être décomposé en deux fonctions :\n",
    "\n",
    "- Une fonction **`load_pixelart(filename)`** qui doit lire le contenu du fichier passé en paramètre et récupérer les informations concernant le code de chaque pixel et les différentes couleurs utilisées dans l'image\n",
    "\n",
    "- Une fonction **`show_pixelart(pixels, colors, scale=8)`** qui récupère les informations renvoyées par la fonction précédente, puis génère et affiche une image SVG dans le notebook"
   ]
  },
  {
   "cell_type": "code",
   "execution_count": null,
   "metadata": {
    "tags": []
   },
   "outputs": [],
   "source": [
    "# TODO :\n",
    "# écrire l'entête et la docstring de la fonction 'load_pixelart(filename)'\n",
    "# récupérer le contenu du fichier sous la forme d'une liste de lignes (fonction 'load')\n",
    "# stocker les lignes au-dessus  de la ligne '...' dans la variables 'pixels'\n",
    "# stocker les lignes en-dessous de la ligne '...' dans la variables 'colors'\n",
    "# modifier le contenu de 'colors' pour en faire un dictionnaire associant chaque caractère utilisé par\n",
    "# les pixels avec la couleur associée\n",
    "# retourner le couple (pixels, colors)"
   ]
  },
  {
   "cell_type": "markdown",
   "metadata": {},
   "source": [
    "Vérifier le code sur les différents fichiers texte :"
   ]
  },
  {
   "cell_type": "code",
   "execution_count": null,
   "metadata": {},
   "outputs": [],
   "source": [
    "pixels, colors = load_pixelart('DATA/pixelart0.txt')\n",
    "print(f\"Image  : {len(pixels)} rows x {len(pixels[0])} cols\") # show image size\n",
    "print(f\"Pixels : {pixels[0][:10]} ... {pixels[-1][-10:]}\") # show first 10 and last 10 pixels\n",
    "print(f\"Colors : {colors}\") # show color dictionary"
   ]
  },
  {
   "cell_type": "code",
   "execution_count": null,
   "metadata": {
    "tags": []
   },
   "outputs": [],
   "source": [
    "# TODO :\n",
    "# écrire l'entête et la docstring de la fonction 'show_pixelart(pixels, colors, scale=8)'\n",
    "# pour le code, il faut s'inspirer fortement de la fonction 'show_maze' (exercice C3)"
   ]
  },
  {
   "cell_type": "markdown",
   "metadata": {},
   "source": [
    "En appliquant la fonction sur l'exemple **pixelart6.txt**, on doit obtenir un résultat équivalent à l'image ci-dessus :"
   ]
  },
  {
   "cell_type": "code",
   "execution_count": null,
   "metadata": {},
   "outputs": [],
   "source": [
    "pixels, colors = load_pixelart('DATA/pixelart6.txt')\n",
    "show_pixart(pixels, colors)"
   ]
  },
  {
   "cell_type": "markdown",
   "metadata": {},
   "source": [
    "<h2 style=\"padding:16px; color:#FFF; background:#06D\">Exercice C5 - Génération et résolution de labyrinthes</h2>\n",
    "\n",
    "Le but de l'exercice est de compléter le code de l'exercice C3, en créant un système interactif, à l'aide des modules **`ipywidgets`** et **`display`**, pour générer et résoudre des labyrinthes aléatoires de tailles arbitraires. La figure ci-dessous illustre le type d'interface que l'on souhaite obtenir :\n",
    "\n",
    "<center><img src='IMG/maze.png' width='640px'></center>\n",
    "\n",
    "L'utilisateur commence par choisir la taille de son labyrinthe avec les deux curseurs à gauche, et saisir le nom d'un fichier texte dans la zone de droite. Ensuite lorsqu'il appuie sur le bouton ***Generate Maze***, l'interface appelle une fonction **`make_maze(row, col, name)`** qui va générer un labyrinthe aléatoire de taille **row** x **col** et le stocker dans le fichier **name**, au même format que les fichiers ***mazeN.txt*** de l'exercice précédent. Et si l'utilisateur appuie sur le bouton ***Generate Walk***, l'interface appelle une fonction **`make_walk(row, col, name)`** qui va trouver le chemin le plus court entre l'entrée et la sortie, et stocker le chemin dans le fichier **name**, au même format que les fichiers ***walkN.txt*** de l'exercice précédent. En parallèle, le labyrinthe (ou le chemin) obtenu est affiché en-dessous en réutilisant les fonctions d'affichage au format SVG, écrites dans l'exercice C3.\n",
    "\n",
    "Pour arriver à faire l'exercice, il est conseillé de lire les quatre références suivantes :\n",
    "- La [**documentation**](https://ipywidgets.readthedocs.io/en/7.x)  du package **`ipywidget`**\n",
    "- La page [**Wikipedia**](https://fr.wikipedia.org/wiki/Mod%C3%A9lisation_math%C3%A9matique_d%27un_labyrinthe) sur la ***modélisation mathématique des labyrinthes***\n",
    "- La page [**Wikipedia**](https://fr.wikipedia.org/wiki/Algorithme_de_Dijkstra) sur l'***algorithme de Dijkstra*** permettant de trouver le plus court chemin dans un graphe\n",
    "- La page [**Wikipedia**](https://fr.wikipedia.org/wiki/Algorithme_A*) sur l'***algorithme A***✶, une version heuristiquement optimisée de l'algorithme de Dijkstra"
   ]
  },
  {
   "cell_type": "code",
   "execution_count": null,
   "metadata": {},
   "outputs": [],
   "source": [
    "# TODO : Pas d'autres indications, à vous de coder..."
   ]
  },
  {
   "cell_type": "markdown",
   "metadata": {},
   "source": [
    "<div style=\"padding:8px; margin:0px -20px; color:#FFF; background:#06D; text-align:right\">● ● ● </div>"
   ]
  }
 ],
 "metadata": {
  "kernelspec": {
   "display_name": "Python 3 (ipykernel)",
   "language": "python",
   "name": "python3"
  },
  "language_info": {
   "codemirror_mode": {
    "name": "ipython",
    "version": 3
   },
   "file_extension": ".py",
   "mimetype": "text/x-python",
   "name": "python",
   "nbconvert_exporter": "python",
   "pygments_lexer": "ipython3",
   "version": "3.12.4"
  }
 },
 "nbformat": 4,
 "nbformat_minor": 4
}
