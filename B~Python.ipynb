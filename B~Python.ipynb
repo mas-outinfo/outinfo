{
 "cells": [
  {
   "cell_type": "markdown",
   "metadata": {},
   "source": [
    "<p style=\"color:#FFF; background:#06D; padding:12px; font-size:20px; font-style:italic; text-align:center\">\n",
    "<span style=\"width:49%; display:inline-block; text-align:left\">Version 2025-06</span>\n",
    "<span style=\"width:49%; display:inline-block; text-align:right\">Licence CC–BY–NC–ND</span>\n",
    "<span style=\"font-size:40px; font-style:normal\"><b>EXERCICES : PYTHON</b></span><br>\n",
    "<span style=\"width:49%; display:inline-block; text-align:left\">Christophe Schlick</span>\n",
    "<span style=\"width:49%; display:inline-block; text-align:right\">schlick ಄ u<b>-</b>bordeaux • fr</p>"
   ]
  },
  {
   "cell_type": "markdown",
   "metadata": {},
   "source": [
    "---\n",
    "> ***ATTENTION : Les exercices B8, B9 et B10 ne seront pas traités en TD, mais pourront être fait en travail personnel et mis sur votre espace www au CREMI, selon les modalités définies sur le site web du cours***\n",
    "---\n",
    "\n",
    "L'objectif de cette feuille d'exercices est de rappeler **la syntaxe et les fonctionnalités de base fournies par le noyau du langage Python** (types de données, test et boucles, fonctions, entrées/sorties en mode texte). Toutes les feuilles d'exercices de ce cours sont organisées selon le même principe : pour chaque exercice, il faudra créer une série de cellules de code en Python, chacune permettant de résoudre une étape de la solution. Pour chaque étape, une cellule de code contenant quelques commentaires vont permettre de résumer le code à produire pour l'étape en cours.\n",
    "\n",
    "> **Note :** Pour l'ensemble du code Python à écrire, il est impératif de respecter les bonnes pratiques recommandées par la communauté des développeurs utilisant le langage Python :\n",
    "> - Utilisation exclusive de l'anglais pour tous les identificateurs, les commentaires et les informations affichées par l'interface (nous verrons dans un TD ultérieur, comment faire pour créer des interfaces multilingues, facilement modifiables et extensibles)\n",
    "> - Utilisation cohérente de l'indentation des blocs de code (au choix : 2 espaces ou 4 espaces)\n",
    "> - Limitation de la taille des lignes de code à 80 caractères, indentations comprises. En incluant les commentaires de fin de ligne, il est admis de pouvoir dépasser cette limite, mais restant à une taille inférieure à 120 caractères. Enfin, pour certains cas particuliers (par exemple, chaîne de caractères que l'on ne souhaite pas couper) on pourra exceptionnellement dépasser cette limite de 80 caractères par ligne\n",
    "> - Utilisation systématique de docstrings pour toutes les fonctions\n",
    "> - Pour la version finale des fonctions, inclusion des cas d'utilisation au format **doctest**\n",
    "\n",
    "Avant de commencer cette feuille d'exercices, il est fortement recommandé de relire le notebook **03-Python.ipynb** ainsi que la section A du notebook **04-IPython.ipynb** qui contient les éléments de cours correspondants."
   ]
  },
  {
   "cell_type": "code",
   "execution_count": 1,
   "metadata": {
    "tags": []
   },
   "outputs": [],
   "source": [
    "from SRC.tools import show # import de la fonction 'show' du module 'tools'"
   ]
  },
  {
   "cell_type": "markdown",
   "metadata": {},
   "source": [
    "<h2 style=\"padding:16px; color:#FFF; background:#06D\">Exercice B1 - PGCD et PPCM</h2>\n",
    "\n",
    "On cherche à créer la table des **PGCD/PPCM** (*Plus Grand Commun Diviseur* / *Plus Petit Commun Multiple*) pour les couples d'entiers $(p,q)$ compris entre 1 et $n$ (la borne supérieure $n$ est supposée fournie par l'utilisateur)\n",
    "\n",
    "> **Note :** En anglais, **PGCD** se dit **GCD** *(Greatest Common Divisor)* et **PPCM** se dit **LCM** *(Least Common Multiplier)*\n",
    "\n",
    "---\n",
    "### GCD (version itérative)\n",
    "Ecrire une fonction **`gcd(p,q)`** permettant de calculer le **PGCD** des entiers $p$ et $q$ en utilisant la ***version itérative*** de [**l'algorithme d'Euclide**](https://fr.wikipedia.org/wiki/Algorithme_d%27Euclide)."
   ]
  },
  {
   "cell_type": "code",
   "execution_count": 2,
   "metadata": {
    "tags": []
   },
   "outputs": [],
   "source": [
    "# TODO :\n",
    "# écrire l'entête et la docstring de la fonction gcd(p, q)\n",
    "# analyser la version itérative de l'algorithme d'Euclide (cf. lien ci-dessus) et la traduire en Python\n",
    "# Note : la fonction complète peut s'écrire en 3 instructions..."
   ]
  },
  {
   "cell_type": "markdown",
   "metadata": {},
   "source": [
    "Vérifier l'algorithme en l'appliquant sur les exemples suivants :"
   ]
  },
  {
   "cell_type": "code",
   "execution_count": 4,
   "metadata": {},
   "outputs": [
    {
     "data": {
      "text/plain": [
       "(1, 2, 3, 4, 5)"
      ]
     },
     "execution_count": 4,
     "metadata": {},
     "output_type": "execute_result"
    }
   ],
   "source": [
    "gcd(5,2), gcd(10,6), gcd(9,12), gcd(8,36), gcd(50,15) # on doit obtenir : (1,2,3,4,5)"
   ]
  },
  {
   "cell_type": "markdown",
   "metadata": {},
   "source": [
    "---\n",
    "### GCD (version récursive)\n",
    "Ecrire une fonction **`gcd_r(p,q)`** permettant de calculer le PGCD des entiers $p$ et $q$ en utilisant la ***version récursive*** de [**l'algorithme d'Euclide**](https://fr.wikipedia.org/wiki/Algorithme_d%27Euclide)."
   ]
  },
  {
   "cell_type": "code",
   "execution_count": 5,
   "metadata": {
    "tags": []
   },
   "outputs": [],
   "source": [
    "# TODO :\n",
    "# écrire l'entête et la docstring de la fonction gcd_r(p, q)\n",
    "# analyser la version récursive de l'algorithme d'Euclide (cf. lien ci-dessus) et la traduire en Python\n",
    "# Note : la fonction complète peut s'écrire en 1 seule instruction..."
   ]
  },
  {
   "cell_type": "markdown",
   "metadata": {},
   "source": [
    "Vérifier l'algorithme en l'appliquant sur les même exemples que précédemment :"
   ]
  },
  {
   "cell_type": "code",
   "execution_count": 7,
   "metadata": {},
   "outputs": [
    {
     "data": {
      "text/plain": [
       "(1, 2, 3, 4, 5)"
      ]
     },
     "execution_count": 7,
     "metadata": {},
     "output_type": "execute_result"
    }
   ],
   "source": [
    "gcd_r(5,2), gcd_r(10,6), gcd_r(9,12), gcd_r(8,36), gcd_r(50,15) # on doit obtenir : (1,2,3,4,5)"
   ]
  },
  {
   "cell_type": "markdown",
   "metadata": {},
   "source": [
    "---\n",
    "### Benchmarking\n",
    "Tester la vitesse d'exécution des deux implémentations, avec la commande magique **`%timeit`** . Généralement, ***la mesure de performance est plus précise lorsqu'on teste les algorithmes sur des cas difficiles***. Pour le PCGD, un tel cas est obtenu en définissant $p$ et $q$ comme des produits de grands nombres premiers. Par exemple :\n",
    "\n",
    "$$\\begin{align}\n",
    "& p = \\pi_1 \\pi_3 \\\\\n",
    "& q = \\pi_2 \\pi_3 \\\\\n",
    "& {\\sf avec}\\\\\n",
    "& \\pi_1 = {\\scriptsize 3546245297457217493590449191748546458005595187661976371} \\\\\n",
    "& \\pi_2 = {\\scriptsize 14693679385278593849609206715278070972733319459651094018859396328480215743184089660644531} \\\\\n",
    "& \\pi_3 = {\\scriptsize 85053461164796801949539541639542805770666392330682673302530819774105141531698707146930307290253537320447270457}\n",
    "\\end{align}$$\n",
    "\n",
    "La commande **`%timeit`** va mettre l'instruction à tester dans une boucle de $n$ itérations, puis répéter $r$ fois cette boucle, afin de pouvoir établir un temps d'exécution moyen ainsi que l'écart-type associé. Par défaut, le nombre de boucles (**loops** dans la terminologie du benchmarking) est automatiquement calculé en fonction de la complexité de la fonction (en piochant parmi les valeurs 10, 100, 1000 et 10000), mais l'utilisateur peut forcer un nombre spécifique d'itérations avec l'option **`-n xxxx`**. De même, le nombre de répétitions (**runs** dans la terminologie du benchmarking) est défini à 7 par défaut, mais sa valeur peut être forcée avec l'option **`-r xxxx`**"
   ]
  },
  {
   "cell_type": "code",
   "execution_count": 8,
   "metadata": {},
   "outputs": [],
   "source": [
    "# TODO :\n",
    "# définir les variables pi1, pi2 et pi3, puis p et q\n",
    "# vérifier que gcd(p,q) est bien égal à pi3 (idem pour gcd_r)\n",
    "# mesurer les temps d'exécution des 2 fonctions avec %timeit, en utilisant 5000 loops et 50 runs"
   ]
  },
  {
   "cell_type": "markdown",
   "metadata": {},
   "source": [
    "---\n",
    "### Robustesse\n",
    "Réécrire la fonction **`gcd`** en y ajoutant une clause **`assert`** permettant de garantir que le calcul ne sera mis en oeuvre que si les deux arguments $p$ et $q$ sont des entiers strictement positifs"
   ]
  },
  {
   "cell_type": "code",
   "execution_count": 10,
   "metadata": {},
   "outputs": [],
   "source": [
    "# TODO :\n",
    "# identifier les 4 conditions devant être vérifiées par 'p' et 'q'\n",
    "# ajouter une clause 'assert' avant l'instruction 'while' en insérant ces 4 conditions\n",
    "# mettre un message d'erreur précis lorsque les 4 conditions ne sont pas remplies"
   ]
  },
  {
   "cell_type": "markdown",
   "metadata": {},
   "source": [
    "Vérifier que les 3 cas suivants provoquent bien une **`AssertionError`** :"
   ]
  },
  {
   "cell_type": "code",
   "execution_count": 12,
   "metadata": {},
   "outputs": [],
   "source": [
    "# Note : enlevez, un par un, le caractère '#' devant chacun ligne pour tester les différents cas\n",
    "#gcd(3,0)\n",
    "#gcd(6,-2)\n",
    "#gcd(1.5,3)"
   ]
  },
  {
   "cell_type": "markdown",
   "metadata": {
    "tags": []
   },
   "source": [
    "---\n",
    "### LCM (version flemmarde)\n",
    "Ecrire une fonction **`lcm(p,q)`** permettant de calculer le **PPCM** des entiers $p$ et $q$ en utilisant l'algorithme qui vous semble le moins fatigant"
   ]
  },
  {
   "cell_type": "code",
   "execution_count": 13,
   "metadata": {},
   "outputs": [],
   "source": [
    "# TODO :\n",
    "# écrire l'entête et la docstring de la fonction lcm(p, q)\n",
    "# trouver l'astuce permettant de réduire le code de la fonction au plus court\n",
    "# Note : l'implémentation la plus simple nécessite 1 seule instruction"
   ]
  },
  {
   "cell_type": "markdown",
   "metadata": {},
   "source": [
    "Vérifier votre algorithme en l'appliquant sur les exemples suivants :"
   ]
  },
  {
   "cell_type": "code",
   "execution_count": 15,
   "metadata": {},
   "outputs": [
    {
     "data": {
      "text/plain": [
       "(10, 30, 36, 72, 150)"
      ]
     },
     "execution_count": 15,
     "metadata": {},
     "output_type": "execute_result"
    }
   ],
   "source": [
    "lcm(5,2), lcm(10,6), lcm(9,12), lcm(8,36), lcm(50,15) # on doit obtenir : (10,30,36,72,150)"
   ]
  },
  {
   "cell_type": "markdown",
   "metadata": {},
   "source": [
    "Vérifier que les 3 cas suivants provoquent bien une **`AssertionError`** :"
   ]
  },
  {
   "cell_type": "code",
   "execution_count": 16,
   "metadata": {},
   "outputs": [],
   "source": [
    "# Note : enlevez, un par un, le caractère '#' devant chacun ligne pour tester les différents cas\n",
    "#lcm(3,0)\n",
    "#lcm(6,-2)\n",
    "#lcm(1.5,3)"
   ]
  },
  {
   "cell_type": "markdown",
   "metadata": {
    "tags": []
   },
   "source": [
    "---\n",
    "### Matrice GCD/LCM (format CSV)\n",
    "\n",
    "A partir des fonctions **`gcd`** et **`lcm`**, on peut construire une **matrice GCD/LCM**, définie de la manière suivante :\n",
    "\n",
    "$$\n",
    "M = [m_{pq}]\\; {\\sf avec}\\;\n",
    "\\left\\{\\begin{align}\n",
    "m_{pq} = &\\, {\\sf gcd}(p,q)\\; {\\sf si}\\, p < q\\\\ ~\\\\\n",
    "m_{pq} = &\\, {\\sf lcm}(p,q)\\; {\\sf sinon}\n",
    "\\end{align}\\right.\n",
    "$$\n",
    "\n",
    "Ecrire une fonction **`gcd_lcm(n)`** permettant de créer cette matrice GCD/LCM de taille $n \\times n$ sous la forme d'une chaîne de caractères au format **CSV** (*Comma Separated Values*). La fonction devra construire la chaîne CSV de manière incrémentale (case par case) en utilisant la virgule **`,`** commme séparateur de colonnes et le retour à la ligne **`\\n`** comme séparateur de lignes. Pour améliorer la lisibilité du résultat, les virgule de chaque colonne devront être alignées verticalement, ce qui implique que le contenu de chaque case de la matrice devra utiliser le même nombre de caractères. A titre d'exemple, voici ce que doit renvoyer la fonction pour $n=9$ :\n",
    "```\n",
    " 1,  1,  1,  1,  1,  1,  1,  1,  1\n",
    " 2,  2,  1,  2,  1,  2,  1,  2,  1\n",
    " 3,  6,  3,  1,  1,  3,  1,  1,  3\n",
    " 4,  4, 12,  4,  1,  2,  1,  4,  1\n",
    " 5, 10, 15, 20,  5,  1,  1,  1,  1\n",
    " 6,  6,  6, 12, 30,  6,  1,  2,  3\n",
    " 7, 14, 21, 28, 35, 42,  7,  1,  1\n",
    " 8,  8, 24,  8, 40, 24, 56,  8,  1\n",
    " 9, 18,  9, 36, 45, 18, 63, 72,  9\n",
    "```"
   ]
  },
  {
   "cell_type": "code",
   "execution_count": 17,
   "metadata": {},
   "outputs": [],
   "source": [
    "# TODO :\n",
    "# écrire l'entête et la docstring de la fonction gcd_lcm(n)\n",
    "# définir les variables 'rowsep' et 'colsep' pour stocker les séparateurs de lignes et de colonnes\n",
    "# trouver le nombre maximum de chiffres utilisés pour écrire le contenu des cases de la matrice\n",
    "# utiliser les f-strings (chaînes formatées) avec alignement pour définir la largeur des cases\n",
    "# construire une chaîne 'csv' de manière incrémentale, en appelant soit 'gcd(...)', soit 'lcm(...)'"
   ]
  },
  {
   "cell_type": "markdown",
   "metadata": {},
   "source": [
    "Vérifier l'implémentation en comparant l'affichage obtenu avec l'exemple ci-dessus pour **$n = 9$** :"
   ]
  },
  {
   "cell_type": "code",
   "execution_count": 20,
   "metadata": {},
   "outputs": [
    {
     "name": "stdout",
     "output_type": "stream",
     "text": [
      " 1,  1,  1,  1,  1,  1,  1,  1,  1\n",
      " 2,  2,  1,  2,  1,  2,  1,  2,  1\n",
      " 3,  6,  3,  1,  1,  3,  1,  1,  3\n",
      " 4,  4, 12,  4,  1,  2,  1,  4,  1\n",
      " 5, 10, 15, 20,  5,  1,  1,  1,  1\n",
      " 6,  6,  6, 12, 30,  6,  1,  2,  3\n",
      " 7, 14, 21, 28, 35, 42,  7,  1,  1\n",
      " 8,  8, 24,  8, 40, 24, 56,  8,  1\n",
      " 9, 18,  9, 36, 45, 18, 63, 72,  9\n",
      "\n"
     ]
    }
   ],
   "source": [
    "print(gcd_lcm(9))"
   ]
  },
  {
   "cell_type": "markdown",
   "metadata": {
    "tags": []
   },
   "source": [
    "<h2 style=\"padding:16px; color:#FFF; background:#06D\">Exercice B2 - Nombres premiers</h2>\n",
    "\n",
    "On souhaite obtenir la liste de ***tous les nombres premiers inférieurs à une valeur $n$ donnée***. Comme c'est le cas très souvent en algorithmique numérique, il existe plusieurs manières pour effectuer ce type de calcul. Dans cet exercice, on va donc implémenter et comparer deux algorithmes différents pour identifier les nombres premiers :\n",
    "\n",
    "- Le premier algorithme est celui des **[divisions successives](https://fr.wikipedia.org/wiki/Test_de_primalit%C3%A9)** qui consiste à tester une série de diviseurs sur un nombre dont on souhaite connaître la primalité. Plus précisément, l'algorithme va stocker dans une liste extensible, les nombres premiers au fur et à mesure de leur identification. Ainsi, pour chaque nouveau nombre $p$ à tester, cette liste permettra de fournir la liste de diviseurs à utiliser pour le test de primalité. Si $p$ n'est divisible par aucun des nombres premiers plus petits que lui, cela signifie qu'il est également premier, et on le rajoute donc dans la liste.\n",
    "\n",
    "- Le second algorithme est celui du **[crible d'Eratosthène](https://fr.wikipedia.org/wiki/Crible_d%27%C3%89ratosth%C3%A8ne)** qui consiste à établir d'abord la liste des nombres qui ne sont pas premiers, afin d'obtenir la liste des nombres premiers, par complémentarité. Plus précisément, l'algorithme va stocker, pour chaque nombre premier $p$ identifié, l'ensemble de ses multiples dont la valeur est inférieure à $n$. Lorsque tous les nombres inférieurs à $n$ auront été traités, les éléments qui ne figurent pas dans l'ensemble des multiples seront nécessairement des nombres premiers."
   ]
  },
  {
   "cell_type": "markdown",
   "metadata": {
    "tags": []
   },
   "source": [
    "---\n",
    "### Algorithme des divisions successives\n",
    "\n",
    "L'écriture de la fonction **`prime_divloop(n)`** implémentant les divisions successives ne présente pas de difficultés particulières. Pour accélérer le calcul, on utilisera les deux astuces figurant dans l'article Wikipédia cité plus haut :\n",
    "\n",
    "- Comme le nombre ***2*** est le seul nombre premier pair, on l'inclut dans la liste dès le départ, et par la suite on ne traite que les nombres impairs\n",
    "- Si pour un nombre $p$ donné, il n'existe aucun diviseur inférieur à $\\sqrt p$, il est inutile de chercher au-delà, car il ne pourra pas exister de diviseur supérieur à $\\sqrt p$"
   ]
  },
  {
   "cell_type": "code",
   "execution_count": 21,
   "metadata": {},
   "outputs": [],
   "source": [
    "# TODO :\n",
    "# écrire l'entête et la docstring de la fonction prime_divloop(n)\n",
    "# utiliser une liste 'primes' pour stocker les nombres premiers déjà trouvés\n",
    "# on traite le nombre 2 à part, en l'insérant dans 'primes' dès le départ\n",
    "# utiliser deux boucles imbriquées (une pour les nombres à tester et une pour les diviseurs)\n",
    "# identifier et implémenter les 2 tests d'arrêts de la boucle interne : premier ou non-premier\n",
    "# renvoyer la liste 'primes' lorsque tous les nombres entre 2 et 'n' ont été traités"
   ]
  },
  {
   "cell_type": "markdown",
   "metadata": {},
   "source": [
    "Vérifier l'algorithme en l'appliquant sur une petite valeur de $n$ :"
   ]
  },
  {
   "cell_type": "code",
   "execution_count": 23,
   "metadata": {
    "tags": []
   },
   "outputs": [
    {
     "data": {
      "text/plain": [
       "[2, 3, 5, 7, 11, 13, 17, 19, 23, 29, 31, 37, 41, 43, 47]"
      ]
     },
     "execution_count": 23,
     "metadata": {},
     "output_type": "execute_result"
    }
   ],
   "source": [
    "prime_divloop(50) # on doit obtenir : [2, 3, 5, 7, 11, 13, 17, 19, 23, 29, 31, 37, 41, 43, 47]"
   ]
  },
  {
   "cell_type": "markdown",
   "metadata": {},
   "source": [
    "Pour des grandes valeurs de $n$, l'instruction **`print`** permet un affichage plus compact :"
   ]
  },
  {
   "cell_type": "code",
   "execution_count": 24,
   "metadata": {
    "tags": []
   },
   "outputs": [
    {
     "name": "stdout",
     "output_type": "stream",
     "text": [
      "[2, 3, 5, 7, 11, 13, 17, 19, 23, 29, 31, 37, 41, 43, 47, 53, 59, 61, 67, 71, 73, 79, 83, 89, 97, 101, 103, 107, 109, 113, 127, 131, 137, 139, 149, 151, 157, 163, 167, 173, 179, 181, 191, 193, 197, 199, 211, 223, 227, 229, 233, 239, 241, 251, 257, 263, 269, 271, 277, 281, 283, 293, 307, 311, 313, 317, 331, 337, 347, 349, 353, 359, 367, 373, 379, 383, 389, 397, 401, 409, 419, 421, 431, 433, 439, 443, 449, 457, 461, 463, 467, 479, 487, 491, 499, 503, 509, 521, 523, 541, 547, 557, 563, 569, 571, 577, 587, 593, 599, 601, 607, 613, 617, 619, 631, 641, 643, 647, 653, 659, 661, 673, 677, 683, 691, 701, 709, 719, 727, 733, 739, 743, 751, 757, 761, 769, 773, 787, 797, 809, 811, 821, 823, 827, 829, 839, 853, 857, 859, 863, 877, 881, 883, 887, 907, 911, 919, 929, 937, 941, 947, 953, 967, 971, 977, 983, 991, 997, 1009, 1013, 1019, 1021, 1031, 1033, 1039, 1049, 1051, 1061, 1063, 1069, 1087, 1091, 1093, 1097, 1103, 1109, 1117, 1123, 1129, 1151, 1153, 1163, 1171, 1181, 1187, 1193, 1201, 1213, 1217, 1223, 1229, 1231, 1237, 1249, 1259, 1277, 1279, 1283, 1289, 1291, 1297, 1301, 1303, 1307, 1319, 1321, 1327, 1361, 1367, 1373, 1381, 1399, 1409, 1423, 1427, 1429, 1433, 1439, 1447, 1451, 1453, 1459, 1471, 1481, 1483, 1487, 1489, 1493, 1499, 1511, 1523, 1531, 1543, 1549, 1553, 1559, 1567, 1571, 1579, 1583, 1597, 1601, 1607, 1609, 1613, 1619, 1621, 1627, 1637, 1657, 1663, 1667, 1669, 1693, 1697, 1699, 1709, 1721, 1723, 1733, 1741, 1747, 1753, 1759, 1777, 1783, 1787, 1789, 1801, 1811, 1823, 1831, 1847, 1861, 1867, 1871, 1873, 1877, 1879, 1889, 1901, 1907, 1913, 1931, 1933, 1949, 1951, 1973, 1979, 1987, 1993, 1997, 1999]\n"
     ]
    }
   ],
   "source": [
    "print(prime_divloop(2000)) # on doit obtenir : [2, 3, 5, 7, ..., 1987, 1993, 1997, 1999]"
   ]
  },
  {
   "cell_type": "markdown",
   "metadata": {},
   "source": [
    "On peut également utiliser la commande **`print`** avec le préfixe **`*`** pour développer la liste :"
   ]
  },
  {
   "cell_type": "code",
   "execution_count": 25,
   "metadata": {
    "tags": []
   },
   "outputs": [
    {
     "name": "stdout",
     "output_type": "stream",
     "text": [
      "2 3 5 7 11 13 17 19 23 29 31 37 41 43 47 53 59 61 67 71 73 79 83 89 97 101 103 107 109 113 127 131 137 139 149 151 157 163 167 173 179 181 191 193 197 199 211 223 227 229 233 239 241 251 257 263 269 271 277 281 283 293 307 311 313 317 331 337 347 349 353 359 367 373 379 383 389 397 401 409 419 421 431 433 439 443 449 457 461 463 467 479 487 491 499 503 509 521 523 541 547 557 563 569 571 577 587 593 599 601 607 613 617 619 631 641 643 647 653 659 661 673 677 683 691 701 709 719 727 733 739 743 751 757 761 769 773 787 797 809 811 821 823 827 829 839 853 857 859 863 877 881 883 887 907 911 919 929 937 941 947 953 967 971 977 983 991 997 1009 1013 1019 1021 1031 1033 1039 1049 1051 1061 1063 1069 1087 1091 1093 1097 1103 1109 1117 1123 1129 1151 1153 1163 1171 1181 1187 1193 1201 1213 1217 1223 1229 1231 1237 1249 1259 1277 1279 1283 1289 1291 1297 1301 1303 1307 1319 1321 1327 1361 1367 1373 1381 1399 1409 1423 1427 1429 1433 1439 1447 1451 1453 1459 1471 1481 1483 1487 1489 1493 1499 1511 1523 1531 1543 1549 1553 1559 1567 1571 1579 1583 1597 1601 1607 1609 1613 1619 1621 1627 1637 1657 1663 1667 1669 1693 1697 1699 1709 1721 1723 1733 1741 1747 1753 1759 1777 1783 1787 1789 1801 1811 1823 1831 1847 1861 1867 1871 1873 1877 1879 1889 1901 1907 1913 1931 1933 1949 1951 1973 1979 1987 1993 1997 1999\n"
     ]
    }
   ],
   "source": [
    "print(*prime_divloop(2000)) # on doit obtenir : 2 3 5 7 ... 1987 1993 1997 1999"
   ]
  },
  {
   "cell_type": "markdown",
   "metadata": {},
   "source": [
    "---\n",
    "### Algorithme du crible d'Eratosthène\n",
    "\n",
    "L'écriture de la fonction **`prime_eratos(n)`** implémentant le crible d'Eratosthène, est un peu plus subtile. En plus de la liste **`primes`** pour stocker les nombres premiers identifiés, l'algorithme utilise également un ensemble **`not_primes`** dans lequel on insère tous les multiples des nombres traités. Comme précédemment on peut utiliser une astuce pour accélérer les calculs: seuls les multiples impairs ont besoin d'être stockés, puisque les nombres pairs ne seront jamais traités par le processus :"
   ]
  },
  {
   "cell_type": "code",
   "execution_count": 26,
   "metadata": {},
   "outputs": [],
   "source": [
    "# TODO :\n",
    "# écrire l'entête et la docstring de la fonction prime_eratos(n)\n",
    "# utiliser une liste 'primes' pour stocker les nombres premiers déjà trouvés\n",
    "# utiliser un ensemble 'not_primes' pour stocker les multiples déjà trouvés\n",
    "# on traite le nombre 2 à part, en l'insérant dans 'primes' dès le départ\n",
    "# utiliser deux boucles imbriquées (une pour les nombres à tester et une pour les multiples)\n",
    "# identifier et implémenter les 2 tests d'arrêts de la boucle interne : premier ou non-premier\n",
    "# renvoyer la liste 'primes' lorsque tous les nombres entre 2 et 'n' ont été traités"
   ]
  },
  {
   "cell_type": "code",
   "execution_count": 28,
   "metadata": {
    "tags": []
   },
   "outputs": [
    {
     "data": {
      "text/plain": [
       "[2, 3, 5, 7, 11, 13, 17, 19, 23, 29, 31, 37, 41, 43, 47]"
      ]
     },
     "execution_count": 28,
     "metadata": {},
     "output_type": "execute_result"
    }
   ],
   "source": [
    "prime_eratos(50) # on doit obtenir : [2, 3, 5, 7, 11, 13, 17, 19, 23, 29, 31, 37, 41, 43, 47]"
   ]
  },
  {
   "cell_type": "code",
   "execution_count": 29,
   "metadata": {
    "tags": []
   },
   "outputs": [
    {
     "name": "stdout",
     "output_type": "stream",
     "text": [
      "[2, 3, 5, 7, 11, 13, 17, 19, 23, 29, 31, 37, 41, 43, 47, 53, 59, 61, 67, 71, 73, 79, 83, 89, 97, 101, 103, 107, 109, 113, 127, 131, 137, 139, 149, 151, 157, 163, 167, 173, 179, 181, 191, 193, 197, 199, 211, 223, 227, 229, 233, 239, 241, 251, 257, 263, 269, 271, 277, 281, 283, 293, 307, 311, 313, 317, 331, 337, 347, 349, 353, 359, 367, 373, 379, 383, 389, 397, 401, 409, 419, 421, 431, 433, 439, 443, 449, 457, 461, 463, 467, 479, 487, 491, 499, 503, 509, 521, 523, 541, 547, 557, 563, 569, 571, 577, 587, 593, 599, 601, 607, 613, 617, 619, 631, 641, 643, 647, 653, 659, 661, 673, 677, 683, 691, 701, 709, 719, 727, 733, 739, 743, 751, 757, 761, 769, 773, 787, 797, 809, 811, 821, 823, 827, 829, 839, 853, 857, 859, 863, 877, 881, 883, 887, 907, 911, 919, 929, 937, 941, 947, 953, 967, 971, 977, 983, 991, 997, 1009, 1013, 1019, 1021, 1031, 1033, 1039, 1049, 1051, 1061, 1063, 1069, 1087, 1091, 1093, 1097, 1103, 1109, 1117, 1123, 1129, 1151, 1153, 1163, 1171, 1181, 1187, 1193, 1201, 1213, 1217, 1223, 1229, 1231, 1237, 1249, 1259, 1277, 1279, 1283, 1289, 1291, 1297, 1301, 1303, 1307, 1319, 1321, 1327, 1361, 1367, 1373, 1381, 1399, 1409, 1423, 1427, 1429, 1433, 1439, 1447, 1451, 1453, 1459, 1471, 1481, 1483, 1487, 1489, 1493, 1499, 1511, 1523, 1531, 1543, 1549, 1553, 1559, 1567, 1571, 1579, 1583, 1597, 1601, 1607, 1609, 1613, 1619, 1621, 1627, 1637, 1657, 1663, 1667, 1669, 1693, 1697, 1699, 1709, 1721, 1723, 1733, 1741, 1747, 1753, 1759, 1777, 1783, 1787, 1789, 1801, 1811, 1823, 1831, 1847, 1861, 1867, 1871, 1873, 1877, 1879, 1889, 1901, 1907, 1913, 1931, 1933, 1949, 1951, 1973, 1979, 1987, 1993, 1997, 1999]\n"
     ]
    }
   ],
   "source": [
    "print(prime_eratos(2000)) # on doit obtenir : [2, 3, 5, 7, ..., 1987, 1993, 1997, 1999]"
   ]
  },
  {
   "cell_type": "markdown",
   "metadata": {},
   "source": [
    "---\n",
    "### Comparaison des deux algorithmes\n",
    "\n",
    "Comme dans l'exercice B1, on va utiliser la commande magique **`%timeit`** pour comparer les performances des deux algorithmes. Pour avoir une estimation approximative de la complexité algorithmique, on effectue plusieurs benchmarks successifs pour des valeurs de $n$ de plus en plus grandes (en l'occurence, 500, 5000, 50000 et 500000) :"
   ]
  },
  {
   "cell_type": "code",
   "execution_count": null,
   "metadata": {},
   "outputs": [],
   "source": [
    "print('<> Benchmark for prime_divloop vs. prime_eratos on n = 500 :')\n",
    "%timeit prime_divloop(500)\n",
    "%timeit prime_eratos(500)\n",
    "print('<> Benchmark for prime_divloop vs. prime_eratos on n = 5000 :')\n",
    "%timeit prime_divloop(5000)\n",
    "%timeit prime_eratos(5000)\n",
    "print('<> Benchmark for prime_divloop vs. prime_eratos on n = 50000 :')\n",
    "%timeit prime_divloop(50000)\n",
    "%timeit prime_eratos(50000)\n",
    "print('<> Benchmark for prime_divloop vs. prime_eratos on n = 500000 :')\n",
    "%timeit prime_divloop(500000)\n",
    "%timeit prime_eratos(500000)"
   ]
  },
  {
   "cell_type": "markdown",
   "metadata": {},
   "source": [
    "Pour chaque benchmark successif, la taille des données à traiter est multipliée par 10 par rapport au test précédent. On constate que le temps d'exécution augmente à peu près linéairement pour le crible d'Eratosthène, ce qui laisse supposer une complexité de type $\\mathcal{O}(n)$. Par contre, le temps d'exécution pour les divisions successives augmente de manière quadratique, ce qui laisse supposer une complexité de type $\\mathcal{O}(n^2)$.\n",
    "\n",
    "En analysant plus finement les deux algorithmes, cette différence de complexité algorithmique n'est pas vraiment surprenante. Pour le crible d'Eratosthène, chacune nombre entre 2 et $n$ ne sera traité qu'une seule fois : soit il est non-premier et sera inséré dans **`not_primes`**, soit il est premier et sera inséré dans **`primes`**. A l'inverse, pour les divisions successives, chaque nombre est divisé par tous les nombres premiers qui sont inférieurs à sa racine carrée, et donc le test de primalité devient de plus en plus long au fur et à mesure que la valeur du nombre à tester augmente, on se retrouve donc avec une complexité quadratique, caractéristique des algorithmes qui utilisent deux boucles imbriquées."
   ]
  },
  {
   "cell_type": "markdown",
   "metadata": {
    "tags": []
   },
   "source": [
    "<h2 style=\"padding:16px; color:#FFF; background:#06D\">Exercice B3 - Carrés latins</h2>\n",
    "\n",
    "Dans l'exercice B1, on a généré des matrices à 2 dimensions en manipulant des chaînes de caractères au format CSV. Si le format CSV est utile pour l'affichage ou pour l'échange de données sous forme matricielle, il n'est pas adapté pour des manipulations complexes de ces données. L'écosystème ***Scientific Python*** fournit deux boîtes à outils spécifiques pour ce type de manipulation, les packages **`numpy`** et **`pandas`**, qui seront étudiés longuement dans des chapitres ultérieurs. Le noyau Python propose également une structure très basique, mais relativement efficace, pour manipuler des données organisées sous forme de matrices à 2 dimensions, les **listes de listes**, qui vont être utilisées dans cet exercice.\n",
    "\n",
    "Un **[carré latin](https://fr.wikipedia.org/wiki/Carr%C3%A9_latin)** est défini comme une matrice carrée de taille $n \\times n$, remplies de $n$ éléments distincts dont chaque ligne et chaque colonne ne contient qu'un seul exemplaire. Une grille de Sudoku, par exemple, est un carré latin $9 \\times 9$, mais qui possède des contraintes supplémentaires sur les blocs $3 \\times 3$. L'objectif de cet exercice est de contruire et visualiser des carrés latins de taille et de contenu totalement arbitraires."
   ]
  },
  {
   "cell_type": "markdown",
   "metadata": {
    "tags": []
   },
   "source": [
    "---\n",
    "### Création d'un matrice carrée\n",
    "\n",
    "On commence par écrire une première version de la fonction **`latin(seq)`** qui prend une séquence arbitraire **`seq`** en entrée (cela peut être une liste, un tuple, une chaîne, un ensemble, une séquence d'octets...) et qui génère une matrice carrée sous la forme d'une liste de listes, dans laquelle chaque ligne est identique et correspond à une copie de la séquence initiale **`seq`** convertie en liste. A la différence de l'exercice B2, où l'on construisait la liste des nombres premiers de manière incrémentale en utilisant la méthode **`append()`**, on va utiliser ici le mécanisme plus efficace de ***liste par compréhension*** qui a été détaillé à la fin du paragraphe D2 dans le chapitre 3 du cours :"
   ]
  },
  {
   "cell_type": "code",
   "execution_count": 31,
   "metadata": {},
   "outputs": [],
   "source": [
    "# TODO :\n",
    "# écrire l'entête et la docstring de la fonction latin(seq)\n",
    "# convertir la séquence 'seq' en liste et stocker sa taille dans 'n'\n",
    "# créer une liste de listes 'mat' en utilisant une liste par compréhension (cf. cours)\n",
    "# il faut que chaque élément de 'mat' soit une copie de 'seq'"
   ]
  },
  {
   "cell_type": "markdown",
   "metadata": {},
   "source": [
    "Vérifier l'algorithme en testant successivement avec des séquences de types différents (liste, chaîne, ensemble) :"
   ]
  },
  {
   "cell_type": "code",
   "execution_count": 33,
   "metadata": {
    "tags": []
   },
   "outputs": [
    {
     "name": "stdout",
     "output_type": "stream",
     "text": [
      "latin([1,2,3,4,5]) ➤\n",
      "[[1, 2, 3, 4, 5], [1, 2, 3, 4, 5], [1, 2, 3, 4, 5], [1, 2, 3, 4, 5], [1, 2, 3, 4, 5]]\n",
      "\n",
      "latin('ABCDEFGHI') ➤\n",
      "[['A', 'B', 'C', 'D', 'E', 'F', 'G', 'H', 'I'], ['A', 'B', 'C', 'D', 'E', 'F', 'G', 'H', 'I'], ['A', 'B', 'C', 'D', 'E', 'F', 'G', 'H', 'I'], ['A', 'B', 'C', 'D', 'E', 'F', 'G', 'H', 'I'], ['A', 'B', 'C', 'D', 'E', 'F', 'G', 'H', 'I'], ['A', 'B', 'C', 'D', 'E', 'F', 'G', 'H', 'I'], ['A', 'B', 'C', 'D', 'E', 'F', 'G', 'H', 'I'], ['A', 'B', 'C', 'D', 'E', 'F', 'G', 'H', 'I'], ['A', 'B', 'C', 'D', 'E', 'F', 'G', 'H', 'I']]\n",
      "\n",
      "latin({'toto', 'titi', 'tata', 'tutu'}) ➤\n",
      "[['tata', 'titi', 'tutu', 'toto'], ['tata', 'titi', 'tutu', 'toto'], ['tata', 'titi', 'tutu', 'toto'], ['tata', 'titi', 'tutu', 'toto']]\n"
     ]
    }
   ],
   "source": [
    "show(\"latin([1,2,3,4,5])#;; latin('ABCDEFGHI')#;; latin({'toto', 'titi', 'tata', 'tutu'})#\")"
   ]
  },
  {
   "cell_type": "markdown",
   "metadata": {},
   "source": [
    "---\n",
    "### Création d'un carré latin par rotations successives\n",
    "\n",
    "Le résultat de la fonction précédente génère effectivement une matrice carrée, mais elle n'est pas conforme à la définition d'un carré latin : les lignes possèdent bien un seul exemplaire de chaque élément de **`seq`**, mais ce n'est pas le cas pour les colonnes. Dans la seconde version, on va corriger cela en appliquant une modification très simple à mettre en oeuvre : au lieu de stocker une copie de la séquence initiale, chaque ligne va effectuer une rotation différente du contenu de la séquence. Plus précisément, la ligne d'indice $p$ va recevoir les $n\\!-\\!p$ derniers éléments de **`seq`** suivi de ses $p$ premiers éléments. Ainsi, chaque colonne ne pourra contenir qu'une seule occurrence de chaque élément :"
   ]
  },
  {
   "cell_type": "code",
   "execution_count": 34,
   "metadata": {},
   "outputs": [],
   "source": [
    "# TODO :\n",
    "# dans la fonction précédente, modifier uniquement la ligne qui génère la matrice\n",
    "# utiliser la notation des tranches d'indices (slice) pour extraire les éléments de 'seq'"
   ]
  },
  {
   "cell_type": "markdown",
   "metadata": {},
   "source": [
    "Vérifier l'algorithme sur les mêmes exemples que précédemment :"
   ]
  },
  {
   "cell_type": "code",
   "execution_count": 36,
   "metadata": {
    "tags": []
   },
   "outputs": [
    {
     "name": "stdout",
     "output_type": "stream",
     "text": [
      "latin([1,2,3,4,5]) ➤\n",
      "[[1, 2, 3, 4, 5], [2, 3, 4, 5, 1], [3, 4, 5, 1, 2], [4, 5, 1, 2, 3], [5, 1, 2, 3, 4]]\n",
      "\n",
      "latin('ABCDEFGHI') ➤\n",
      "[['A', 'B', 'C', 'D', 'E', 'F', 'G', 'H', 'I'], ['B', 'C', 'D', 'E', 'F', 'G', 'H', 'I', 'A'], ['C', 'D', 'E', 'F', 'G', 'H', 'I', 'A', 'B'], ['D', 'E', 'F', 'G', 'H', 'I', 'A', 'B', 'C'], ['E', 'F', 'G', 'H', 'I', 'A', 'B', 'C', 'D'], ['F', 'G', 'H', 'I', 'A', 'B', 'C', 'D', 'E'], ['G', 'H', 'I', 'A', 'B', 'C', 'D', 'E', 'F'], ['H', 'I', 'A', 'B', 'C', 'D', 'E', 'F', 'G'], ['I', 'A', 'B', 'C', 'D', 'E', 'F', 'G', 'H']]\n",
      "\n",
      "latin({'toto', 'titi', 'tata', 'tutu'}) ➤\n",
      "[['tata', 'toto', 'titi', 'tutu'], ['toto', 'titi', 'tutu', 'tata'], ['titi', 'tutu', 'tata', 'toto'], ['tutu', 'tata', 'toto', 'titi']]\n"
     ]
    }
   ],
   "source": [
    "show(\"latin([1,2,3,4,5])#;; latin('ABCDEFGHI')#;; latin({'toto', 'titi', 'tata', 'tutu'})#\")"
   ]
  },
  {
   "cell_type": "markdown",
   "metadata": {},
   "source": [
    "---\n",
    "### Création d'un carré latin par permutations aléatoires\n",
    "\n",
    "La dernière version de la fonction va rajouter un peu d'aléatoire dans les carrés latins générés. Pour cela, on va utiliser une propriété spécifique : si l'on échange deux lignes quelconques (ou deux colonnes quelconques) d'un carré latin, cela reste un carré latin. Le principe de l'algorithme à implémenter consistera donc à choisir aléatoirement une paire de lignes de la matrice et de les échanger, puis d'effectuer la même opération sur une paire de colonnes. Si on répète ce processus un grand nombre de fois (en pratique, effectuer $n^2$ échanges de lignes et de colonnes s'avère largement suffisant), la matrice finale aura un contenu qui semblera totalement aléatoire, tout en respectant les contraintes d'un carré latin. Pour la sélection aléatoire des indices de lignes et de colonnes, on utilisera la fonction **`randrange`** du module **`random`** (cf. paragraphe E3 du chapitre 3 pour un exemple d'utilisation de cette fonction) :"
   ]
  },
  {
   "cell_type": "code",
   "execution_count": 37,
   "metadata": {},
   "outputs": [],
   "source": [
    "# TODO :\n",
    "# dans la fonction précédente, après avoir généré le carré latin de départ,\n",
    "# rajouter une boucle de n*n itérations pour la permutation des paires de lignes et de colonnes\n",
    "# sélectionner les indices des lignes ou colonnes à permuter avec la fonction 'randrange'\n",
    "# note : pour permuter deux lignes ou deux colonnes, il faudra effectuer une boucle et échanger\n",
    "# successivement, deux par deux, les éléments de même indice sur ces deux lignes ou colonnes"
   ]
  },
  {
   "cell_type": "markdown",
   "metadata": {},
   "source": [
    "Vérifier l'algorithme avec les mêmes tests que précédemment  :"
   ]
  },
  {
   "cell_type": "code",
   "execution_count": 39,
   "metadata": {
    "tags": []
   },
   "outputs": [
    {
     "name": "stdout",
     "output_type": "stream",
     "text": [
      "latin([1,2,3,4,5]) ➤\n",
      "[[2, 3, 4, 5, 1], [5, 1, 2, 3, 4], [3, 4, 5, 1, 2], [1, 2, 3, 4, 5], [4, 5, 1, 2, 3]]\n",
      "\n",
      "latin('ABCDEFGHI') ➤\n",
      "[['C', 'I', 'F', 'H', 'B', 'E', 'G', 'A', 'D'], ['G', 'D', 'A', 'C', 'F', 'I', 'B', 'E', 'H'], ['A', 'G', 'D', 'F', 'I', 'C', 'E', 'H', 'B'], ['H', 'E', 'B', 'D', 'G', 'A', 'C', 'F', 'I'], ['I', 'F', 'C', 'E', 'H', 'B', 'D', 'G', 'A'], ['D', 'A', 'G', 'I', 'C', 'F', 'H', 'B', 'E'], ['F', 'C', 'I', 'B', 'E', 'H', 'A', 'D', 'G'], ['B', 'H', 'E', 'G', 'A', 'D', 'F', 'I', 'C'], ['E', 'B', 'H', 'A', 'D', 'G', 'I', 'C', 'F']]\n",
      "\n",
      "latin({'toto', 'titi', 'tata', 'tutu'}) ➤\n",
      "[['tutu', 'titi', 'toto', 'tata'], ['tata', 'tutu', 'titi', 'toto'], ['toto', 'tata', 'tutu', 'titi'], ['titi', 'toto', 'tata', 'tutu']]\n"
     ]
    }
   ],
   "source": [
    "show(\"latin([1,2,3,4,5])#;; latin('ABCDEFGHI')#;; latin({'toto', 'titi', 'tata', 'tutu'})#\")"
   ]
  },
  {
   "cell_type": "markdown",
   "metadata": {
    "tags": []
   },
   "source": [
    "---\n",
    "### Affichage sous forme de grille\n",
    "\n",
    "Pour améliorer la lisibilité, on souhaite afficher le carré latin sous la forme d'une grille, en rajoutant des caractères pour délimiter les cases de cette grille. Une solution très classique consiste à utiliser le caractère **`-`** pour créer un segment horizontal, le caractère **`|`** pour créer un segment vertical, et le caractère **`+`** pour symboliser l'intersection entre un segment horizontal et un segment vertical. Nous verrons dans l'exercice C3, une solution alternative (plus esthétique, mais plus complexe) pour construire des grilles dans un notebook.\n",
    "\n",
    "L'objectif est de créer une fonction **`show_grid(mat)`** qui prend une matrice en entrée et affiche à l'écran une chaîne de caractères multi-lignes permettant de représenter la matrice sous la forme d'une grille. La fonction ne sera pas limitée à l'affichage des carrées latins, mais devra être capable de traiter n'importe quelle matrice rectangulaire contenant des données arbitraires. A titre d'exemple, voici ce que doit renvoyer la fonction lorsqu'on lui fournit en paramètre une matrice 3 sur 4 : **`show_grid([['AAA','BBB','CCC','DDD'], [1,2,3,4], [5,6,7,8]])`**\n",
    "\n",
    "```\n",
    "+-----+-----+-----+-----+\n",
    "| AAA | BBB | CCC | DDD |\n",
    "+-----+-----+-----+-----+\n",
    "|  1  |  2  |  3  |  4  |\n",
    "+-----+-----+-----+-----+\n",
    "|  5  |  6  |  7  |  8  |\n",
    "+-----+-----+-----+-----+\n",
    "```\n",
    "\n",
    "Comme on l'avait fait dans la fonction **`gcd_lcm`** de l'exercice B1, il faudra identifier le nombre de caractères nécessaires pour l'affichage des cellules de la matrice, pour que toutes les cases de la grille finale aient exactement la même taille. Le contenu des cellules qui nécessite moins de caractères sera centré par rapport à l'espace disponible pour chaque case, comme on peut le voir sur les deux dernières lignes dans l'exemple ci-dessus. Toutes les premières étapes de l'algorithme travailleront directement sur la matrice **`mat`** passée en paramètre, ce n'est que la toute dernière étape qui convertira la matrice en une chaîne multi-lignes, en insérant les motifs de séparations des colonnes puis des lignes."
   ]
  },
  {
   "cell_type": "code",
   "execution_count": 40,
   "metadata": {},
   "outputs": [],
   "source": [
    "# TODO :\n",
    "# écrire l'entête et la docstring de la fonction show_grid(mat)\n",
    "# utiliser les variables 'rows' et 'cols' pour stocker la taille de la matrice fournie\n",
    "# convertir toutes les cellules de la matrice en chaînes de caractères (liste par compréhension)\n",
    "# trouver le nombre maximum de caractères nécessaires pour l'affichage du contenu des cellules\n",
    "# utiliser les f-strings (chaînes formatées) avec alignement pour centrer le contenu des cases\n",
    "# utiliser les variables 'colsep' et 'rowsep' pour contruire et stocker les séparateurs\n",
    "# fusionner toutes les cases en une chaîne multi-ligne (méthode 'join') et afficher la grille"
   ]
  },
  {
   "cell_type": "markdown",
   "metadata": {},
   "source": [
    "Vérifier l'implémentation en comparant l'affichage obtenu avec l'exemple donné ci-dessus :"
   ]
  },
  {
   "cell_type": "code",
   "execution_count": 42,
   "metadata": {},
   "outputs": [
    {
     "name": "stdout",
     "output_type": "stream",
     "text": [
      "+-----+-----+-----+-----+\n",
      "| AAA | BBB | CCC | DDD |\n",
      "+-----+-----+-----+-----+\n",
      "|  1  |  2  |  3  |  4  |\n",
      "+-----+-----+-----+-----+\n",
      "|  5  |  6  |  7  |  8  |\n",
      "+-----+-----+-----+-----+\n"
     ]
    }
   ],
   "source": [
    "show_grid([['AAA','BBB','CCC','DDD'], [1,2,3,4], [5,6,7,8]])"
   ]
  },
  {
   "cell_type": "markdown",
   "metadata": {},
   "source": [
    "Tester l'implémentation sur un carré latin dont la séquence génératrice est obtenue avec l'itérateur **`range`** :"
   ]
  },
  {
   "cell_type": "code",
   "execution_count": 43,
   "metadata": {},
   "outputs": [
    {
     "name": "stdout",
     "output_type": "stream",
     "text": [
      "+----+----+----+----+----+----+----+----+----+----+----+----+----+----+----+\n",
      "| 6  | 1  | 13 | 4  | 14 | 12 | 8  | 11 | 15 | 5  | 9  | 7  | 3  | 2  | 10 |\n",
      "+----+----+----+----+----+----+----+----+----+----+----+----+----+----+----+\n",
      "| 15 | 10 | 7  | 13 | 8  | 6  | 2  | 5  | 9  | 14 | 3  | 1  | 12 | 11 | 4  |\n",
      "+----+----+----+----+----+----+----+----+----+----+----+----+----+----+----+\n",
      "| 3  | 13 | 10 | 1  | 11 | 9  | 5  | 8  | 12 | 2  | 6  | 4  | 15 | 14 | 7  |\n",
      "+----+----+----+----+----+----+----+----+----+----+----+----+----+----+----+\n",
      "| 10 | 5  | 2  | 8  | 3  | 1  | 12 | 15 | 4  | 9  | 13 | 11 | 7  | 6  | 14 |\n",
      "+----+----+----+----+----+----+----+----+----+----+----+----+----+----+----+\n",
      "| 7  | 2  | 14 | 5  | 15 | 13 | 9  | 12 | 1  | 6  | 10 | 8  | 4  | 3  | 11 |\n",
      "+----+----+----+----+----+----+----+----+----+----+----+----+----+----+----+\n",
      "| 1  | 11 | 8  | 14 | 9  | 7  | 3  | 6  | 10 | 15 | 4  | 2  | 13 | 12 | 5  |\n",
      "+----+----+----+----+----+----+----+----+----+----+----+----+----+----+----+\n",
      "| 13 | 8  | 5  | 11 | 6  | 4  | 15 | 3  | 7  | 12 | 1  | 14 | 10 | 9  | 2  |\n",
      "+----+----+----+----+----+----+----+----+----+----+----+----+----+----+----+\n",
      "| 12 | 7  | 4  | 10 | 5  | 3  | 14 | 2  | 6  | 11 | 15 | 13 | 9  | 8  | 1  |\n",
      "+----+----+----+----+----+----+----+----+----+----+----+----+----+----+----+\n",
      "| 2  | 12 | 9  | 15 | 10 | 8  | 4  | 7  | 11 | 1  | 5  | 3  | 14 | 13 | 6  |\n",
      "+----+----+----+----+----+----+----+----+----+----+----+----+----+----+----+\n",
      "| 5  | 15 | 12 | 3  | 13 | 11 | 7  | 10 | 14 | 4  | 8  | 6  | 2  | 1  | 9  |\n",
      "+----+----+----+----+----+----+----+----+----+----+----+----+----+----+----+\n",
      "| 8  | 3  | 15 | 6  | 1  | 14 | 10 | 13 | 2  | 7  | 11 | 9  | 5  | 4  | 12 |\n",
      "+----+----+----+----+----+----+----+----+----+----+----+----+----+----+----+\n",
      "| 9  | 4  | 1  | 7  | 2  | 15 | 11 | 14 | 3  | 8  | 12 | 10 | 6  | 5  | 13 |\n",
      "+----+----+----+----+----+----+----+----+----+----+----+----+----+----+----+\n",
      "| 11 | 6  | 3  | 9  | 4  | 2  | 13 | 1  | 5  | 10 | 14 | 12 | 8  | 7  | 15 |\n",
      "+----+----+----+----+----+----+----+----+----+----+----+----+----+----+----+\n",
      "| 4  | 14 | 11 | 2  | 12 | 10 | 6  | 9  | 13 | 3  | 7  | 5  | 1  | 15 | 8  |\n",
      "+----+----+----+----+----+----+----+----+----+----+----+----+----+----+----+\n",
      "| 14 | 9  | 6  | 12 | 7  | 5  | 1  | 4  | 8  | 13 | 2  | 15 | 11 | 10 | 3  |\n",
      "+----+----+----+----+----+----+----+----+----+----+----+----+----+----+----+\n"
     ]
    }
   ],
   "source": [
    "show_grid(latin(range(1,16)))"
   ]
  },
  {
   "cell_type": "markdown",
   "metadata": {
    "tags": []
   },
   "source": [
    "<h2 style=\"padding:16px; color:#FFF; background:#06D\">Exercice B4 - Racines des fonctions</h2>\n",
    "\n",
    "On souhaite comparer la [**méthode de la dichotomie**](https://fr.wikipedia.org/wiki/M%C3%A9thode_de_dichotomie) (également appelée ***bissection***) et la [**méthode de la fausse position**](https://fr.wikipedia.org/wiki/M%C3%A9thode_de_la_fausse_position) (également appelée ***regula falsi***) pour déterminer numériquement les racines d'une fonction arbitraire. Ces deux méthodes, très classiques en analyse numérique, ont l'avantage de garantir la convergence de l'algorithme à condition de partir d'un intervalle encadrant la racine recherchée, alors que d'autres méthodes plus efficaces, telles que la ***méthode de la sécante*** ou la ***méthode de Newton***, ont une probabilité importante de divergence pour des conditions initiales mal choisies.\n",
    "\n",
    "Pour tester ces deux techniques numériques pour la recherche de racines, on se donne comme objectif de **trouver toutes les racines comprises dans l'intervalle $[-5,5]$** pour les trois fonctions suivantes :\n",
    "\n",
    "$$\\left\\{\\begin{align}\n",
    "f(x) & = 4x^4 - 79x^2 + 33x + 108 \\\\[1em]\n",
    "g(x) & = \\sin(x) \\cos(2x) \\\\[1em]\n",
    "h(x) & = \\sin\\left(\\frac{4x}{2+3x}\\right)\n",
    "\\end{align}\\right.$$"
   ]
  },
  {
   "cell_type": "code",
   "execution_count": 44,
   "metadata": {},
   "outputs": [],
   "source": [
    "# TODO :\n",
    "# définir en Python, les trois fonctions f(x), g(x) et h(x)\n",
    "# pour la fonction f(x) utiliser la méthode de Ruffini-Horner afin de réduire le nombre de multiplications\n",
    "# tester les 2 instructions alternatives pour définir des fonctions : soit avec 'def', soit avec 'lambda'"
   ]
  },
  {
   "cell_type": "markdown",
   "metadata": {},
   "source": [
    "Vérifier l'implémentation en testant les fonctions sur les valeurs -5, 0 et 5"
   ]
  },
  {
   "cell_type": "code",
   "execution_count": 46,
   "metadata": {},
   "outputs": [
    {
     "name": "stdout",
     "output_type": "stream",
     "text": [
      "468 108 798\n",
      "-0.8046060574101277 0.0 0.8046060574101277\n",
      "0.9994772762780824 0.0 0.9232558158568609\n"
     ]
    }
   ],
   "source": [
    "print(f(-5), f(0), f(5)) # on doit obtenir : 468 108 798\n",
    "print(g(-5), g(0), g(5)) # on doit obtenir : -0.8046060574101277 0.0 0.8046060574101277\n",
    "print(h(-5), h(0), h(5)) # on doit obtenir : 0.9994772762780824 0.0 0.9232558158568609"
   ]
  },
  {
   "cell_type": "markdown",
   "metadata": {},
   "source": [
    "Les outils de tracé de fonctions ne seront abordés que dans le chapitre 6, mais pour visualiser la forme des courbes et leurs différentes intersections avec l'axe horizontal, on va simplement exécuter le code suivant, sans plus d'explications :"
   ]
  },
  {
   "cell_type": "code",
   "execution_count": 47,
   "metadata": {},
   "outputs": [
    {
     "data": {
      "image/png": "[encoded data removed]",
      "text/plain": [
       "<Figure size 1300x300 with 3 Axes>"
      ]
     },
     "metadata": {},
     "output_type": "display_data"
    }
   ],
   "source": [
    "import numpy as np, matplotlib.pyplot as mp\n",
    "cos, sin = np.cos, np.sin # overwrite cos/sin from 'math' by cos/sin from 'numpy'\n",
    "x = np.linspace(-5, 5, 90); zero = np.zeros_like(x) # uniform sampling for x in range [-5,5]\n",
    "fig, axes = mp.subplots(1, 3, figsize=(13,3)) # create figure containing 3 horizontal subplots\n",
    "mp.setp(axes, xticks=[-5,-4,-3,-2,-1,0,1,2,3,4,5]) # force tick labels on x axis\n",
    "for n, func, title in ((0, f, '$f(x)$'), (1, g, '$g(x)$'), (2, h, '$h(x)$')): # loop over f, g, h\n",
    "  axes[n].plot(x, func(x), 'b-', x, zero, 'r:'); axes[n].set_title(title) # plot and set title"
   ]
  },
  {
   "cell_type": "markdown",
   "metadata": {},
   "source": [
    "Comme on peut le constater visuellement en comptant les intersections de chaque courbe avec la ligne rouge :\n",
    "- la fonction **$f(x)$** possède 4 racines sur l'intervalle [-5,5]\n",
    "- la fonction **$g(x)$** possède 9 racines sur l'intervalle [-5,5]\n",
    "- la fonction **$h(x)$** possède 4 racines sur l'intervalle [-5,5]"
   ]
  },
  {
   "cell_type": "markdown",
   "metadata": {},
   "source": [
    "---\n",
    "### Détection des changements de signes d'une fonction\n",
    "\n",
    "Les méthodes de dichotomie et de fausse position convergent vers une racine lorsqu'on les initialise avec un **encadrement des racines** (*root bracket*, en anglais), c'est-à-dire un intervalle $[a,b]$ tel que $f(a)f(b) < 0$ (autrement dit, $f(a)$ et $f(b)$ sont de signes différents). Grâce au [**théorème des valeurs intermédiaires**](https://fr.wikipedia.org/wiki/Th%C3%A9or%C3%A8me_des_valeurs_interm%C3%A9diaires), on sait qu'un tel intervalle va nécessairement contenir au moins une racine pour une fonction $f$ continue.\n",
    "\n",
    "S'il est assez facile de trouver un encadrement d'une racine, il est nettement plus difficile d'obtenir un encadrement pour toutes les racines d'une fonction. Une méthode de force brute consiste à **échantillonner uniformément l'intervalle de recherche pour détecter tous les changements de signe de la fonction**. Evidemment, cette technique implique de trouver un compromis entre la vitesse et la précision :\n",
    " - utiliser un faible nombre d'échantillons permet des calculs rapides, mais risque de rater un double changement de signe de la fonction entre deux échantillons adjacents\n",
    " - utiliser un grand nombre d'échantillons augmente la probabilité d'identifier tous les changements de signe, mais risque de prendre beaucoup de temps lorsque l'évaluation de la fonction est complexe\n",
    " \n",
    "De plus, le nombre optimal d'échantillons va fortement dépendre de la fonction étudiée, il faut donc trouver une technique garantissant une certaine robustesse dans tous les cas de figure. Une solution classique à ce problème consiste à commencer par un petit nombre d'échantillons, compter le nombre de changements de signe détectés, doubler le nombre d'échantillons, recompter le nombre de changements, et ainsi de suite jusqu'à ce que le nombre de changements de signe se stabilise vers une valeur qu'on pourra considérer raisonnablement comme le nombre de racines recherchées. L'objectif de cette section est d'implémenter cet algorithme, étape par étape...\n",
    "\n",
    "On commence par écrire une fonction **`sample_range(a, b, n)`** qui renvoie une liste de valeurs réelles correspondant à l'échantillonnage uniforme de l'intervalle $[a,b]$ en $n\\!+\\!1$ échantillons ($a$ et $b$ doivent faire partie des échantillons) "
   ]
  },
  {
   "cell_type": "code",
   "execution_count": 48,
   "metadata": {},
   "outputs": [],
   "source": [
    "# TODO :\n",
    "# écrire l'entête et la docstring de la fonction sample_range(a, b, n)\n",
    "# utiliser une variable 'step' représentant l'incrément entre 2 échantillons successifs\n",
    "# utiliser une liste par compréhension pour générer les échantillons"
   ]
  },
  {
   "cell_type": "markdown",
   "metadata": {},
   "source": [
    "Vérifier l'implémentation sur quelques exemples simples :"
   ]
  },
  {
   "cell_type": "code",
   "execution_count": 50,
   "metadata": {},
   "outputs": [
    {
     "name": "stdout",
     "output_type": "stream",
     "text": [
      "[1.0, 2.0, 3.0, 4.0, 5.0, 6.0, 7.0, 8.0, 9.0]\n",
      "[0.0, 0.5, 1.0, 1.5, 2.0, 2.5, 3.0, 3.5, 4.0]\n",
      "[-1.0, -0.5, 0.0, 0.5, 1.0]\n"
     ]
    }
   ],
   "source": [
    "print(sample_range(1, 9, 8)) # on doit obtenir : [1.0, 2.0, 3.0, 4.0, 5.0, 6.0, 7.0, 8.0, 9.0]\n",
    "print(sample_range(0, 4, 8)) # on doit obtenir : [0.0, 0.5, 1.0, 1.5, 2.0, 2.5, 3.0, 3.5, 4.0]\n",
    "print(sample_range(-1, 1, 4)) # on doit obtenir : [-1.0, -0.5, 0.0, 0.5, 1.0]"
   ]
  },
  {
   "cell_type": "markdown",
   "metadata": {},
   "source": [
    "Puis on écrit la fonction **`sign_flips(values)`** qui parcourt une liste de valeurs et renvoie une liste d'indices correspondants aux emplacements des valeurs vérifiant l'une des conditions suivantes :\n",
    "  - soit la valeur courante est nulle\n",
    "  - soit la valeur courante et la valeur suivante sont de signes opposés"
   ]
  },
  {
   "cell_type": "code",
   "execution_count": 51,
   "metadata": {},
   "outputs": [],
   "source": [
    "# parcourir les éléments de la liste 'values' et stocker les indices 'p' pour lesquels\n",
    "# soit values[p] est nulle, soit le signe de values[p] est différent du signe de values[p+1]\n",
    "# utiliser à nouveau le mécanisme de liste par compréhension pour créer la liste à renvoyer"
   ]
  },
  {
   "cell_type": "markdown",
   "metadata": {},
   "source": [
    "Vérifier l'implémentation sur quelques exemples simples :"
   ]
  },
  {
   "cell_type": "code",
   "execution_count": 53,
   "metadata": {},
   "outputs": [
    {
     "name": "stdout",
     "output_type": "stream",
     "text": [
      "[1, 4]\n",
      "[1, 3, 5, 7]\n"
     ]
    }
   ],
   "source": [
    "print(sign_flips([3, 1, -1, -3, -1, 1, 3])) # on doit obtenir : [1, 4]\n",
    "print(sign_flips([2, 0, 3, 1, -1, 0, -1, -3, 1, 5])) # on doit obtenir : [1, 3, 5, 7]"
   ]
  },
  {
   "cell_type": "markdown",
   "metadata": {},
   "source": [
    "---\n",
    "### Encadrement des racines d'une fonction\n",
    "\n",
    "En utilisant les deux fonctions précédentes, écrire la fonction **`root_brackets(f, a, b, n=10)`** qui renvoie une liste de couples $(a_p, b_p)$ correspondant aux intervalles d'encadrement des racines de la fonction $f$ sur l'intervalle de recherche $[a,b]$.\n",
    "\n",
    "Dans une première implémentation, on utilisera la valeur par défaut $n=10$ pour le nombre d'échantillons"
   ]
  },
  {
   "cell_type": "code",
   "execution_count": 54,
   "metadata": {},
   "outputs": [],
   "source": [
    "# TODO :\n",
    "# échantillonner l'intervalle [a,b] avec la fonction sample_range pour n=10\n",
    "# créer la liste des valeurs de la fonction f sur les échantillons obtenus\n",
    "# détecter les changements de signe avec la fonction sign_flips\n",
    "# créer (par compréhension) la liste des intervalles d'encadrement des racines"
   ]
  },
  {
   "cell_type": "markdown",
   "metadata": {},
   "source": [
    "Vérifier l'implémentation sur les trois fonctions de test :"
   ]
  },
  {
   "cell_type": "code",
   "execution_count": 56,
   "metadata": {
    "tags": []
   },
   "outputs": [
    {
     "name": "stdout",
     "output_type": "stream",
     "text": [
      "f : [(-5.0, -4.0), (-1.0, 0.0), (1.0, 2.0), (4.0, 5.0)]\n",
      "g : [(-3.0, -2.0), (0.0, 1.0), (2.0, 3.0)]\n",
      "h : [(-2.0, -1.0), (0.0, 1.0)]\n"
     ]
    }
   ],
   "source": [
    "print('f :', root_brackets(f,-5,5)) # on doit obtenir : [(-5.0,-4.0), (-1.0,0.0), (1.0,2.0), (4.0,5.0)]\n",
    "print('g :', root_brackets(g,-5,5)) # on doit obtenir : [(-3.0,-2.0), (0.0,1.0), (2.0,3.0)]\n",
    "print('h :', root_brackets(h,-5,5)) # on doit obtenir : [(-2.0,-1.0), (0.0,1.0)]"
   ]
  },
  {
   "cell_type": "markdown",
   "metadata": {},
   "source": [
    "On constate que pour les fonctions $g(x)$ et $h(x)$, le nombre d'intervalles d'encadrement n'est pas cohérent avec le nombre de racines observées dans les tracés des fonctions, obtenus plus haut. C'est évidemment dû à la valeur trop faible du nombre d'échantillons $n$ qui ne permet pas de détecter tous les changements de signe de la fonction.\n",
    "\n",
    "Dans une seconde implémentation, on va donc améliorer l'échantillonnage en utilisant la technique décrite plus haut : la valeur  de $n$ est doublée à chaque itération, jusqu'à convergence du nombre d'intervalles d'encadrement des racines"
   ]
  },
  {
   "cell_type": "code",
   "execution_count": 57,
   "metadata": {},
   "outputs": [],
   "source": [
    "# TODO :\n",
    "# la nouvelle version de la fonction 'root_brackets' va rajouter 3 variables principales :\n",
    "# - 'n' = nb d'échantillons pour l'itération courante (on démarre à 10 et on double à chaque itération)\n",
    "# - 'old' = nombre d'intervalles d'encadrement obtenu à l'itération précédente\n",
    "# - 'new' = nombre d'intervalles d'encadrement obtenu à l'itération courante\n",
    "# la convergence de la détection des intervalles d'encadrement est obtenue lorsque 'old == new'"
   ]
  },
  {
   "cell_type": "markdown",
   "metadata": {},
   "source": [
    "Vérifier l'implémentation sur les trois fonctions de test :"
   ]
  },
  {
   "cell_type": "code",
   "execution_count": 59,
   "metadata": {
    "tags": []
   },
   "outputs": [
    {
     "name": "stdout",
     "output_type": "stream",
     "text": [
      "f : [(-4.5, -4.0), (-1.0, -0.5), (1.5, 2.0), (4.0, 4.5)]\n",
      "g : [(-4.0, -3.75), (-3.25, -3.0), (-2.5, -2.25), (-1.0, -0.75), (0.0, 0.25), (0.75, 1.0), (2.25, 2.5), (3.0, 3.25), (3.75, 4.0)]\n",
      "h : [(-1.25, -1.125), (-0.625, -0.5), (-0.5, -0.375), (0.0, 0.125)]\n"
     ]
    }
   ],
   "source": [
    "print('f :', root_brackets(f,-5,5)) # on doit obtenir : [(-4.5,-4.0), (-1.0,-0.5), (1.5,2.0), (4.0,4.5)]\n",
    "print('g :', root_brackets(g,-5,5)) # on doit obtenir : [(-4.0,-3.75), (-3.25,-3.0), ..., (3.75,4.0)]\n",
    "print('h :', root_brackets(h,-5,5)) # on doit obtenir : [(-1.25,-1.125), (-0.625,-0.5), ..., (0.0,0.125)]"
   ]
  },
  {
   "cell_type": "markdown",
   "metadata": {},
   "source": [
    "Cette fois-ci, le nombre d'intervalles d'encadrement est cohérent avec les racines observées sur les tracés des trois fonctions (respectivement 4 / 9 / 4 racines pour $f$ / $g$ / $h$). Néanmoins, la partie n'est pas encore gagnée, car lorsqu'on augmente le nombre initial d'échantillons pour passer de $n=10$ à $n=80$, un gros problème apparait pour $h(x)$ :"
   ]
  },
  {
   "cell_type": "code",
   "execution_count": 60,
   "metadata": {
    "tags": []
   },
   "outputs": [
    {
     "name": "stdout",
     "output_type": "stream",
     "text": [
      "f : [(-4.5, -4.4375), (-1.0, -0.9375), (1.5, 1.5625), (4.0, 4.0625)]\n",
      "g : [(-3.9375, -3.875), (-3.1875, -3.125), (-2.375, -2.3125), (-0.8125, -0.75), (0.0, 0.0625), (0.75, 0.8125), (2.3125, 2.375), (3.125, 3.1875), (3.875, 3.9375)]\n"
     ]
    }
   ],
   "source": [
    "# enlever le '#' en préfixe de la troisième ligne pour provoquer l'erreur de débordement mémoire\n",
    "print('f :', root_brackets(f, -5, 5, 80)) # on obtient toujours 4 intervalles d'encadrement\n",
    "print('g :', root_brackets(g, -5, 5, 80)) # on obtient toujours 9 intervalles d'encadrement\n",
    "#print('h :', root_brackets(h, -5, 5, 80)) # l'interpréteur mouline ('Busy') et finit par un 'MemoryError'"
   ]
  },
  {
   "cell_type": "markdown",
   "metadata": {},
   "source": [
    "L'origine du problème devient nettement plus claire si on trace la fonction $h(x)$ en zoomant sur l'intervalle $[-1.5,0.5]$ :"
   ]
  },
  {
   "cell_type": "code",
   "execution_count": 61,
   "metadata": {},
   "outputs": [
    {
     "data": {
      "image/png": "[encoded data removed]",
      "text/plain": [
       "<Figure size 1300x300 with 1 Axes>"
      ]
     },
     "metadata": {},
     "output_type": "display_data"
    }
   ],
   "source": [
    "x = np.linspace(-1.5, 0.5, 10000); zero = np.zeros_like(x) # use 10000 samples for x in range [-1.5,0.5]\n",
    "mp.figure(figsize=(13,3)); mp.plot(x, h(x), 'b-', x, zero, 'r:'); # plot h(x) for these samples"
   ]
  },
  {
   "cell_type": "markdown",
   "metadata": {},
   "source": [
    "On peut constater que la fonction $h(x)$ ne possède pas 4 racines mais une infinité ! Par conséquent, dans la fonction **`root_brackets`**, l'algorithme itératif ne pourra jamais converger car le nombre d'intervalles d'encadrement trouvés ne se stabilisera jamais. La seule solution pour éviter cette boucle infinie (et le débordement mémoire qui en résulte) est de modifier le code pour ***rajouter une sentinelle qui va limiter le nombre total d'intervalles à générer*** :"
   ]
  },
  {
   "cell_type": "code",
   "execution_count": 62,
   "metadata": {},
   "outputs": [],
   "source": [
    "# TODO :\n",
    "# rajouter un paramètre stop=25 dans l'entête de la fonction 'root_brackets'\n",
    "# rajouter un test qui interrompt la boucle lorsque le nb d'intervalles trouvés dépasse 'stop'"
   ]
  },
  {
   "cell_type": "markdown",
   "metadata": {},
   "source": [
    "En relançant le même test, on constate que l'erreur de débordement mémoire ne se produit plus : dès que la valeur de **new** (= nombre d'intervalles d'encadrement trouvés pour l'échantillonnage courant) dépasse le seuil défini par le paramètre **stop**, l'itération s'arrête et on renvoie les intervalles déjà identifiés :"
   ]
  },
  {
   "cell_type": "code",
   "execution_count": 64,
   "metadata": {
    "tags": []
   },
   "outputs": [
    {
     "name": "stdout",
     "output_type": "stream",
     "text": [
      "f : [(-4.5, -4.4375), (-1.0, -0.9375), (1.5, 1.5625), (4.0, 4.0625)]\n",
      "g : [(-3.9375, -3.875), (-3.1875, -3.125), (-2.375, -2.3125), (-0.8125, -0.75), (0.0, 0.0625), (0.75, 0.8125), (2.3125, 2.375), (3.125, 3.1875), (3.875, 3.9375)]\n",
      "h : [(-1.16015625, -1.15625), (-0.84765625, -0.84375), (-0.77734375, -0.7734375), (-0.74609375, -0.7421875), (-0.73046875, -0.7265625), (-0.71875, -0.71484375), (-0.7109375, -0.70703125), (-0.70703125, -0.703125), (-0.703125, -0.69921875), (-0.69921875, -0.6953125), (-0.6953125, -0.69140625), (-0.69140625, -0.6875), (-0.6875, -0.68359375), (-0.68359375, -0.6796875), (-0.6796875, -0.67578125), (-0.67578125, -0.671875), (-0.671875, -0.66796875), (-0.6640625, -0.66015625), (-0.66015625, -0.65625), (-0.65625, -0.65234375), (-0.6484375, -0.64453125), (-0.640625, -0.63671875), (-0.62890625, -0.625), (-0.625, -0.62109375), (-0.6171875, -0.61328125), (-0.60546875, -0.6015625), (-0.5859375, -0.58203125), (-0.55078125, -0.546875), (-0.46875, -0.46484375), (0.0, 0.00390625)]\n"
     ]
    }
   ],
   "source": [
    "print('f :', root_brackets(f,-5,5, n=80)) # on obtient toujours 4 intervalles d'encadrement\n",
    "print('g :', root_brackets(g,-5,5, n=80)) # on obtient toujours 9 intervalles d'encadrement\n",
    "print('h :', root_brackets(h,-5,5, n=80)) # on arrête la recherche si on dépasse 25 intervalles trouvés"
   ]
  },
  {
   "cell_type": "markdown",
   "metadata": {},
   "source": [
    "---\n",
    "### Recherche de racines par dichotomie\n",
    "\n",
    "La dernière action à mettre en oeuvre consiste à utiliser les intervalles d'encadrement des racines, obtenu par la fonction **`root_brackets`** pour obtenir la valeur de la racine de la fonction, en appliquant la [**recherche par dichotomie**](https://fr.wikipedia.org/wiki/M%C3%A9thode_de_dichotomie) pour chaque intervalle. Une fois de plus, on va décomposer le processus en deux étapes :\n",
    "\n",
    "La première étape consiste à écrire la fonction **`root_dicho(f, a, b, tol=1E-10)`** dont l'objectif est de calculer **une seule racine de la fonction** en supposant que $[a,b]$ est un encadrement de cette racine. Le paramètre **`tol`** (qui vaut $10^{-10}$ par défaut) correspond à la tolérance qui va être utilisée pour considérer qu'une valeur est nulle ou non, ce qui permettra d'arrêter la dichotomie lorsque qu'on a convergé vers une valeur numérique suffisamment proche de la racine à trouver :"
   ]
  },
  {
   "cell_type": "code",
   "execution_count": 65,
   "metadata": {},
   "outputs": [],
   "source": [
    "# TODO :\n",
    "# écrire l'entête et la docstring de la fonction root_dicho(f, a, b, tol=1E-10)\n",
    "# le paramètre 'tol' définit la tolérance utilisée pour considérer une valeur comme nulle\n",
    "# relire l'algorithme de la dichotomie sur Wikipedia pour bien comprendre son principe\n",
    "# l'algorithme utilise 6 variables : 'a' et 'b' = limites inférieure et supérieure de l'intervalle courant\n",
    "# 'c' = valeur médiane de l'intervalle courant, 'fa, fb, fc' = valeurs de la fonction en a, b et c\n",
    "# rajouter une clause 'assert' permettant de garantir que [a,b] est bien un encadrement de racine\n",
    "# La dichotomie doit s'arrêter lorsque 'fc' est suffisamment proche de zéro : -tol < fc < tol"
   ]
  },
  {
   "cell_type": "markdown",
   "metadata": {},
   "source": [
    "Vérifier l'implémentation sur les trois fonctions de test, en utilisant un des intervalles d'encadrement obtenus précédemment :"
   ]
  },
  {
   "cell_type": "code",
   "execution_count": 67,
   "metadata": {},
   "outputs": [
    {
     "name": "stdout",
     "output_type": "stream",
     "text": [
      "f : -4.5\n",
      "g : 2.3561944901943206\n",
      "h : -0.468028992775362\n"
     ]
    }
   ],
   "source": [
    "print('f :', root_dicho(f, -5, -4)) # on doit obtenir : -4.5\n",
    "print('g :', root_dicho(g, 2.3, 2.4)) # on doit obtenir : 2.3561944901943206\n",
    "print('h :', root_dicho(h, -0.5, -0.4)) # on doit obtenir : -0.468028992775362"
   ]
  },
  {
   "cell_type": "markdown",
   "metadata": {},
   "source": [
    "La seconde étape consiste à écrire la fonction **`roots_dicho(f, a, b, n=20, tol=1E-10)`** dont l'objectif est de calculer **toutes les racines de la fonction** (d'où le pluriel **`roots`**) en utilisant la détection des intervalles d'encadrements fournis par la fonction **`root_brackets`** et en appliquant la fonction **`root_dicho`** pour chacun d'eux. Comme précédemment, l'argument $n$ permet de définir la densité de l'échantillonnage initial utilisé pour la recherche des changements de signe :"
   ]
  },
  {
   "cell_type": "code",
   "execution_count": 68,
   "metadata": {},
   "outputs": [],
   "source": [
    "# TODO :\n",
    "# écrire l'entête et la docstring de la fonction roots_dicho(f, a, b, n=20, tol=1E-10)\n",
    "# utiliser root_brackets pour générer les intervalles d'encadrement\n",
    "# utiliser root_dicho pour calculer chaque racine\n",
    "# utiliser une liste par compréhension pour stocker les racines obtenues\n",
    "# Note : la fonction complète peut s'écrire en 1 seule instruction..."
   ]
  },
  {
   "cell_type": "markdown",
   "metadata": {},
   "source": [
    "On peut donc enfin obtenir les racines des trois fonctions de test sur l'intervalle $[-5,5]$ :"
   ]
  },
  {
   "cell_type": "code",
   "execution_count": 70,
   "metadata": {},
   "outputs": [
    {
     "name": "stdout",
     "output_type": "stream",
     "text": [
      "f : [-4.5, -1.0, 1.5, 4.0]\n",
      "g : [-3.9269908169517294, -3.1415926535846666, -2.3561944902176037, -0.7853981633670628, 0.0, 0.7853981633670628, 2.3561944902176037, 3.1415926535846666, 3.9269908169517294]\n",
      "h : [-1.158238245465327, -0.8462455497501651, -0.7765220670080453, -0.7457983268450334, -0.7285040073793425, -0.7174132750988065, -0.7096958485276446, -0.7040158684953894, -0.6996605744939188, -0.6962149467269683, -0.6934209381704477, -0.6911096711977507, -0.6860787235929138, -0.6811204924281355, -0.6791997681682176, -0.6734721537975616, -0.6713375602710556, -0.6630588344933201, -0.6570507698497465, -0.6528135332357579, -0.6455899821795583, -0.6395244078053111, -0.628556971781336, -0.6226249599681069, -0.6145057947751411, -0.6027164636816451, -0.5840416719456698, -0.5499612621570122, -0.4680289927709964, 0.0]\n"
     ]
    }
   ],
   "source": [
    "print('f :', roots_dicho(f, -5, 5))\n",
    "print('g :', roots_dicho(g, -5, 5))\n",
    "print('h :', roots_dicho(h, -5, 5, n=80)) # on augmente la densité de l'échantillonnage initial"
   ]
  },
  {
   "cell_type": "markdown",
   "metadata": {},
   "source": [
    "---\n",
    "### Recherche de racines par fausse position\n",
    "\n",
    "Maintenant que le travail est achevé pour la dichotomie, on va effectuer exactement le même processus en l'appliquant à la [**méthode de la fausse position**](https://fr.wikipedia.org/wiki/M%C3%A9thode_de_la_fausse_position). Il faut donc écrire les deux fonctions **`root_falsi`** et **`roots_falsi`** qui vont avoir les mêmes rôles et les mêmes arguments que les fonctions **`root_dicho`** et **`roots_dicho`**, mais en implémentant la recherche de racine par fausse position :"
   ]
  },
  {
   "cell_type": "code",
   "execution_count": 71,
   "metadata": {},
   "outputs": [],
   "source": [
    "# TODO :\n",
    "# écrire l'entête et la docstring de la fonction root_falsi(f, a, b, tol=1E-10)\n",
    "# relire l'algorithme de la fausse position sur Wikipedia pour bien comprendre son principe\n",
    "# écrire le corps de la fonction en s'inspirant de root_dicho"
   ]
  },
  {
   "cell_type": "code",
   "execution_count": 73,
   "metadata": {
    "tags": []
   },
   "outputs": [],
   "source": [
    "# TODO :\n",
    "# écrire roots_falsi(f, a, b, n=20, tol=1E-10) en s'inspirant très fortement de roots_dicho"
   ]
  },
  {
   "cell_type": "markdown",
   "metadata": {},
   "source": [
    "Vérifier l'implémentation sur les trois fonctions de tests :"
   ]
  },
  {
   "cell_type": "code",
   "execution_count": 75,
   "metadata": {},
   "outputs": [
    {
     "name": "stdout",
     "output_type": "stream",
     "text": [
      "f : [-4.5, -1.0, 1.5, 4.0]\n",
      "g : [np.float64(-3.9269908169252927), np.float64(-3.1415926535120637), np.float64(-2.3561944902367435), np.float64(-0.7853981633280738), 0.0, np.float64(0.7853981633280738), np.float64(2.3561944902367435), np.float64(3.1415926535120637), np.float64(3.9269908169252927)]\n",
      "h : [np.float64(-1.158238245439861), np.float64(-0.8462455497501067), np.float64(-0.7765220670083142), np.float64(-0.7457983268446701), np.float64(-0.7285040073795819), np.float64(-0.7174132750985229), np.float64(-0.7096958485276067), np.float64(-0.7040158684953918), np.float64(-0.699660574494001), np.float64(-0.696214946726948), np.float64(-0.6934209381704854), np.float64(-0.6875086475575884), np.float64(-0.6860787235928865), np.float64(-0.6811204924281502), np.float64(-0.6781798046089191), np.float64(-0.6731598005912026), np.float64(-0.6704606981067567), np.float64(-0.6640080462186542), np.float64(-0.656349504393079), np.float64(-0.6540490735657235), np.float64(-0.6483228815436007), np.float64(-0.6395244078052951), np.float64(-0.6285569717813669), np.float64(-0.6226249599682773), np.float64(-0.6145057947749109), np.float64(-0.6027164636814835), np.float64(-0.5840416719451205), np.float64(-0.549961262157949), np.float64(-0.4680289927724099), 0.0]\n"
     ]
    }
   ],
   "source": [
    "print('f :', roots_falsi(f, -5, 5))\n",
    "print('g :', roots_falsi(g, -5, 5))\n",
    "print('h :', roots_falsi(h, -5, 5, n=80)) # on augmente la densité de l'échantillonnage initial"
   ]
  },
  {
   "cell_type": "markdown",
   "metadata": {
    "tags": []
   },
   "source": [
    "---\n",
    "### Comparaison des deux techniques\n",
    "\n",
    "Les fonctions **`roots_dicho`** et **`roots_falsi`** fournissent toutes les deux des listes des racines pour les fonctions testées. Un premier test indispensable dans ce cas de figure, est de vérifier que les deux fonctions donnent bien les mêmes résultats.\n",
    "\n",
    "Mais attention, comme nous sommes sur de l'algorithmique numérique, il faut toujours que les vérifications incluent une tolérance sur les valeurs à comparer. Comme indiqué dans le chapitre 3 du cours, le module **`math`** de la bibliothèque standard fournit une fonction **`isclose`** permettant de tester si la différence de deux valeurs réelles est inférieure à une tolérance donnée. Sur le même principe, on peut écrire une fonction **`allclose(seqA, seqB, tol)`** qui permet de vérifier si toutes les paires d'éléments de même indice, au sein de deux séquences **`seqA`** et **`seqB`** sont séparées par une distance inférieure à la tolérance **`tol`** :"
   ]
  },
  {
   "cell_type": "code",
   "execution_count": 76,
   "metadata": {},
   "outputs": [],
   "source": [
    "def allclose(seqA, seqB, tol=1E-10):\n",
    "  \"\"\"check if all pairs of items from 'itemsA' and 'itemsB' are closer than 'tol'\"\"\"\n",
    "  return all(-tol < a-b < tol for a,b in zip(seqA, seqB))"
   ]
  },
  {
   "cell_type": "markdown",
   "metadata": {},
   "source": [
    "On peut donc vérifier si les racines fournies par les deux méthodes sont les mêmes :"
   ]
  },
  {
   "cell_type": "code",
   "execution_count": 77,
   "metadata": {},
   "outputs": [
    {
     "name": "stdout",
     "output_type": "stream",
     "text": [
      "f : True\n",
      "g : True\n",
      "h : True\n",
      "h with n=80 : False\n"
     ]
    }
   ],
   "source": [
    "print('f :', allclose(roots_dicho(f, -5, 5), roots_falsi(f, -5, 5)))\n",
    "print('g :', allclose(roots_dicho(g, -5, 5), roots_falsi(g, -5, 5)))\n",
    "print('h :', allclose(roots_dicho(h, -5, 5), roots_falsi(h, -5, 5)))\n",
    "print('h with n=80 :', allclose(roots_dicho(h, -5, 5, n=80), roots_falsi(h, -5, 5, n=80)))"
   ]
  },
  {
   "cell_type": "markdown",
   "metadata": {},
   "source": [
    "L'échec du dernier test s'explique très simplement par le fait que la fonction *h* est un cas très particulier puisqu'elle possède une infinité de racines. Cela signifie que certains des intervalles d'encadrements trouvés par **`root_brackets`** vont contenir un grand nombre de racines très proches. Par conséquent, pour un même intervalle, il est très probable que les deux méthodes convergent chacune vers une racine différente. Mais évidemment, ce cas pathologique ne remet pas en cause les deux méthodes qui fournissent bien des résultats identiques pour les cas usuels.\n",
    "\n",
    "Le second test pour comparer les deux méthodes consiste à mesurer leurs temps d'exécution sur un même jeu de données. Comme dans l'exercice B1, nous allons utiliser la commande magique **`%timeit`** pour cela :"
   ]
  },
  {
   "cell_type": "code",
   "execution_count": null,
   "metadata": {},
   "outputs": [],
   "source": [
    "print('<> Benchmark for roots_dicho vs. roots_falsi on function f :')\n",
    "%timeit roots_dicho(f, -5, 5)\n",
    "%timeit roots_falsi(f, -5, 5)\n",
    "print('<> Benchmark for roots_dicho vs. roots_falsi on function g :')\n",
    "%timeit roots_dicho(g, -5, 5)\n",
    "%timeit roots_falsi(g, -5, 5)\n",
    "print('<> Benchmark for roots_dicho vs. roots_falsi on function h with n=80 :')\n",
    "%timeit roots_dicho(h, -5, 5, n=80)\n",
    "%timeit roots_falsi(h, -5, 5, n=80)"
   ]
  },
  {
   "cell_type": "markdown",
   "metadata": {},
   "source": [
    "On constate que les temps d'exécution sont relativement proches, car les deux techniques ont à peu près la même vitesse de convergence, contrairement à ce que nous avions observé pour la recherche des nombres premiers. Néanmoins, il existe certaines familles de fonctions pour lesquelles la méthode de la fausse position se comporte de manière particulièrement efficace (par exemple, pour la fonction $g(x)$, elle est plus de 2x plus rapide que la méthode de la dichotomie), il est donc généralement conseillé de préférer la méthode de la fausse position à la dichotomie."
   ]
  },
  {
   "cell_type": "markdown",
   "metadata": {
    "tags": []
   },
   "source": [
    "<h2 style=\"padding:16px; color:#FFF; background:#06D\">Exercice B5 - Affichage de labyrinthes</h2>\n",
    "\n",
    "Comme on l'a rappelé dans le chapitre 3 du cours, le langage Python utilise l'encodage [**Unicode**](https://unicode-table.com/fr) pour définir et stocker les chaînes de caractères. En plus des jeux de caratères (***charset***, en anglais) utilisés pour écrire les différentes langues humaines, la norme Unicode définit également une grande variété de caractères typographiques, regroupés par catégories. Ainsi, entre les indices hexadécimaux **2500** et **257F** se trouve un jeu de caractères appelé [**box-drawing**](https://unicode-table.com/en/blocks/box-drawing) qui est destiné à l'affichage de lignes, de rectangles et de grilles.\n",
    "\n",
    "L'objectif de cet exercice est de se servir de ce jeu de caractères pour afficher des labyrinthes plus ou moins complexes, qui ont été générés en amont et qui sont fournis sous la forme de fichiers textes semi-structurés."
   ]
  },
  {
   "cell_type": "markdown",
   "metadata": {},
   "source": [
    "---\n",
    "### Utilisation des caractères \"box-drawing\"\n",
    "\n",
    "Ecrire une simple ligne de code permettant d'afficher les 128 symboles différents disponibles dans le jeu de caractères **box-drawing** du standard Unicode (penser à utiliser la fonction **`chr`** vue dans le chapitre 3 du cours) :"
   ]
  },
  {
   "cell_type": "code",
   "execution_count": 79,
   "metadata": {
    "tags": []
   },
   "outputs": [
    {
     "name": "stdout",
     "output_type": "stream",
     "text": [
      "─ ━ │ ┃ ┄ ┅ ┆ ┇ ┈ ┉ ┊ ┋ ┌ ┍ ┎ ┏ ┐ ┑ ┒ ┓ └ ┕ ┖ ┗ ┘ ┙ ┚ ┛ ├ ┝ ┞ ┟ ┠ ┡ ┢ ┣ ┤ ┥ ┦ ┧ ┨ ┩ ┪ ┫ ┬ ┭ ┮ ┯ ┰ ┱ ┲ ┳ ┴ ┵ ┶ ┷ ┸ ┹ ┺ ┻ ┼ ┽ ┾ ┿ ╀ ╁ ╂ ╃ ╄ ╅ ╆ ╇ ╈ ╉ ╊ ╋ ╌ ╍ ╎ ╏ ═ ║ ╒ ╓ ╔ ╕ ╖ ╗ ╘ ╙ ╚ ╛ ╜ ╝ ╞ ╟ ╠ ╡ ╢ ╣ ╤ ╥ ╦ ╧ ╨ ╩ ╪ ╫ ╬ ╭ ╮ ╯ ╰ ╱ ╲ ╳ ╴ ╵ ╶ ╷ ╸ ╹ ╺ ╻ ╼ ╽ ╾ ╿\n"
     ]
    }
   ],
   "source": [
    "print(' '.join(chr(n) for n in range(0x2500,0x2580))) # unicode 'box-drawing' charset"
   ]
  },
  {
   "cell_type": "markdown",
   "metadata": {},
   "source": [
    "En piochant parmi ces 128 symboles (et en y ajoutant le caractère espace) on peut créer les 16 motifs suivants, chacun composé de 2 caractères :"
   ]
  },
  {
   "cell_type": "code",
   "execution_count": 80,
   "metadata": {},
   "outputs": [
    {
     "name": "stdout",
     "output_type": "stream",
     "text": [
      "['  ', '╺━', '╹ ', '┗━', '╸ ', '━━', '┛ ', '┻━', '╻ ', '┏━', '┃ ', '┣━', '┓ ', '┳━', '┫ ', '╋━']\n"
     ]
    }
   ],
   "source": [
    "chars = '  :╺━:╹ :┗━:╸ :━━:┛ :┻━:╻ :┏━:┃ :┣━:┓ :┳━:┫ :╋━'.split(':')\n",
    "print(chars)"
   ]
  },
  {
   "cell_type": "markdown",
   "metadata": {},
   "source": [
    "et en juxtaposant judicieusement ces motifs, on peut simuler des murs et des couloirs, ce qui va permettre de dessiner n'importe quel labyrinthe :"
   ]
  },
  {
   "cell_type": "code",
   "execution_count": 81,
   "metadata": {},
   "outputs": [
    {
     "name": "stdout",
     "output_type": "stream",
     "text": [
      "╺━━━┳━━━━━━━┳━━━┓ \n",
      "    ┃       ┃   ┃ \n",
      "┏━━━╋━━━╸   ┃   ┃ \n",
      "┃   ┃           ┃ \n",
      "┣━━━┫   ━━━━┳━━━┛ \n",
      "┃   ┃       ┃     \n",
      "┗━━━┻━━━━━━━┻━━━╸ \n"
     ]
    }
   ],
   "source": [
    "print(chars[ 1]+chars[5]+chars[13]+chars[5]+chars[5]+chars[5]+chars[13]+chars[5]+chars[12])\n",
    "print(chars[ 0]+chars[0]+chars[10]+chars[0]+chars[0]+chars[0]+chars[10]+chars[0]+chars[10])\n",
    "print(chars[ 9]+chars[5]+chars[15]+chars[5]+chars[4]+chars[0]+chars[10]+chars[0]+chars[10])\n",
    "print(chars[10]+chars[0]+chars[10]+chars[0]+chars[0]+chars[0]+chars[ 0]+chars[0]+chars[10])\n",
    "print(chars[11]+chars[5]+chars[14]+chars[0]+chars[5]+chars[5]+chars[13]+chars[5]+chars[ 6])\n",
    "print(chars[10]+chars[0]+chars[10]+chars[0]+chars[0]+chars[0]+chars[10]+chars[0]+chars[ 0])\n",
    "print(chars[ 3]+chars[5]+chars[ 7]+chars[5]+chars[5]+chars[5]+chars[ 7]+chars[5]+chars[ 4])"
   ]
  },
  {
   "cell_type": "markdown",
   "metadata": {
    "tags": []
   },
   "source": [
    "---\n",
    "### Lecture des fichiers contenant les labyrinthes\n",
    "\n",
    "On fournit un ensemble de fichiers textes semi-structurés, contenant la description de quelques labyrinthes précalculés, de taille variable (matrice 15x15 pour le plus petit, jusqu'à 423x243 pour le plus grand). Les fichiers se trouvent dans le dossier **DATA** et se nomment **maze0.txt, ..., maze6.txt**. Vous pouvez évidemment les ouvrir directement dans **JupyterLab** pour examiner leur contenu, en utilisant l'explorateur de fichiers dans la zone de gauche. Voici, par exemple, le contenu du fichier **maze0.txt** :\n",
    "\n",
    "```\n",
    "# Sample maze file (size = 15x15)\n",
    "#\n",
    "# Each char defines one grid cell for the maze\n",
    "# where 'A' means wall and 'B' means corridor\n",
    "\n",
    "AAAAAAAAAAAAAAA\n",
    "BBBBABBBABABABA\n",
    "ABABAAABABABABA\n",
    "ABABBBABABBBBBA\n",
    "ABAAAAABAAAAABA\n",
    "ABBBABBBABBBBBA\n",
    "AAABABAAABAAABA\n",
    "ABBBABBBBBBBABA\n",
    "AAABAAABAAAAAAA\n",
    "ABBBBBBBBBBBABA\n",
    "ABAAABAAABAAABA\n",
    "ABABABABABBBABA\n",
    "AAABABABAAABABA\n",
    "ABBBBBABBBBBBBB\n",
    "AAAAAAAAAAAAAAA\n",
    "```\n",
    "\n",
    "Chaque labyrinthe est défini sur une grille rectangulaire, dont chaque case peut prendre l'un des deux états possibles : **'A'** veut dire que la case contient un mur, **'B'** veut dire que la case contient un couloir. Les sept labyrinthes fournis sont, ce qu'on appelle, des ***labyrinthes parfaits***, possédant les propriétés suivantes :\n",
    "\n",
    "- une seule porte d'entrée (elle sera systématiquement placée en haut à gauche)\n",
    "- une seule porte de sortie (elle sera systématiquement placée en bas à droite)\n",
    "- pas de zone entièrement entourée de murs\n",
    "- pas de zone entièrement entourée de couloirs\n",
    "- un seul chemin permettant d'aller de l'entrée à la sortie sans revenir sur ses pas\n",
    "\n",
    "Pour manipuler les fichiers des labyrinthes avec Python, on va utiliser la fonction **`load`** du module **`tools`** qui avait été détaillée au chapitre 3 du cours, dans le paragraphe E2. Comme on l'a vu, la fonction permet de lire un fichier texte semi-structuré et de renvoyer son contenu sous la forme d'une liste de lignes, en enlevant automatiquement toutes les lignes vides et toutes les lignes de commentaires :"
   ]
  },
  {
   "cell_type": "code",
   "execution_count": 82,
   "metadata": {},
   "outputs": [
    {
     "data": {
      "text/plain": [
       "['AAAAAAAAAAAAAAA',\n",
       " 'BBBBABBBABABABA',\n",
       " 'ABABAAABABABABA',\n",
       " 'ABABBBABABBBBBA',\n",
       " 'ABAAAAABAAAAABA',\n",
       " 'ABBBABBBABBBBBA',\n",
       " 'AAABABAAABAAABA',\n",
       " 'ABBBABBBBBBBABA',\n",
       " 'AAABAAABAAAAAAA',\n",
       " 'ABBBBBBBBBBBABA',\n",
       " 'ABAAABAAABAAABA',\n",
       " 'ABABABABABBBABA',\n",
       " 'AAABABABAAABABA',\n",
       " 'ABBBBBABBBBBBBB',\n",
       " 'AAAAAAAAAAAAAAA']"
      ]
     },
     "execution_count": 82,
     "metadata": {},
     "output_type": "execute_result"
    }
   ],
   "source": [
    "from SRC.tools import load\n",
    "load('DATA/maze0.txt')"
   ]
  },
  {
   "cell_type": "markdown",
   "metadata": {},
   "source": [
    "Ecrire deux ou trois lignes de code permettant de lire les différents labyrinthes fournis et d'afficher leur taille respective :"
   ]
  },
  {
   "cell_type": "code",
   "execution_count": 83,
   "metadata": {},
   "outputs": [],
   "source": [
    "# TODO :\n",
    "# une boucle, un 'load', un 'print' et deux 'len'\n",
    "# on doit obtenir : 15x15, 21x21, 41x41, 161x91, 241x141, 321x191, 423x243"
   ]
  },
  {
   "cell_type": "markdown",
   "metadata": {},
   "source": [
    "---\n",
    "### Affichage des labyrinthes\n",
    "\n",
    "Maintenant que les étapes de configuration sont achevées, il ne reste plus qu'à écrire le code de la fonction **`show_maze(maze)`** qui prend comme argument le contenu d'un fichier de labyrinthe (liste de chaînes composées de 'A' et de 'B') et produit l'affichage souhaité à l'écran, en utilisant les 16 motifs basés sur les caractères **box-drawing**, stockés dans la variable **`chars`** définie plus haut. Autrement dit, pour chacune des cases de la grille constituant le labyrinthe, l'algorithme doit identifier le motif spécifique à utiliser pour cette case. A titre d'exemple, la figure ci-dessous montre côte-à-côte, le contenu du fichier **maze0.txt** et la séquence des motifs qui ont été utilisés pour la visualisation :\n",
    "\n",
    "```\n",
    "AAAAAAAAAAAAAAA        ╺━━━━━━━┳━━━━━━━┳━━━┳━━━┳━━━┓ \n",
    "BBBBABBBABABABA                ┃       ┃   ┃   ┃   ┃ \n",
    "ABABAAABABABABA        ╻   ╻   ┗━━━┓   ┃   ╹   ╹   ┃ \n",
    "ABABBBABABBBBBA        ┃   ┃       ┃   ┃           ┃ \n",
    "ABAAAAABAAAAABA        ┃   ┗━━━┳━━━┛   ┣━━━━━━━╸   ┃ \n",
    "ABBBABBBABBBBBA        ┃       ┃       ┃           ┃ \n",
    "AAABABAAABAAABA        ┣━━━╸   ┃   ╺━━━┛   ╺━━━┓   ┃ \n",
    "ABBBABBBBBBBABA        ┃       ┃               ┃   ┃\n",
    "AAABAAABAAAAAAA        ┣━━━╸   ┗━━━╸   ╺━━━━━━━╋━━━┫ \n",
    "ABBBBBBBBBBBABA        ┃                       ┃   ┃\n",
    "ABAAABAAABAAABA        ┃   ┏━━━┓   ┏━━━┓   ╺━━━┫   ┃ \n",
    "ABABABABABBBABA        ┃   ┃   ┃   ┃   ┃       ┃   ┃ \n",
    "AAABABABAAABABA        ┣━━━┛   ╹   ┃   ┗━━━╸   ╹   ╹ \n",
    "ABBBBBABBBBBBBB        ┃           ┃                 \n",
    "AAAAAAAAAAAAAAA        ┗━━━━━━━━━━━┻━━━━━━━━━━━━━━━╸ \n",
    "```\n",
    "\n",
    "Si on analyse en parallèle la grille de caractères décrivant le labyrinthe et les motifs utilisés pour le tracé, on constate que le choix du motif pour chaque case dépend uniquement de l'état binaire (mur ou couloir) de la case considérée et des états binaires des quatre cases voisines (à l'est, au nord, à l'ouest ou au sud). L'ordre dans lequel les 16 motifs ont été stockés dans la variable **`chars`** permet justement de calculer très facilement le motif à choisir, en fonction des 5 informations binaires caractérisant chaque case.\n",
    "\n",
    "On va mettre en oeuvre deux implémentations différentes de cette fonction d'affichage **`show_mazeA(maze)`** et **`show_mazeB(maze)`**. La première va utiliser une approche incrémentale, caractère par caractère, tandis que la seconde se base sur une approche plus globale en utilisant une structure de données pour gérer le voisinage des cases."
   ]
  },
  {
   "cell_type": "code",
   "execution_count": 85,
   "metadata": {},
   "outputs": [],
   "source": [
    "# TODO :\n",
    "# écrire l'entête et la docstring de la fonction 'show_mazeA(maze)'\n",
    "# utiliser la variable 'chars' pour stocker les 16 motifs issus de 'box-drawing'\n",
    "# pour chaque case de la grille, déterminer les 5 booléens correspondants à sa situation :\n",
    "#   C = vrai si la case est un mur (faux pour un couloir)\n",
    "#   E = vrai si la case possède un mur à l'Est (faux pour un couloir)\n",
    "#   N, W, S = idem pour les murs au Nord, Ouest et Sud\n",
    "# note : les bordures de la grille nécessitent un traitement particulier\n",
    "# utiliser les 5 booléens pour trouver le motif à afficher\n",
    "# afficher la grille finale sous la forme d'une chaîne multi-lignes"
   ]
  },
  {
   "cell_type": "code",
   "execution_count": 87,
   "metadata": {
    "tags": []
   },
   "outputs": [
    {
     "name": "stdout",
     "output_type": "stream",
     "text": [
      "╺━━━━━━━┳━━━━━━━┳━━━┳━━━┳━━━┓ \n",
      "        ┃       ┃   ┃   ┃   ┃ \n",
      "╻   ╻   ┗━━━┓   ┃   ╹   ╹   ┃ \n",
      "┃   ┃       ┃   ┃           ┃ \n",
      "┃   ┗━━━┳━━━┛   ┣━━━━━━━╸   ┃ \n",
      "┃       ┃       ┃           ┃ \n",
      "┣━━━╸   ┃   ╺━━━┛   ╺━━━┓   ┃ \n",
      "┃       ┃               ┃   ┃ \n",
      "┣━━━╸   ┗━━━╸   ╺━━━━━━━╋━━━┫ \n",
      "┃                       ┃   ┃ \n",
      "┃   ┏━━━┓   ┏━━━┓   ╺━━━┫   ┃ \n",
      "┃   ┃   ┃   ┃   ┃       ┃   ┃ \n",
      "┣━━━┛   ╹   ┃   ┗━━━╸   ╹   ╹ \n",
      "┃           ┃                 \n",
      "┗━━━━━━━━━━━┻━━━━━━━━━━━━━━━╸ \n",
      "\n"
     ]
    }
   ],
   "source": [
    "maze = load('DATA/maze0.txt') # lecture d'un petit labyrinthe (15x15)\n",
    "show_mazeA(maze) # visualisation avec la fonction 'show_mazeA'"
   ]
  },
  {
   "cell_type": "markdown",
   "metadata": {},
   "source": [
    "---\n",
    "Dans la fonction **`show_mazeA(maze)`**, la chaîne à afficher est construite caractère par caractère, en traitant de manière séquentielle l'ensemble des conditions de voisinage pour chaque case. Or nous avons vu dans le chapitre 3 du cours, qu'il est généralement plus efficace en Python d'utiliser des listes par compréhension, car dans ce cas, les instructions de la boucle sont compilées une fois pour toute, au lieu d'être réinterprétées à chaque itération. A vous d'utiliser cette idée pour construire une seconde version **`show_mazeB(maze)`**, plus rapide..."
   ]
  },
  {
   "cell_type": "code",
   "execution_count": 88,
   "metadata": {},
   "outputs": [],
   "source": [
    "# TODO :\n",
    "# copier le code de la version précédente et renommer en 'show_mazeB(maze)'\n",
    "# construire 5 listes de booléens C,E,N,W,S de taille m*n, permettant de définir pour chaque case de la\n",
    "# grille, si cette case ou chacune de ses 4 voisines contient un mur ou non\n",
    "# regrouper les 5 listes avec 'zip' et en déduire le motif à utiliser pour chaque case de la grille"
   ]
  },
  {
   "cell_type": "code",
   "execution_count": 90,
   "metadata": {
    "tags": []
   },
   "outputs": [
    {
     "name": "stdout",
     "output_type": "stream",
     "text": [
      "╺━━━━━━━┳━━━━━━━┳━━━┳━━━┳━━━┓ \n",
      "        ┃       ┃   ┃   ┃   ┃ \n",
      "╻   ╻   ┗━━━┓   ┃   ╹   ╹   ┃ \n",
      "┃   ┃       ┃   ┃           ┃ \n",
      "┃   ┗━━━┳━━━┛   ┣━━━━━━━╸   ┃ \n",
      "┃       ┃       ┃           ┃ \n",
      "┣━━━╸   ┃   ╺━━━┛   ╺━━━┓   ┃ \n",
      "┃       ┃               ┃   ┃ \n",
      "┣━━━╸   ┗━━━╸   ╺━━━━━━━╋━━━┫ \n",
      "┃                       ┃   ┃ \n",
      "┃   ┏━━━┓   ┏━━━┓   ╺━━━┫   ┃ \n",
      "┃   ┃   ┃   ┃   ┃       ┃   ┃ \n",
      "┣━━━┛   ╹   ┃   ┗━━━╸   ╹   ╹ \n",
      "┃           ┃                 \n",
      "┗━━━━━━━━━━━┻━━━━━━━━━━━━━━━╸ \n"
     ]
    }
   ],
   "source": [
    "show_mazeB(maze) # visualisation avec la fonction 'show_mazeB'"
   ]
  },
  {
   "cell_type": "markdown",
   "metadata": {},
   "source": [
    "En testant les vitesses d'exécution avec **`timeit`** (pour effectuer le test, il faut mettre en commentaire la ligne **`print(out)`** dans les deux fonctions), on constate que la version B est près de 50% plus rapide que la version A :\n",
    "\n",
    "```\n",
    "maze = load('DATA/maze6.txt')\n",
    "%timeit show_mazeA(maze) --> 286 ms ± 9.69 ms per loop\n",
    "%timeit show_mazeB(maze) --> 192 ms ± 6.84 ms per loop\n",
    "```"
   ]
  },
  {
   "cell_type": "markdown",
   "metadata": {},
   "source": [
    "---\n",
    "Par défaut, **JupyterLab** effectue toujours un repliement des lignes pour le résultat d'une instruction **`print`** lorsque la longueur des lignes dépasse la taille horizontale disponible pour le notebook (selon la résolution de l'écran, et le facteur de zoom appliqué pour la visualisation du notebook, cette limite se trouve généralement comprise entre 80 et 150 caractères). Ce repliement automatique est évidemment fatal pour la visualisation des labyrinthes de grande taille, qui deviendront illisibles. Il suffit de remplacer **'maze0.txt'** par **'maze3.txt'** dans la cellule précédente pour avoir un aperçu du problème.\n",
    "\n",
    "Le module **`tools`** contient une fonction **`hscroll`** qui permet d'activer (ou désactiver) ce repliement, et va rajouter (ou supprimer) l'affichage d'un ascenseur horizontal permettant de naviguer librement du début à la fin des lignes, quelque soit leur longueur. Avec cet outil, l'affichage des grands labyrinthes devient possible :"
   ]
  },
  {
   "cell_type": "code",
   "execution_count": 91,
   "metadata": {},
   "outputs": [
    {
     "data": {
      "text/html": [
       "<style>pre {white-space: pre-wrap !important}</style>"
      ],
      "text/plain": [
       "<IPython.core.display.HTML object>"
      ]
     },
     "metadata": {},
     "output_type": "display_data"
    }
   ],
   "source": [
    "from SRC.tools import hscroll # import de 'hscroll' pour rajouter un ascenseur horizontal\n",
    "# enlever l'un des deux '#' en préfixe des lignes suivantes, selon la configuration souhaitée\n",
    "#hscroll(True) # active l'ascenseur horizontal pour les sorties des cellules de code\n",
    "hscroll(False) # désactive l'ascenseur horizontal pour les sorties des cellules de code (= par défaut)"
   ]
  },
  {
   "cell_type": "markdown",
   "metadata": {},
   "source": [
    "En activant l'ascenseur horizontal, vérifier que le labyrinthe géant s'affiche correctement avec la fonction **`show_maze`** :"
   ]
  },
  {
   "cell_type": "code",
   "execution_count": 92,
   "metadata": {
    "tags": []
   },
   "outputs": [],
   "source": [
    "maze = load('DATA/maze6.txt') # lecture d'un labyrinthe géant (423x243)\n",
    "#show_mazeB() # enlever le '#' en préfixe pour afficher le labyrinthe"
   ]
  },
  {
   "cell_type": "markdown",
   "metadata": {},
   "source": [
    "<h2 style=\"padding:16px; color:#FFF; background:#06D\">Exercice B6 - Equilibrage de réactions chimiques</h2>\n",
    "\n",
    "On s'intéresse aux équations des réactions chimiques de la forme :\n",
    "\n",
    "$$ a\\,A + b\\,B \\longrightarrow c\\,C + d\\,D $$\n",
    "\n",
    "- $A$ et $B$ sont les molécules présentes au départ de la réaction, appelés ***réactifs***\n",
    "- $C$ et $D$ sont les molécules présentes à la fin de la réaction, appelés ***produits***\n",
    "- $a, b, c, d$ sont des nombres entiers, appelés ***coefficients stoechiométriques***\n",
    "\n",
    "Habituellement, les molécules intervenant dans une équation chimique sont données sous leur **forme compacte**, en énumérant chaque élément atomique composant la molécule avec, de manière optionnelle, une valeur entière indiquant l'arité de cet atome (lorsque l'arité n'est pas indiquée, elle est supposée être égale à 1). Par exemple, la forme compacte de la molécule d'eau est **H<sub>2</sub>O** et celle du méthane est **CH<sub>4</sub>**\n",
    "\n",
    "Pour que l'équation d'une réaction chimique soit valide, il faut que le nombre total d'atomes de même nature soit **identique à droite et à gauche de la flèche** symbolisant la réaction (car une réaction chimique ne change que la nature des molécules, pas celle des atomes, selon le [**principe de Lavoisier**](https://fr.wikipedia.org/wiki/Conservation_de_la_masse)). Les coefficients stoechiométriques doivent donc être choisis pour garantir cette égalité, et l'opération qui consiste à déterminer le quadruplet $(a,b,c,d)$ de valeur minimale permettant de garantir l'égalité des nombres d'atomes s'appelle **l'équilibrage de la réaction chimique**. Par exemple, voici l'équation équilibrée de la combustion du méthane :\n",
    "\n",
    "$$CH_4 + 2\\, O_2 \\longrightarrow CO_2 + 2\\, H_2O$$\n",
    "\n",
    "(on peut vérifier qu'il y a bien 1 atome de carbone, 4 d'hydrogène et 4 d'oxygène de chaque côté de la réaction)\n",
    "\n",
    "L'objectif de l'exercice est d'écrire une fonction **`balance(reaction)`** qui permet d'équilibrer automatiquement une réaction chimique donnée en paramètre sous la forme d'une chaîne de caractères, en déterminant les valeurs des quatre coefficients stoechiométriques $(a, b, c, d)$. Voici des exemples d'utilisation pour trois réactions chimiques, correspondant respectivement à l'oxydation du sodium, la combustion du butane et la synthèse de l'urée :\n",
    "\n",
    "* <pre>balance('Na + H2O = NaOH + H2') ━► 2 Na + 2 H2O = 2 NaOH + H2</pre>\n",
    "* <pre>balance('C4H10 + O2 = CO2 + H2O') ━► 2 C4H10 + 13 O2 = 8 CO2 + 10 H2O<pre>\n",
    "* <pre>balance('Ag3H6 + N2Cl2CO = N2COH4 + AgCl') ━► 2 Ag3H6 + 3 N2Cl2CO = 3 N2COH4 + 6 AgCl<pre>\n",
    "\n",
    "Comme cet algorithme d'équilibrage est assez complexe, on va le décomposer en 3 étapes indépendantes..."
   ]
  },
  {
   "cell_type": "markdown",
   "metadata": {
    "editable": true,
    "slideshow": {
     "slide_type": ""
    },
    "tags": []
   },
   "source": [
    "---\n",
    "### Extraction des formes compactes des molécules\n",
    "\n",
    "La première étape consiste à écrire une version incomplète de la fonction **`balance(reaction)`** qui va simplement analyser la chaîne de caractères **`reaction`** correspondant à la réaction chimique, vérifier qu'elle comporte bien 2 réactifs et 2 produits, et renvoyer une liste de 4 chaînes de caractères contenant la forme compacte de chacune des 4 molécules intervenant dans la réaction."
   ]
  },
  {
   "cell_type": "code",
   "execution_count": 93,
   "metadata": {},
   "outputs": [],
   "source": [
    "# TODO :\n",
    "# écrire l'entête et la docstring de la fonction 'balance(reaction)'\n",
    "# décomposer la chaîne 'réaction' en utilisant '+' et '=' comme séparateurs\n",
    "# note : les éventuels caractères <ESPACE> figurant dans 'reaction' doivent être ignorés"
   ]
  },
  {
   "cell_type": "markdown",
   "metadata": {},
   "source": [
    "Vérifier votre algorithme en l'appliquant sur les exemples suivants :"
   ]
  },
  {
   "cell_type": "code",
   "execution_count": 95,
   "metadata": {},
   "outputs": [
    {
     "name": "stdout",
     "output_type": "stream",
     "text": [
      "CH4 = CO2 + H2O : syntax error\n",
      "CH4 + O2 = CO2 : syntax error\n",
      "CH4 + O2 + CO2 = H2O : syntax error\n",
      "CH4 = O2 + CO2 + H2O : syntax error\n",
      "['CH4', 'O2', 'CO2', 'H2O']\n",
      "['CH4', 'O2', 'CO2', 'H2O']\n",
      "['C4H10', 'O2', 'CO2', 'H2O']\n",
      "['Na', 'H2O', 'NaOH', 'H2']\n",
      "['Ag3H6', 'N2Cl2CO', 'N2COH4', 'AgCl']\n"
     ]
    }
   ],
   "source": [
    "print(balance('CH4 = CO2 + H2O')) # on doit obtenir une \"syntax error\" car il manque un réactif\n",
    "print(balance('CH4 + O2 = CO2')) # \"syntax error\" car il manque un produit\n",
    "print(balance('CH4 + O2 + CO2 = H2O')) # \"syntax error\" car il y a 3 réactifs\n",
    "print(balance('CH4 = O2 + CO2 + H2O')) # \"syntax error\" car il y a 3 produits\n",
    "print(balance('CH4 + O2 = CO2 + H2O')) # on doit obtenir ['CH4', 'O2', 'CO2', 'H2O']\n",
    "print(balance('CH4+O2=CO2+H2O')) # ['CH4', 'O2', 'CO2', 'H2O']\n",
    "print(balance('  C4H10  + O2 =   CO2  +  H2O ')) # ['C4H10', 'O2', 'CO2', 'H2O']\n",
    "print(balance('Na+H2O=NaOH+H2')) # ['Na', 'H2O', 'NaOH', 'H2']\n",
    "print(balance('Ag3H6+N2Cl2CO = N2COH4+AgCl')) # ['Ag3H6', 'N2Cl2CO', 'N2COH4', 'AgCl']"
   ]
  },
  {
   "cell_type": "markdown",
   "metadata": {},
   "source": [
    "---\n",
    "### Création des formes développées des molécules\n",
    "\n",
    "La seconde étape consiste à écrire une fonction **`expand(molecule)`** qui prend en entrée une chaîne de caractères représentant une molécule écrite sous sa forme compacte (par exemple, **`'H2O'`**) et retourne une liste représentant cette même molécule écrite sous sa forme développée, en répétant les atomes en fonction de leur arité (dans le cas de la molécule d'eau, cela doit donner **`['H','H','O']`**)"
   ]
  },
  {
   "cell_type": "code",
   "execution_count": 96,
   "metadata": {},
   "outputs": [],
   "source": [
    "# TODO :\n",
    "# écrire l'entête et la docstring de la fonction 'expand(molecule)'\n",
    "# parcourir la chaîne 'molecule' caractère par caractère, en mettant à jour 3 variables :\n",
    "#   'atoms' = la liste à construire, 'atom' et 'n' = le nom et l'arité de l'atome courant\n",
    "# penser à traiter différemment les lettres majuscules, les lettres minuscules et les chiffres\n",
    "# il est plus simple d'insérer les atomes dans la liste lorsque la boucle arrive sur l'atome\n",
    "#   suivant, car on dispose alors de son nom complet (1 ou 2 lettres) et de son arité exacte\n",
    "# rajouter un faux atome 'Z' à la fin de la chaîne 'molecule' permet de simplifier l'algorithme"
   ]
  },
  {
   "cell_type": "markdown",
   "metadata": {},
   "source": [
    "Vérifier votre algorithme en l'appliquant sur les exemples suivants :"
   ]
  },
  {
   "cell_type": "code",
   "execution_count": 98,
   "metadata": {},
   "outputs": [
    {
     "name": "stdout",
     "output_type": "stream",
     "text": [
      "['H', 'H', 'O']\n",
      "['Fe', 'Fe', 'O', 'H', 'H', 'H', 'H']\n",
      "['C', 'C', 'C', 'C', 'H', 'H', 'H', 'H', 'H', 'H', 'H', 'H', 'H', 'H']\n"
     ]
    }
   ],
   "source": [
    "print(expand('H2O')) # on doit obtenir ['H','H','O']\n",
    "print(expand('Fe2OH4')) # ['Fe','Fe','O','H','H','H','H']\n",
    "print(expand('C4H10')) # ['C','C','C','C','H','H','H','H','H','H','H','H','H','H']"
   ]
  },
  {
   "cell_type": "markdown",
   "metadata": {},
   "source": [
    "---\n",
    "### Calcul des coefficients stoechiométriques\n",
    "\n",
    "La dernière partie de l'algorithme consiste à déterminer les valeurs des coefficients stoechiométriques $(a, b, c, d)$ pour obtenir une équation chimique équilibrée. L'opération revient à résoudre un système linéaire à 4 inconnues et (comme nous le verrons dans les chapitres ultérieurs du cours) l'éco-système Python possède plusieurs bibliothèques de calcul numérique qui permettent d'effectuer cette résolution de manière très simple.\n",
    "\n",
    "Mais dans cet exercice, nous allons utiliser une méthode encore plus triviale, dite ***algorithme de force brute***, dans lequel on va tout simplement énumérer toutes les combinaisons possibles pour les 4 coefficients $(a, b, c, d)$ et déterminer le quadruplet qui permet d'obtenir l'équilibre de la réaction. Dans une technique de force brute, il faut définir un ***domaine de variation*** pour les paramètres dont on cherche à énumérer les valeurs possibles. Dans le cas des coefficients stoechiométriques, les équations chimiques où l'un des coefficients dépasse la valeur 10 sont extrêmement rares, et celles où l'un des coefficients dépasse la valeur 15 sont quasiment inexistantes. Dans ces conditions, définir l'ensemble **{1, 2, ..., 15}** comme domaine de variation est une option très sûre pour le problème à résoudre. Cela signifie qu'il y a donc au maximum **15<sup>4</sup> = 50625** configurations à tester, ce qui va prendre à peine quelques millisecondes sur un ordinateur actuel.\n",
    "\n",
    "L'ensemble des combinaisons possibles pour les 4 coefficients $(a,b,c,d)$ correspond au produit cartésien des 4 domaines de variation, ce qui s'obtient très facilement au moyen de 4 boucles **`for`** imbriquées :\n",
    "```\n",
    "domain = range(1, 16) # définition du domaine de variation pour les 4 coefficients\n",
    "for a in domain:\n",
    "  for b in domain:\n",
    "    for c in domain:\n",
    "      for d in domain:\n",
    "        # vérification de l'équilibre de la réaction pour le quadruplet (a, b, c, d)\n",
    "```\n",
    "\n",
    "Une solution alternative plus compacte (que nous avons déjà utilisé en 2D dans l'exercice sur l'affichage des labyrinthes) consiste à effectuer une boucle **`for`** unique sur l'ensemble des configurations et de calculer les valeurs des coefficients $(a, b, c, d)$ par décompositions euclidiennes successives avec la fonction **`divmod`** :\n",
    "```\n",
    "N = 15 # valeur max pour les 4 coefficients (a, b, c, d)\n",
    "for n in range(N**4):\n",
    "  n, a = divmod(n, N); n, b = divmod(n, N); n, c = divmod(n, N); n, d = divmod(n, N)\n",
    "  # vérification de l'équilibre de la réaction pour le quadruplet (a+1, b+1, c+1, d+1)\n",
    "```\n",
    "\n",
    "Mais la solution la plus efficace consiste à utiliser la fonction **`product`** du module **`itertools`** vu dans le chapitre 3 du cours, qui (comme son nom l'indique) permet de générer un produit cartésien entre plusieurs domaines de variation, et ainsi de fusionner un nombre arbitraire de boucles **`for`** \n",
    "imbriquées en une seule :\n",
    "\n",
    "```\n",
    "from itertools import product\n",
    "domain = range(1, 16) # définition du domaine de variation pour les 4 coefficients\n",
    "for a, b, c, d in product(domain, domain, domain, domain):\n",
    "  # vérification de l'équilibre de la réaction pour le quadruplet (a, b, c, d)\n",
    "```\n",
    "\n",
    "Pour effectuer la vérification de l'équilibre de la réaction chimique pour un quadruplet $(a, b, c, d)$ donné, on va utiliser l'opérateur de répétition **`*`** et la fonction **`sorted`** disponibles pour les listes Python, et l'appliquer aux formes développées des molécules renvoyées par la fonction **`expand`**. Si on reprend l'exemple de la combustion du méthane, mentionné plus haut, le membre gauche de l'équation peut s'évaluer de la manière suivante :\n",
    "\n",
    "```sorted(['C','H','H','H','H'] + 2*['O','O']) ━► ['C', 'H', 'H', 'H', 'H', 'O', 'O', 'O', 'O']```\n",
    "\n",
    "et le membre droit de la manière suivante :\n",
    "\n",
    "```sorted(['C','O','O'] + 2*['H','H','O']) ━► ['C', 'H', 'H', 'H', 'H', 'O', 'O', 'O', 'O']```\n",
    "\n",
    "On constate que les listes (triées par noms d'atome) renvoyées par les deux expressions sont identiques, ce qui signifie que cette équation est équilibrée lorsqu'on utilise les coefficients suivants : **a = 1, b = 2, c = 1, d = 2**\n",
    "\n",
    "En intégrant l'ensemble de ces remarques, écrire une version finale de la fonction **`balance(reaction)`** qui va permettre, soit de trouver la valeur des coefficients stoechiométriques permettant d'équilibrer l'équation chimique passée en paramètre, soit de renvoyer un message indiquant que l'équilibrage n'est pas possible. "
   ]
  },
  {
   "cell_type": "code",
   "execution_count": 99,
   "metadata": {},
   "outputs": [],
   "source": [
    "# TODO :\n",
    "# repartir du code précédent de la fonction 'balance(reaction)'\n",
    "# utiliser les variables A, B, C, D pour stocker la forme compacte des molécules\n",
    "# utiliser les variables AA, BB, CC, DD pour stocker la forme développée des molécules\n",
    "# utiliser la fonction 'product' pour générer l'ensemble des combinaisons possibles pour (a,b,c,d)\n",
    "# interrompre la boucle dès qu'une version équilibrée de l'équation a été trouvée"
   ]
  },
  {
   "cell_type": "markdown",
   "metadata": {},
   "source": [
    "Vérifier votre algorithme en l'appliquant sur les exemples suivants :"
   ]
  },
  {
   "cell_type": "code",
   "execution_count": 101,
   "metadata": {},
   "outputs": [
    {
     "name": "stdout",
     "output_type": "stream",
     "text": [
      "CH4 + 2 O2 = CO2 + 2 H2O\n",
      "2 Na + 2 H2O = 2 NaOH + H2\n",
      "2 C4H10 + 13 O2 = 8 CO2 + 10 H2O\n",
      "2 Ag3H6 + 3 N2Cl2CO = 3 N2COH4 + 6 AgCl\n",
      "CH4 + CO = CO2 + H2O : no balanced solution\n",
      "CH4 + O2 = CO2 : syntax error\n"
     ]
    }
   ],
   "source": [
    "print(balance('CH4 + O2 = CO2 + H2O')) # on doit obtenir CH4 + 2 O2 = CO2 + 2 H2O\n",
    "print(balance('Na + H2O = NaOH + H2')) # 2 Na + 2 H2O = 2 NaOH + H2\n",
    "print(balance('C4H10 + O2 = CO2 + H2O')) # 2 C4H10 + 13 O2 = 8 CO2 + 10 H2O\n",
    "print(balance('Ag3H6 + N2Cl2CO = N2COH4 + AgCl')) # 2 Ag3H6 + 3 N2Cl2CO = 3 N2COH4 + 6 AgCl\n",
    "print(balance('CH4 + CO = CO2 + H2O')) # CH4 + CO = CO2 + H2O : no balanced solution\n",
    "print(balance('CH4 + O2 = CO2')) # CH4 + O2 = CO2 : syntax error"
   ]
  },
  {
   "cell_type": "markdown",
   "metadata": {},
   "source": [
    "<h2 style=\"padding:16px; color:#FFF; background:#06D\">Exercice B7 - Découpages et partitions</h2>\n",
    "\n",
    "Dans les techniques d'optimisation numérique, notamment avec les [**techniques gloutonnes**](https://fr.wikipedia.org/wiki/Algorithme_glouton) ou les [**techniques de force brute**](https://fr.wikipedia.org/wiki/Recherche_exhaustive), il est assez fréquent de devoir énumérer ***tous les découpages possibles pour une séquence ordonnée***, ou ***toutes les partitions possibles pour un ensemble***. Ces deux algorithmes d'énumération ont des structures très similaires, ce qui justifie de les étudier dans le même exercice. Plutôt que d'implémenter ces deux algorithmes sous la forme de fonctions, on va les écrire ***sous la forme de générateurs*** comme on l'avait fait pour le générateur de factorielles dans le chapitre 3 du cours. Concrétement, on cherche à écrire les deux générateurs suivants :\n",
    "\n",
    "- **`gen_cuts(seq)`** qui génére un par un, tous les découpages possibles pour la séquence **`seq`**\n",
    "- **`gen_parts(seq)`** qui génère une par une, toutes les partitions possibles pour la séquence **`seq`**\n",
    "\n",
    "> **Note :**  L'utilisation du préfixe **`gen_`** (ou alternativement du suffixe **`_gen`**) pour différencier les noms des générateurs par rapport aux noms des fonctions est une pratique assez courante en Python\n",
    "\n",
    "Les algorithmes mis en oeuvre dans ces deux générateurs peuvent être utilisés pour découper ou partitionner n'importe quelle séquence valide en Python. Néanmoins, pour simplifier la visualisation des résultats, on va supposer que la séquence à traiter est une simple chaîne de caractères. Ainsi, on va pouvoir fusionner chaque découpage ou chaque partition en une chaîne de caractères unique, en insérant le caractère **`.`** comme séparateur pour les différentes composantes. Pour éviter de refaire manuellement ce processus à chaque nouvelle séquence, on va créer deux fonctions additionnelles **`show_cuts(seq)`** et **`show_parts(seq)`** qui vont appeler les générateurs précédents et afficher les résultats sous la forme souhaitée.\n",
    "\n",
    "Par exemple, en partant de la séquence **`'ABCD'`**, voici le résultat que devront produire ces deux fonctions :\n",
    "\n",
    "```python\n",
    ">>> show_cuts('ABCD')\n",
    "['ABCD', 'A.BCD', 'AB.CD', 'ABC.D', 'A.B.CD', 'A.BC.D', 'AB.C.D', 'A.B.C.D']\n",
    "\n",
    ">>> show_parts('ABCD')\n",
    "['ABCD', 'A.BCD', 'B.ACD', 'C.ABD', 'D.ABC', 'AB.CD', 'AC.BD', 'AD.BC', 'A.B.CD', 'A.C.BD', 'A.D.BC', 'B.C.AD', 'B.D.AC', 'C.D.AB', 'A.B.C.D']\n",
    "```\n",
    "\n",
    "Dans le cas des découpages, l'ordre des éléments de la séquence de départ est conservé. Il est donc assez facile de démontrer que le nombre total de découpages possibles pour une séquence de taille **n**\n",
    "est égal à ${\\sf 2^{n-1}}$. Dans le cas des partitions, l'ordre des éléments n'est pas conservé, puisque la séquence est considéré comme un ensemble non ordonné, il faut juste garantir que chaque élément de l'ensemble ne se trouve que dans une seule partie. Trouver le nombre total de partitions possibles pour un ensemble de taille **n** est nettement plus complexe. Il a fallu attendre le début du XXe siècle pour obtenir une formulation explicite de cette valeur en fonction de **n** par le mathématicien Eric Temple Bell, valeurs qu'on appelle pour cette raison les [**nombres de Bell**](https://fr.wikipedia.org/wiki/Nombre_de_Bell) et qui s'obtiennent par récurrence sur la valeur de **n**."
   ]
  },
  {
   "cell_type": "markdown",
   "metadata": {},
   "source": [
    "---\n",
    "### Enumération des découpages\n",
    "\n",
    "En analysant le résultat fourni ci-dessus par la fonction **`gen_cuts`**, on peut comprendre le processus à mettre en oeuvre : on génère d'abord **tous les découpages avec 0 coupe** (il n'y a évidement qu'une seule possibilité **`ABCD`**), puis **tous les découpages avec 1 seule coupe** (il y a 3 possibilités **`A.BCD`**, **`AB.CD`** et **`ABC.D`**), puis **tous les découpages avec 2 coupes** (il y a 3 possibilités également **`A.B.CD`**, **`A.BC.D`** et **`AB.C.D`**) et enfin **tous les découpages avec 3 coupes** (là il n'y a de nouveau qu'une seule possibilité **`A.B.C.D`**).\n",
    "\n",
    "Une implémentation naïve consiste à utiliser une boucle unique pour trouver les positions possibles pour les découpages à 1 coupe, deux boucles imbriquées pour les découpages à 2 coupes, trois boucles imbriquées pour les découpages à 3 coupes, etc. Le problème de cette approche est que le nombre de boucles imbriquées nécessaires dépend de la taille de la séquence à découper (pour une séquence de taille **n**, on peut avoir jusqu'à **n-1** coupes, en découpant chaque élément), et il est donc impossible de créer un code contenant suffisamment de boucles imbriquées pour prendre en compte tous les cas possibles.\n",
    "\n",
    "Une manière de contourner cette difficulté serait d'employer une solution similaire à celle mise en oeuvre dans l'exercice B6 avec l'emploi de la fontion **`product`** du module **`itertools`** permettant de générer le produit cartésien de tous les domaines utilisés pour chacune des boucles imbriquées, mais comme ces domaines varient d'une boucle à l'autre (ce qui n'était pas le cas dans l'exercice B6), l'utilisation de **`product`** donne au final une solution assez complexe avec un grand nombre de lignes de code.\n",
    "\n",
    "Dans ce cas de figure, il est beaucoup plus efficace d'oublier les algorithmes itératifs pour regarder du côté des algorithmes récursifs : une fois que l'on a réussi à lister tous les découpages d'une séquence de taille **n**, il est très facile de générer tous les découpages d'une séquence de taille **n+1** en rajoutant le nouvel élément à la fin de chacun des découpages trouvés précédemment. L'énumération des cas pour les premières valeurs de **n** permet de comprendre comment fonctionne le processus récursif :\n",
    "\n",
    "- **n = 1** : un seul caractère **`A`**, un seul découpage possible **`[A]`**\n",
    "- **n = 2** : on rajoute le caractère **`B`** au découpage précédent, il y a deux manières de le faire : soit on rajoute une nouvelle coupe indépendante contenant **`B`**, soit on rajoute **`B`** à la coupe existante. Il y a donc un total de deux découpages possibles : **`[A.B, AB]`**\n",
    "- **n = 3** : on rajoute le caractère **`C`** aux deux découpages précédents, avec à nouveau deux manières de le faire : soit on rajoute une nouvelle coupe contenant **`C`** à la suite des coupes précédentes, soit on rajoute **`C`** comme dernier élément de la dernière coupe. Il y a donc ici quatre découpages possibles : **`[A.B.C, A.BC, AB.C, ABC]`**\n",
    "- **n = 4, n = 5...** : on suit le même principe pour toutes les valeurs de **n** car à chaque fois, il y a deux manières d'insérer le nouveau caractère dans les découpages obtenus à l'étape précédente, donc le nombre total de découpages double à chaque fois que la valeur **n** augmente de 1...\n",
    "\n",
    "Avec ces différentes explications, l'implémentation récursive du générateur **`gen_cuts(seq)`** ne devrait pas poser de difficulté majeure :"
   ]
  },
  {
   "cell_type": "code",
   "execution_count": 102,
   "metadata": {},
   "outputs": [],
   "source": [
    "# TODO :\n",
    "# écrire l'entête et la docstring du générateur 'gen_cuts(seq)'\n",
    "# définir le plancher de la récursivité et la valeur à retourner (avec 'yield') dans ce cas\n",
    "# parcourir la liste des découpages obtenus par un appel récursif en enlevant le dernier élément\n",
    "#   et pour chacun de ces découpages, retourner (toujours avec 'yield') les 2 découpages obtenus en insérant\n",
    "#   le dernier élément soit comme une coupe indépendante, soit en l'insérant à la fin de la dernière coupe\n",
    "# chaque découpage obtenu sera renvoyé sous la forme d'une liste de chaînes de caractères"
   ]
  },
  {
   "cell_type": "markdown",
   "metadata": {},
   "source": [
    "Vérifier l'implémentation sur l'exemple précédent. Comme on l'a vu au chapitre 3, pour afficher le résultat complet fourni par un générateur, il faut soit utiliser une boucle pour récupérer, un par un, les éléments générés, soit convertir le résultat dans une structure séquentielle, comme une liste ou un tuple :"
   ]
  },
  {
   "cell_type": "code",
   "execution_count": 104,
   "metadata": {},
   "outputs": [
    {
     "data": {
      "text/plain": [
       "[['A', 'B', 'C', 'D'],\n",
       " ['A', 'B', 'CD'],\n",
       " ['A', 'BC', 'D'],\n",
       " ['A', 'BCD'],\n",
       " ['AB', 'C', 'D'],\n",
       " ['AB', 'CD'],\n",
       " ['ABC', 'D'],\n",
       " ['ABCD']]"
      ]
     },
     "execution_count": 104,
     "metadata": {},
     "output_type": "execute_result"
    }
   ],
   "source": [
    "list(gen_cuts('ABCD')) # on doit obtenir [[['A','B','C','D'], ['A','B','CD'], ['A','BC','D'], ..., ['ABCD']]"
   ]
  },
  {
   "cell_type": "markdown",
   "metadata": {},
   "source": [
    "---\n",
    "Pour améliorer la lisibilité, on crée une fonction **`show_cuts(seq)`** qui va fusionner chacun des découpages fournis par le générateur précédent en une chaîne unique, en insérant le caractère **`.`** entre les différentes coupes :"
   ]
  },
  {
   "cell_type": "code",
   "execution_count": 107,
   "metadata": {},
   "outputs": [],
   "source": [
    "# TODO :\n",
    "# écrire l'entête et la docstring de la fonction 'show_cuts(seq)'\n",
    "# convertir chaque découpage en une chaîne unique en utilisant '.' comme séparateur de coupes\n",
    "# afficher l'ensemble des découpages sous la forme d'une liste de chaînes de caractères"
   ]
  },
  {
   "cell_type": "code",
   "execution_count": 109,
   "metadata": {},
   "outputs": [
    {
     "name": "stdout",
     "output_type": "stream",
     "text": [
      "['A.B.C.D', 'A.B.CD', 'A.BC.D', 'A.BCD', 'AB.C.D', 'AB.CD', 'ABC.D', 'ABCD']\n"
     ]
    }
   ],
   "source": [
    "show_cuts('ABCD') # on doit obtenir ['A.B.C.D', 'A.B.CD', 'A.BC.D', ..., 'ABCD']"
   ]
  },
  {
   "cell_type": "markdown",
   "metadata": {},
   "source": [
    "---\n",
    "L'ordre des découpages générés dépend de la manière dont on effectue les appels récursifs. Lorsqu'on doit simplement énumérer l'ensemble des découpages possibles, il n'y a pas nécessairement un ordre à privilégier par rapport à un autre. Néanmoins, dans certains cas, il peut être intéressant de parcourir les découpages selon un ordre précis. Dans le résultat donné au début de l'exercice, les découpages sont classés ***par nombres croissants de coupes*** (critère de tri primaire) puis ***par positions croissantes des coupes*** (critère de tri secondaire). Modifier le code de la fonction **`show_cuts(seq)`** pour inclure ce double tri dans le résultat affiché :"
   ]
  },
  {
   "cell_type": "code",
   "execution_count": 110,
   "metadata": {},
   "outputs": [],
   "source": [
    "# TODO :\n",
    "# modifier le code de la fonction 'show_cuts' écrite précédemment, pour inclure le double tri demandé\n",
    "# le tri doit nécessairement se faire en post-traitement lorsque tous les découpages sont disponibles"
   ]
  },
  {
   "cell_type": "code",
   "execution_count": 112,
   "metadata": {},
   "outputs": [
    {
     "name": "stdout",
     "output_type": "stream",
     "text": [
      "['ABCD', 'A.BCD', 'AB.CD', 'ABC.D', 'A.B.CD', 'A.BC.D', 'AB.C.D', 'A.B.C.D']\n"
     ]
    }
   ],
   "source": [
    "show_cuts('ABCD') # on doit obtenir le résultat affiché au début de l'exercice"
   ]
  },
  {
   "cell_type": "markdown",
   "metadata": {},
   "source": [
    "---\n",
    "### Enumération des partitions\n",
    "\n",
    "L'algorithme d'énumération des partitions est très similaire à celui de l'énumération des découpages. On va utiliser le même principe de récursivité, et comme précédemment, l'énumération des cas pour les premières valeurs de **n** permet de comprendre comment fonctionne ce processus récursif :\n",
    "\n",
    "- **n = 1** : un seul caractère **`A`**, un seul partition possible **`[A]`**\n",
    "- **n = 2** : on rajoute le caractère **`B`** au partition précédent, il y a deux manières de le faire : soit on rajoute une nouvelle partie indépendante contenant **`B`**, soit on rajoute **`B`** à la partie existante. Il y a donc 2 partitions possibles : **`[A.B, AB]`**. Ici on a inséré **`B`** systématiquement en seconde position, mais comme l'ordre des éléments ne compte pas pour les ensembles, insérer **`B`** en première position n'aurait rien changé dans les partitions obtenus.\n",
    "- **n = 3** : on rajoute le caractère **`C`** aux deux partitions précédents, avec cette fois-ci un nombre variable de possibilités selon les partitions existants. Pour le partition **`A.B`** il y a trois manières d'insérer le caractère **`C`** : soit comme une partie indépendante, soit de le rajouter dans la partie contenant **`A`**, soit dans celle contenant **`B`**. Par contre, pour le partition **`AB`**, il n'y a que deux manières de procéder : soit comme partie indépendante, soit de le rajouter à la seule partie existante **`AB`**. Il y a donc au total 5 partitions possibles : **`[A.B.C, AC.B, A.BC, AB.C, ABC]`**\n",
    "- **n = 4, n = 5...** : on suit le même principe pour toutes les valeurs de **n**. A chaque appel récursif, le nouveau caractère est inséré soit comme une nouvelle partie indépendante, soit est ajouté (via une boucle) à chaque partie présente dans le partition précédent...\n",
    "\n",
    "Avec ces différentes explications, à vous de trouver les modifications à effectuer sur le code du générateur précédent, pour obtenir celui du nouveau générateur **`gen_parts(seq)`** :"
   ]
  },
  {
   "cell_type": "code",
   "execution_count": 113,
   "metadata": {},
   "outputs": [],
   "source": [
    "# TODO\n",
    "# copier le code du générateur 'gen_cuts' et le renommer en 'get_parts'\n",
    "# transformer tous les identificateurs 'cuts' en 'parts'\n",
    "# remplacer l'instruction qui insère le dernier élément à la dernière coupe, par une boucle qui insère\n",
    "#   cet élément derrière chacune des parties des partitions obtenus par l'appel récursif"
   ]
  },
  {
   "cell_type": "markdown",
   "metadata": {},
   "source": [
    "Vérifier l'implémentation sur l'exemple précédent, en convertissant le résultat en liste :"
   ]
  },
  {
   "cell_type": "code",
   "execution_count": 115,
   "metadata": {},
   "outputs": [
    {
     "data": {
      "text/plain": [
       "[['A', 'B', 'C', 'D'],\n",
       " ['AD', 'B', 'C'],\n",
       " ['A', 'BD', 'C'],\n",
       " ['A', 'B', 'CD'],\n",
       " ['AC', 'B', 'D'],\n",
       " ['ACD', 'B'],\n",
       " ['AC', 'BD'],\n",
       " ['A', 'BC', 'D'],\n",
       " ['AD', 'BC'],\n",
       " ['A', 'BCD'],\n",
       " ['AB', 'C', 'D'],\n",
       " ['ABD', 'C'],\n",
       " ['AB', 'CD'],\n",
       " ['ABC', 'D'],\n",
       " ['ABCD']]"
      ]
     },
     "execution_count": 115,
     "metadata": {},
     "output_type": "execute_result"
    }
   ],
   "source": [
    "list(gen_parts('ABCD')) # on doit obtenir [['A','B','C','D'], ['AD','B','C'], ..., ['ABCD']]"
   ]
  },
  {
   "cell_type": "markdown",
   "metadata": {},
   "source": [
    "---\n",
    "Comme on l'a fait pour les découpages, on va améliorer la lisibilité en créant une fonction **`show_parts(seq)`** qui va fusionner chacune des partitions en une chaîne unique, en insérant le caractère **`.`** entre les différentes parties :"
   ]
  },
  {
   "cell_type": "code",
   "execution_count": 118,
   "metadata": {},
   "outputs": [],
   "source": [
    "# TODO :\n",
    "# copier le code de la fonction 'show_cuts' et le renommer en 'show_parts'\n",
    "# transformer tous les identificateurs 'cuts' en 'parts'"
   ]
  },
  {
   "cell_type": "code",
   "execution_count": 120,
   "metadata": {},
   "outputs": [
    {
     "name": "stdout",
     "output_type": "stream",
     "text": [
      "['A.B.C.D', 'AD.B.C', 'A.BD.C', 'A.B.CD', 'AC.B.D', 'ACD.B', 'AC.BD', 'A.BC.D', 'AD.BC', 'A.BCD', 'AB.C.D', 'ABD.C', 'AB.CD', 'ABC.D', 'ABCD']\n"
     ]
    }
   ],
   "source": [
    "show_parts('ABCD') # on doit obtenir ['A.B.C.D', 'AD.B.C', 'A.BD.C', ..., 'ABCD']"
   ]
  },
  {
   "cell_type": "markdown",
   "metadata": {},
   "source": [
    "---\n",
    "Comme précédemment, l'ordre des partitions générés dépend de la manière dont on effectue les appels récursifs. Dans le résultat donné au début de l'exercice, on a effectué un double tri : les parties d'une même partition sont classées ***par tailles croissantes des parties*** (critère de tri primaire) puis ***par ordre alphabétique des éléments dans chaque partie*** (critère de tri secondaire), et les différents partitions sont classés ***par nombres de partitions croissants*** (critère de tri primaire) puis ***par tailles croissantes des parties*** (critère de tri secondaire) et enfin ***par ordre alphabétique des partitions*** (critère de tri tertiaire). Modifier le code de la fonction **`show_parts(seq)`** pour inclure ce double tri dans le résultat affiché :"
   ]
  },
  {
   "cell_type": "code",
   "execution_count": 121,
   "metadata": {},
   "outputs": [],
   "source": [
    "# TODO :\n",
    "# modifier le code de la fonction 'show_parts' écrite précédemment, pour inclure le double tri demandé\n",
    "# le tri doit nécessairement se faire en post-traitement lorsque toutes les partitions sont disponibles"
   ]
  },
  {
   "cell_type": "code",
   "execution_count": 123,
   "metadata": {},
   "outputs": [
    {
     "name": "stdout",
     "output_type": "stream",
     "text": [
      "['ABCD', 'A.BCD', 'B.ACD', 'C.ABD', 'D.ABC', 'AB.CD', 'AC.BD', 'AD.BC', 'A.B.CD', 'A.C.BD', 'A.D.BC', 'B.C.AD', 'B.D.AC', 'C.D.AB', 'A.B.C.D']\n"
     ]
    }
   ],
   "source": [
    "show_parts('ABCD') # on doit obtenir le résultat affiché au début de l'exercice"
   ]
  },
  {
   "cell_type": "markdown",
   "metadata": {},
   "source": [
    "<h2 style=\"padding:16px; color:#FFF; background:#06D\">Exercice B8 - Combinatoire du poker</h2>\n",
    "\n",
    "Mises à part certaines variantes du jeu relativement peu jouées, les règles usuelles du **Poker** mettent en oeuvre des [**combinaisons de 5 cartes**](https://en.wikipedia.org/wiki/List_of_poker_hands) prises dans un jeu standard de 52 cartes. Plus précisément, les règles identifient neuf familles de combinaisons autorisées, qui sont ***classées de la plus faible à la plus forte*** dans la liste suivante :\n",
    "\n",
    "\n",
    "1. **High Card** : lorsque le joueur ne peut obtenir aucune des combinaisons plus fortes<br>\n",
    "*(départage en cas de combinaisons identiques : la valeur de la carte la plus forte définit le vainqueur)*\n",
    "2. **Pair** : une paire = deux cartes de même valeur<br>\n",
    "*(départage : la valeur des cartes de la paire, puis celle de la plus forte carte restante)*\n",
    "3. **Two Pair** (a.k.a **Double Pair**) : une paire + une autre paire de valeur différente<br>\n",
    "*(départage : la valeur de la plus forte paire, puis celle de la plus faible paire, puis celle de la carte restante)*\n",
    "4. **Three of a Kind** (a.k.a **Tri**) : un brelan = trois cartes de même valeur<br>\n",
    "*(départage : la valeur des cartes du brelan)*\n",
    "5. **Straight** : une suite = cinq cartes de valeurs adjacentes et de couleurs quelconques<br>\n",
    "*(départage : la valeur de la carte la plus forte)*\n",
    "6. **Flush** : une couleur = cinq cartes de même couleur et de valeurs quelconques<br>\n",
    "*(départage : la valeur de la carte la plus forte)*\n",
    "7. **Full House** (a.k.a **Full**) : un full = un brelan + une paire<br>\n",
    "*(départage : la valeur des cartes du brelan)*\n",
    "8. **Four of a Kind** (a.k.a **Quad**) : un carré = quatre cartes de même valeur<br>\n",
    "*(départage : la valeur des cartes du carré)*\n",
    "9. **Straight Flush** : une suite couleur = cinq cartes de valeurs adjacentes et de même couleur<br>\n",
    "*(départage : la valeur de la carte la plus forte)*\n",
    "\n",
    "Le classement de ces neuf familles de combinaisons n'est évidemment pas dû au hasard, mais est directement lié aux probabilités d'obtention des combinaisons, lors d'un tirage aléatoire de 5 cartes dans un paquet standard de 52 cartes. L'objectif de cet exercice est d'écrire un programme permettant de générer et de compter toutes les combinaisons possibles pour chacune de ces neuf familles, afin de confirmer que l'ordre choisi est bien statistiquement cohérent."
   ]
  },
  {
   "cell_type": "markdown",
   "metadata": {},
   "source": [
    "---\n",
    "Pour la manipulation symbolique des cartes, on va utiliser la notation anglo-saxonne standard, permettant d'identfier chaque carte d'un jeu de 52 cartes, par une chaîne de 2 caractères :\n",
    "\n",
    "* le premier caractère représente la ***valeur*** de la carte, choisi dans la chaîne **`values = '23456789TJQKA'`** <br>(2 = 2, 3 = 3, ..., 9 = 9, T = Ten, J = Jack, Q = Queen, K = King, A = Ace)\n",
    "* le second caractère représente la ***couleur*** de la carte, choisi dans la chaîne **`colors = 'SHDC'`** <br>(S = Spade/Pique, H = Heart/Coeur, D = Diamond/Carreau, C = Club/Trèfle)\n",
    "\n",
    "Avec cette notation, chaque main de Poker peut se représenter par une ***chaîne de 14 caractères*** (10 pour identifier les 5 cartes, 4 espaces pour séparer les 5 cartes). Par exemple, la chaîne **`'8S 8D TH QD QC'`** représente une **double paire** composé d'une paire de dames (carreau et trèfle), d'une paire de 8 (pique et carreau) et enfin d'un 10 de coeur comme carte complémentaire. Pour uniformiser les combinaisons, on va systématiquement trier les 5 cartes, d'abord par valeurs (dans l'ordre des 13 caractères de **`values`**), puis par couleurs (dans l'ordre des 4 caractères de **`colors`**)."
   ]
  },
  {
   "cell_type": "markdown",
   "metadata": {
    "tags": []
   },
   "source": [
    "---\n",
    "Le programme à écrire dans cet exercice doit utiliser cette notation pour générer toutes les combinaisons de 5 cartes, et répartir chaque combinaison dans l'une des 9 familles autorisées. Ensuite, on donnera ***le nombre total de combinaisons placées dans chacune des familles***, et on visualisera à titre d'exemple, ***les 2 premières et les 2 dernières combinaisons*** (dans l'ordre de tri des cartes indiqué précédemment) pour chaque groupe. Pour clarifier les choses, voici l'affichage final que devra fournir votre programme :\n",
    "\n",
    "* <tt><b>Hands = 2598960</b><br>\n",
    "  2S 2H 2D 2C 3S / 2S 2H 2D 2C 3H / ... / KD AS AH AD AC / KC AS AH AD AC</tt>\n",
    "* <tt><b>Straight Flushes = 40</b><br>\n",
    "  2S 3S 4S 5S 6S / 2S 3S 4S 5S AS / ... / TD JD QD KD AD / TC JC QC KC AC\n",
    "* <tt><b>Quads = 624</b><br>\n",
    "  2S 2H 2D 2C 3S / 2S 2H 2D 2C 3H / ... / KD AS AH AD AC / KC AS AH AD AC\n",
    "* <tt><b>Fulls = 3744</b><br>\n",
    "  2S 2H 2D 3S 3H / 2S 2H 2D 3S 3D / ... / KD KC AS AD AC / KD KC AH AD AC\n",
    "* <tt><b>Flushes = 5108</b><br>\n",
    "  2S 3S 4S 5S 7S / 2S 3S 4S 5S 8S / ... / 9C TC QC KC AC / 9C JC QC KC AC\n",
    "* <tt><b>Straights = 10200</b><br>\n",
    "  2S 3S 4S 5S 6H / 2S 3S 4S 5S 6D / ... / TC JC QC KC AH / TC JC QC KC AD\n",
    "* <tt><b>Tris = 54912</b><br>\n",
    "  2S 2H 2D 3S 4S / 2S 2H 2D 3S 4H / ... / QC KC AS AD AC / QC KC AH AD AC\n",
    "* <tt><b>Double Pairs = 123552</b><br>\n",
    "  2S 2H 3S 3H 4S / 2S 2H 3S 3H 4H / ... / QC KD KC AH AC / QC KD KC AD AC\n",
    "* <tt><b>Pairs = 1098240</b><br>\n",
    "  2S 2H 3S 4S 5S / 2S 2H 3S 4S 5H / ... / JC QC KC AH AC / JC QC KC AD AC\n",
    "* <tt><b>High Cards = 1302540</b><br>\n",
    "  2S 3S 4S 5S 7H / 2S 3S 4S 5S 7D / ... / 9C JC QC KC AH / 9C JC QC KC AD "
   ]
  },
  {
   "cell_type": "code",
   "execution_count": 124,
   "metadata": {},
   "outputs": [],
   "source": [
    "# TODO :\n",
    "# générer une liste 'cards' contenant les 52 chaînes de 2 caractères identifiant les 52 cartes\n",
    "# générer une liste 'hands' stockant toutes les combinaisons de 5 cartes possibles\n",
    "# générer deux listes 'values' et 'colors' stockant respectivement les 5 valeurs et les 5 couleurs\n",
    "#   pour chacune des combinaisons stockées dans 'hands'\n",
    "# chaque famille de combinaison pourra alors être identifiée soit avec 'values', soit avec 'colors'\n",
    "# Note : il est judicieux d'utiliser la fonction 'combinations' du module standard 'itertools'"
   ]
  },
  {
   "cell_type": "markdown",
   "metadata": {},
   "source": [
    "<h2 style=\"padding:16px; color:#FFF; background:#06D\">Exercice B9 - L'énigme du zèbre</h2>\n",
    "\n",
    "L'**énigme du zèbre**, également connue sous le nom d'**énigme d'Einstein** ou **énigme des cinq maisons**, est un casse-tête célèbre dont la création a été faussement attribuée à Lewis Carroll ou à Albert Einstein, alors que le véritable auteur n'a jamais été clairement identifié. Cette énigme appartient à la famille des [**Constraint Satisfaction Problems**](https://en.wikipedia.org/wiki/Constraint_satisfaction_problem) (***CSP***), c'est-à-dire des énigmes de logique constituées par un ensemble de propriétés auxquelles il faut attribuer les bonnes valeurs pour que toutes les contraintes du problème soient vérifiées simultanément. Des jeux de logique comme le [**problème des 8 dames**](https://fr.wikipedia.org/wiki/Probl%C3%A8me_des_huit_dames), le [**Sudoku**](https://fr.wikipedia.org/wiki/Sudoku) ou le  [**Hashiwokakero**](https://fr.wikipedia.org/wiki/Hashiwokakero), par exemple, font partie de la même famille de problèmes.\n",
    "\n",
    "L'énigme du zèbre existe sous différentes formes, la plus connue étant celle publiée aux Etats-Unis dans le magazine ***Life*** en 1962 dont le texte complet est présenté dans la [**page Wikipedia**](https://en.wikipedia.org/wiki/Zebra_Puzzle) associée. En utilisant le formalisme mathématique des CSP, on peut créer des énigmes du zèbre plus ou moins complexes, comme il existe des grilles de Sudoku de difficultés variables selon le nombre d'hypothèses indépendantes que le joueur doit émettre pour arriver à résoudre le problème.\n",
    "\n",
    "En mettant tous les curseurs de difficulté au maximum, je vous ai concocté la version suivante : \n",
    "\n",
    "> 1. *L'énigme concerne cinq voisins, chacun habitant dans une maison de couleur différente*\n",
    "> 2. *Chaque voisin est né dans un pays différent et exerce un métier différent*\n",
    "> 3. *Chaque voisin pratique un sport différent et possède un animal différent*\n",
    "> 4. *Le propriétaire du Perroquet est Surfeur et celui du Chat est Suisse*\n",
    "> 5. *Le Banquier habite à côté de la maison Verte et l'Anglais à côté de la maison Bleue*\n",
    "> 6. *Le Basketteur est voisin du Médecin et du Hamster*\n",
    "> 7. *La maison du Français est Rouge et celle du Pâtissier est Jaune*\n",
    "> 8. *Le Judoka est voisin du Banquier et du Chien*\n",
    "> 9. *L'Espagnol habite à gauche du Basketteur et le Hamster est voisin de l'Anglais*\n",
    "> 10. *Le Judoka habite à gauche de la maison Bleue et le Médecin à gauche de la maison Verte*\n",
    "> 11. *Et enfin, l'Architecte fait du Ski*\n",
    ">\n",
    "> ***Est-ce que l'Italien fait du Golf ? Est-ce que le Clown habite la maison Orange ? Et où est le Zèbre ?***\n",
    "\n",
    "A la première lecture, l'énigme semble absurde car les questions à résoudre sont totalement déconnectées de l'énoncé du problème : à aucun moment, on ne parle d'Italien, de Golf, de Clown, de maison Orange, ni de Zèbre dans l'ensemble des contraintes à vérifier. De plus, aucun point de départ n'est fourni ici, alors que dans la version publiée dans **Life**, deux des propriétés étaient placées dans des maisons précises au départ de l'énigme. Mais en juxtaposant l'ensemble des contraintes, il s'avère qu'il n'existe qu'une seule possibilité pour placer les cinq propriétés citées dans les trois questions, donc le problème posé possède effectivement une solution unique. Pour vous familiariser avec le mécanisme utilisé et la manière dont les contraintes peuvent se combiner entre elles, il est fortement conseillé de commencer par résoudre l'énigme \"à la main\", avant de créer le solveur demandé dans le cadre de cet exercice."
   ]
  },
  {
   "cell_type": "markdown",
   "metadata": {},
   "source": [
    "---\n",
    "Une analyse mathématique rapide montre qu'il y a **5!** (= **120**) manières de placer les 5 nationalités dans les 5 maisons, **5!** manières d'attribuer des couleurs aux maisons, et ainsi de suite... Par conséquent, il y a donc exactement **120<sup>5</sup>**, c'est-à-dire près de ***25 milliards de combinaisons possibles*** pour affecter les 25 propriétés aux 5 maisons.\n",
    "\n",
    "Une telle valeur semble évidemment décourageante pour envisager un ***algorithme de force brute*** qui va énumérer l'ensemble des combinaisons pour trouver la bonne solution, surtout dans un langage interprété comme Python. Et pourtant, chacune des contraintes du problème va permettre d'écarter un grand nombre de combinaisons en une seule opération, si bien qu'un algorithme de force brute bien conçu va converger en quelques centièmes de secondes.\n",
    "\n",
    "On fournit une variable **`properties`** contenant une chaîne de caractères qui permet de lister les 25 propriétés, réparties en 5 catégories, à affecter aux 5 maisons :"
   ]
  },
  {
   "cell_type": "code",
   "execution_count": 126,
   "metadata": {},
   "outputs": [],
   "source": [
    "properties = \"\"\"\n",
    "Pays : Angleterre Espagne France Italie Suisse\n",
    "Couleur : Bleu Jaune Orange Rouge Vert\n",
    "Métier : Architecte Banquier Clown Médecin Pâtissier\n",
    "Sport : Basket Golf Judo Ski Surf\n",
    "Animal : Chat Chien Hamster Perroquet Zèbre\n",
    "\"\"\" # 5 catégories, 5 propriétés différentes par catégorie (classées par ordre alphabétique)"
   ]
  },
  {
   "cell_type": "markdown",
   "metadata": {},
   "source": [
    "En utilisant les indications fournies ci-dessous, à vous de trouver comment implémenter efficacement cet algorithme de force brute, pouvant résoudre l'énigme de manière quasi-instantanée :  "
   ]
  },
  {
   "cell_type": "code",
   "execution_count": 127,
   "metadata": {},
   "outputs": [],
   "source": [
    "# TODO :\n",
    "# Transformer la chaîne 'properties' en dictionnaire (clés = catégories, valeurs = listes de propriétés)\n",
    "# Associer une valeur numérique unique entre 0 et 4 pour chacune des propriétés d'une même catégorie\n",
    "# Générer toutes les permutations possibles pour les 5 valeurs numériques associées à une même catégorie\n",
    "# Ecrire l'algorithme d'énumération des combinaisons basé sur 5 boucles imbriquées\n",
    "# Rajouter une série d'instructions 'if' permettant d'inclure l'ensemble des contraintes du problème\n",
    "# Interrompre les boucles dès qu'une solution a été identifiée (car le pb possède une solution unique)\n",
    "# Note : il est judicieux d'utiliser la fonction 'permutations' du module standard 'itertools'"
   ]
  },
  {
   "cell_type": "markdown",
   "metadata": {},
   "source": [
    "---\n",
    "L'énigme peut également être résolue plus simplement en utilisant le module [**python-constraint**](https://labix.org/python-constraint), qui a été spécifiquement développé pour la résolution de problèmes de type **CSP**, et qui sera détaillé dans la section C du chapitre 11. Il faut signaler que ce module est déjà pré-installé sur l'environnement **JupyterHub** du CREMI ; par contre, si vous utilisez la distribution **Anaconda** sur votre ordinateur personnel, il n'y figure pas par défaut, et devra donc être installé manuellement via **pip** :\n",
    "\n",
    "> ```pip install python-constraint```\n"
   ]
  },
  {
   "cell_type": "code",
   "execution_count": 129,
   "metadata": {},
   "outputs": [],
   "source": [
    "# enlever le '#' devant la ligne suivante, si vous n'êtes pas sur le JupyterHub du CREMI\n",
    "#!pip install python-constraint"
   ]
  },
  {
   "cell_type": "markdown",
   "metadata": {},
   "source": [
    "A vous de trouver l'implémentation permettant de résoudre l'énigme en utilisant ce module :"
   ]
  },
  {
   "cell_type": "code",
   "execution_count": 130,
   "metadata": {},
   "outputs": [],
   "source": [
    "# TODO : pas d'autres indications, à vous de coder..."
   ]
  },
  {
   "cell_type": "markdown",
   "metadata": {},
   "source": [
    "<h2 style=\"padding:16px; color:#FFF; background:#06D\">Exercice B10 - Affichage de structures hiérarchiques</h2>\n",
    "\n",
    "Une des utilisations classiques des listes en Python, est de permettre le stockage de structures hiérarchiques, en imbriquant des listes dans des listes jusqu'à une profondeur arbitraire. Par exemple, la liste\n",
    "\n",
    "<center><tt>[1,[2,3,4],5,[[6,7],8],[9,[[10,11]],[12,[13,14]],15],16]</tt></center><br>\n",
    "\n",
    "permet de stocker un arbre de profondeur 4 contenant 16 feuilles. L'inconvénient c'est qu'en regardant la définition d'une telle liste, il est assez difficile d'identifier la structure hiérarchique qu'elle représente. Ce manque de lisibilité est notamment dû au fait que ***les noeuds internes de l'arbre ne sont représentés explicitement***, mais uniquement de manière implicite par l'utilisation des délimiteurs **`[`** et **`]`** et du séparateur **`,`**. Pour améliorer la lisibilité de ces structures hiérarchiques, l'objectif de cet exercice est d'écrire une fonction **`show_tree(tree)`** qui prend en entrée une telle structure hiérarchique définie par des listes imbriquées et va afficher son contenu sous la forme d'une chaîne de caractères multi-lignes en utilisant le jeu de caractères **box-drawing** (comme on l'a fait dans l'exercice B5) pour visualiser les relations hiérarchiques sous une forme arborescente. La zone gauche de la figure ci-dessous montre la chaîne de caractères renvoyée par la fonction lorsqu'on lui passe en argument la liste hiérarchique précédente, fournissant une représentation visuelle beaucoup plus claire :\n",
    "\n",
    "```\n",
    ">>> show_tree([1,[2,3,4],5,[[6,7],8],[9,[[10,11]],[12,[13,14]],15],16])\n",
    "┬─1                                                                        A 1\n",
    "├─┬─2                                                                      B A 2\n",
    "│ ├─3                                                                      D B 3\n",
    "│ └─4                                                                      D C 4\n",
    "├─5                                                                        B 5\n",
    "├─┬─┬─6                                                                    B A A 6\n",
    "│ │ └─7                                                                    D D C 7\n",
    "│ └─8                                                                      D C 8\n",
    "├─┬─9                                                                      B A 9\n",
    "│ ├───┬─10                                                                 D B E A 10\n",
    "│ │   └─11                                                                 D D F C 11\n",
    "│ ├─┬─12                                                                   D B A 12\n",
    "│ │ └─┬─13                                                                 D D C A 13\n",
    "│ │   └─14                                                                 D D F C 14\n",
    "│ └─15                                                                     D C 15\n",
    "└─16                                                                       C 16\n",
    "```\n",
    "\n",
    "Si on analyse plus finement le résultat affiché, on constate qu'il peut s'obtenir en combinant uniquement six motifs différents pour représenter les connexions : **`A = '┬─', B = '├─', C = '└─', D = '│ ', E = '──', F = '  '`**. La zone droite de la figure ci-dessus montre l'organisation des motifs à utiliser, ligne par ligne, pour obtenir le résultat souhaité.\n",
    "\n",
    "Pour pouvoir gérer des structures hiérarchique de taille et de profondeur arbitraire, l'implémentation la plus compacte et la plus efficace passe par l'utilisation d'un générateur, comme dans l'exercice B7. Pour factoriser le code au maximum, on va même utiliser deux générateurs : **`gen_node(node)`** est un générateur récursif qui va être appelé pour chaque noeud de l'arbre et qui va identifier les motifs à utiliser pour afficher le noeud courant, et **`gen_branch(first, other, branch)`** va itérer sur les différents noeuds de la branche courante et rajouter les motifs de connexions en préfixe de chaque noeud. La fonction **`show_tree`** n'aura ainsi qu'à appeler le premier générateur sur la racine de l'arbre et regrouper toutes les lignes générées en insérant un **`'\\n'`** entre chaque ligne obtenue."
   ]
  },
  {
   "cell_type": "code",
   "execution_count": 132,
   "metadata": {},
   "outputs": [],
   "source": [
    "def show_tree(tree):\n",
    "  \"\"\"display provided hierarchical list or tuple, as multi-line tree string using one line per leaf\"\"\"\n",
    "  print('\\n'.join(gen_node(tree))) # generate and print tree structure\n",
    "\n",
    "def gen_node(node):\n",
    "  \"\"\"recursive generator for tree nodes, starting from provided node\"\"\"\n",
    "  # TODO : définir les 6 motifs de connexion : A, B, C, D, E, F = '┬─:├─:└─:│ :──:  '.split(':')\n",
    "  # TODO : il faut effectuer 3 traitements différents en fonction des trois cas possibles pour 'node' :\n",
    "  #   (1) feuille, (2) fils unique, (3) deux fils ou plus, sachant qu'on va utiliser le motif A pour\n",
    "  #   le premier fils, le motif B pour les fils intermédiaires et le motif C pour le dernier fils\n",
    "\n",
    "def gen_branch(first, other, branch):\n",
    "  \"\"\"iterative generator to format all nodes in provided branch\"\"\"\n",
    "  # TODO : utiliser le motif 'first' en préfixe du premier noeud de la branche\n",
    "  # TODO : utiliser le motif 'other' en préfixe des autres noeuds de la branche"
   ]
  },
  {
   "cell_type": "markdown",
   "metadata": {},
   "source": [
    "Vérifier l'implémentation sur les deux exemples suivants :"
   ]
  },
  {
   "cell_type": "code",
   "execution_count": 138,
   "metadata": {},
   "outputs": [
    {
     "name": "stdout",
     "output_type": "stream",
     "text": [
      "┬─1\n",
      "├─┬─2\n",
      "│ ├─3\n",
      "│ └─4\n",
      "├─5\n",
      "├─┬─┬─6\n",
      "│ │ └─7\n",
      "│ └─8\n",
      "├─┬─9\n",
      "│ ├───┬─10\n",
      "│ │   └─11\n",
      "│ ├─┬─12\n",
      "│ │ └─┬─13\n",
      "│ │   └─14\n",
      "│ └─15\n",
      "└─16\n"
     ]
    }
   ],
   "source": [
    "show_tree([1,[2,3,4],5,[[6,7],8],[9,[[10,11]],[12,[13,14]],15],16])"
   ]
  },
  {
   "cell_type": "code",
   "execution_count": 139,
   "metadata": {},
   "outputs": [
    {
     "name": "stdout",
     "output_type": "stream",
     "text": [
      "┬─A\n",
      "├───B\n",
      "└─┬─C\n",
      "  ├─┬─D\n",
      "  │ └─┬───E\n",
      "  │   └─┬─F\n",
      "  │     └─┬─G\n",
      "  │       └─H\n",
      "  └─I\n"
     ]
    }
   ],
   "source": [
    "show_tree(['A',['B'],['C',['D',[['E'],['F',['G','H']]]],'I']])"
   ]
  },
  {
   "cell_type": "markdown",
   "metadata": {},
   "source": [
    "<div style=\"padding:8px; margin:0px -20px; color:#FFF; background:#06D; text-align:right\">● ● ● </div>"
   ]
  }
 ],
 "metadata": {
  "kernelspec": {
   "display_name": "Python 3 (ipykernel)",
   "language": "python",
   "name": "python3"
  },
  "language_info": {
   "codemirror_mode": {
    "name": "ipython",
    "version": 3
   },
   "file_extension": ".py",
   "mimetype": "text/x-python",
   "name": "python",
   "nbconvert_exporter": "python",
   "pygments_lexer": "ipython3",
   "version": "3.12.4"
  },
  "toc-autonumbering": false,
  "toc-showcode": false,
  "toc-showmarkdowntxt": false
 },
 "nbformat": 4,
 "nbformat_minor": 4
}
