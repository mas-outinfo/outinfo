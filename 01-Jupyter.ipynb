{
 "cells": [
  {
   "cell_type": "markdown",
   "metadata": {},
   "source": [
    "<p style=\"color:#FFF; background:#06D; padding:12px; font-size:20px; font-style:italic; text-align:center\">\n",
    "<span style=\"width:49%; display:inline-block; text-align:left\">Version 2025-06</span>\n",
    "<span style=\"width:49%; display:inline-block; text-align:right\">Licence CC–BY–NC–ND</span>\n",
    "<span style=\"font-size:40px; font-style:normal\"><b>ENVIRONNEMENT : JUPYTER</b></span><br>\n",
    "<span style=\"width:49%; display:inline-block; text-align:left\">Christophe Schlick</span>\n",
    "<span style=\"width:49%; display:inline-block; text-align:right\">schlick ಄ u<b>-</b>bordeaux • fr</p>"
   ]
  },
  {
   "cell_type": "markdown",
   "metadata": {
    "editable": true,
    "slideshow": {
     "slide_type": ""
    },
    "tags": []
   },
   "source": [
    "[**Jupyter**](https://jupyter.org) est un environnement de développement informatique qui permet de créer des **notebooks**, fichiers hybrides qui mélangent du ***texte***, des ***données*** numériques ou alphanumériques, des ***équations***, des ***images***, des ***vidéos***, des ***liens*** hypertexte et du ***code*** informatique. Le nom de **Jupyter** vient de la concaténation des trois langages de programmation qui étaient initialement disponibles dans cet environnement : [**Julia**](https://julialang.org/), [**Python**](https://python.org/) et [**R**](https://www.r-project.org/). A chaque langage de programmation est associé un **noyau d'exécution** qui sera chargé d'interpréter le code informatique contenu dans le notebook. Le terme anglais **notebook** est parfois traduit par **calepin**, mais dans ce cours on va rester sur le terme originel, comme le font d'ailleurs la quasi-totalité des articles francophones parlant de l'environnement Jupyter."
   ]
  },
  {
   "cell_type": "markdown",
   "metadata": {},
   "source": [
    "L'environnement Jupyter fonctionne selon un mécanisme ***client-serveur*** basé sur le protocole  [**HTTP**](https://fr.wikipedia.org/wiki/Hypertext_Transfer_Protocol) (c'est-à-dire le protocole standard utilisé pour la transmission des pages web). Le **serveur** tourne en arrière-plan sur un ordinateur, et constitue le moteur de l'environnement de développement : c'est lui qui va exécuter les différents noyaux d'exécution et mettre en oeuvre les mécanismes d'accès aux ressources (système d'exploitation, système de fichiers, réseau local ou distant, etc). De son côté, le **client** tourne à l'intérieur d'un navigateur web et fournit une interface clavier-souris permettant à l'utilisateur de créer, éditer et exécuter des notebooks. Il existe aujourd'hui deux applications différentes pour interagir avec un serveur **Jupyter** :\n",
    "\n",
    "> La version **JupyterNotebook** correspond à l'interface initiale de l'environnement. Elle a été développée en 2015, à partir de l'application interactive *IPython* (créé en 2001) qui a elle-même été développée en s'inspirant des interfaces qui existaient dans les logiciels de calculs formels et numériques, tel que [**Maple**](https://fr.maplesoft.com/products/Maple) (créé en 1982), [**Matlab**](https://fr.mathworks.com/products/matlab.html) (créé en 1984) ou  [**Mathematica**](https://www.wolfram.com/mathematica) (créé en 1988)\n",
    "\n",
    "> La version **JupyterLab** correspond à la nouvelle interface de l'environnement, conçue de manière beaucoup plus modulaire et permettant d'inclure facilement des extensions par un mécanisme de plugins. C'est cette interface qui sera utilisée dans ce cours. A la date de rédaction de cette présentation, la version stable la plus récente de l'application est ***JupyterLab 4.3.5*** (version sortie fin janvier 2025).\n",
    "\n",
    "Il faut bien réaliser que **Jupyter** est le nom du serveur de l'environnement de développement (un processus système qui fonctionne en arrière-plan, de manière quasi-invisible), alors que **JupyterLab** est le nom du client (l'application web manipulée par l'utilisateur). Mais en pratique, les deux termes sont souvent utilisés de manière interchangeable, et seul le contexte de la phrase permet de savoir si on se réfère à l'environnement ou à l'interface.\n",
    "\n",
    "La documentation complète des fonctionnalités offertes par l'application **JupyterLab** se trouve sur le site [**ReadTheDocs**](https://jupyterlab.readthedocs.io/en/stable/index.html), mais une copie locale est directement accessible dans le menu **`Help`** de l'application, sous le titre ***JupyterLab Reference***"
   ]
  },
  {
   "cell_type": "markdown",
   "metadata": {
    "tags": []
   },
   "source": [
    "En plus de la version standard (mono-poste, mono-utilisateur) dont le processus d'installation sera décrit dans la section suivante, il existe également plusieurs versions alternatives de l'environnement Jupyter, pour lesquelles le serveur s'exécute directement en ligne. Ces versions permettent ainsi d'utiliser les interfaces JupyterNotebook ou JupyterLab, ***sans imposer une installation locale sur son poste de travail***, puisque seul l'exécution d'un navigateur web sera nécessaire en local. On peut notamment citer les **solutions gratuites** suivantes :\n",
    "\n",
    "> [**JupyterHub**](https://jupyterhub.readthedocs.io/en/stable) est destiné à être installé sur un ***serveur de réseau local***, et permet de définir des comptes utilisateurs pour s'y connecter depuis n'importe quel poste de ce réseau local.\n",
    "\n",
    "> [**Binder**](https://https://mybinder.org/), développé par une ***communauté open-source*** et hébergé par OVH, fournit un environnement Jupyter en ligne, qui utilise des fichiers stockés sur n'importe quel serveur compatible avec le protocole **[Git](https://fr.wikipedia.org/wiki/Git)** (peut parfois être assez lent au démarrage)\n",
    "\n",
    "> [**Cloud Suite**](https://www.anaconda.com/products/cloud-suite), est un service similaire à Binder, développé par ***Anaconda*** (nécessite la création d'un compte Anaconda)\n",
    "\n",
    "> [**Colab(oraty)**](https://colab.research.google.com), est un service similaire à Binder, développée par ***Google*** (nécessite la création d'un compte Google)\n",
    "\n",
    "> [**Github Codespaces**](https://github.com/features/codespaces), est un service similaire à Binder, développé par ***Microsoft*** (nécessite la création d'un compte GitHub)\n",
    "\n",
    "Plus récemment, de nombreuses plateformes de travail collaboratif sont apparues sur le web, fournissant l'accès à diverses ressources de traitement des données, en échange d'un abonnement mensuel. Le point commun de ces sites est qu'ils sont quasiment tous basés sur un environnement JupyterLab. Parmi les plateformes les plus réputées, on peut citer :\n",
    "\n",
    "> [**DeepNote**](https://deepnote.com) ● [**Kaggle**](https://www.kaggle.com/code) ●\n",
    "  [**NAAS**](https://www.naas.ai) ● [**Datalore**](https://datalore.jetbrains.com) ●\n",
    "  [**Kyso**](https://about.kyso.io) ● [**Datacamp**](https://www.datacamp.com/workspace) ●\n",
    "  [**Gradient**](https://gradient.run) ● [**Domino**](https://www.dominodatalab.com)"
   ]
  },
  {
   "cell_type": "markdown",
   "metadata": {
    "tags": []
   },
   "source": [
    "<h2 style=\"padding:16px; color:#FFF; background:#06D\">A - Démarrage de l'environnement</h2>\n",
    "\n",
    "### 1 - JupyterHub au CREMI\n",
    "\n",
    "Parmi les ressources matérielles et logicielles fournies par le CREMI aux étudiants inscrits dans les formations des départements de Mathématiques et d'Informatique, figurent un serveur **JupyterHub** accessible via l'URL suivante :\n",
    "\n",
    "<center><a href='https://jupyterhub.emi.u-bordeaux.fr'>\n",
    "<b>https://jupyterhub.emi.u-bordeaux.fr</b></a></center><br>\n",
    "\n",
    "Lorsque vous entrez cette URL dans un navigateur, il suffit de saisir votre login et votre mot de passe, associés à votre ENT de l'Université, pour démarrer un environnement **JupyterLab** qui dispose d'un accès à l'ensemble des fichiers liés à votre espace de travail au CREMI. Il faut noter que la connexion à cet environnement est parfaitement équivalente que vous la fassiez depuis un poste dans une salle du CREMI ou à partir de n'importe quel poste informatique sur la planète, à condition évidemment de disposer d'un navigateur web et d'une connexion internet. Par conséquent, c'est de très loin ***la solution la plus simple pour travailler dans le cadre de cette UE***, surtout qu'elle offre la garantie d'avoir la version la plus récente de l'environnement Jupyter, et d'avoir accès à l'ensemble des packages Python nécessaires aux différents chapitres de cours et feuilles d'exercices.\n",
    "\n",
    "Il est important de comprendre que la connexion au serveur **JupyterHub** active des processus sur votre poste personnel où s'exécute votre navigateur web, mais également sur le poste localisé au CREMI qui gère les connexions à ce hub (par défaut, il s'agit de la machine ***ombrage***). Donc en fermant simplement l'onglet **JupyterLab** de votre navigateur, cela ne ferme pas les processus à votre nom qui s'exécutent sur la machine dédié au CREMI. Même s'il existe un **système de timeout** sur ***ombrage*** qui va automatiquement tuer tous les serveurs Jupyter qui sont inactifs depuis plus de 2 heures, ***il est fortement conseillé d'arrêter proprement votre serveur Jupyter avant de vous déconnecter***. Cela s'effectue très simplement en lançant la commande **`Panneau de contrôle du Hub`** du menu **`Fichier`** de l'interface **JupyterLab**, puis en cliquant sur le bouton **`Stop my server`**, avant de fermer l'onglet du navigateur.\n",
    "\n",
    "---\n",
    "### 2 - JupyterLab via Anaconda\n",
    "\n",
    "Si vous souhaitez disposer d'un environnement de travail autonome sur votre poste personnel, la manière la plus simple de procéder est d'utiliser la distribution [**Anaconda**](https://www.anaconda.com/products/distribution) qui fournit un écosystème complet et fonctionnel pour le développement d'applications et de notebooks à contenu scientifique. La page [**téléchargement**](https://www.anaconda.com/products/distribution#Downloads) du site ***(cliquez sur 'skip registration' pour ne pas avoir à créer un compte)*** fournit des installateurs pour les trois principaux systèmes d'exploitation : **Windows, MacOS, Linux**. La distribution proposée à ce jour inclut la version 3.12 de Python et la version 4.2.5 de JupyterLab.\n",
    "\n",
    "La mise en oeuvre de ces installateurs ne pose pas de difficulté majeure, mais il faut savoir qu'avec ses 1500 paquetages logiciels différents, ***la distribution va occuper près de 5 Go sur le disque dur*** après installation, il est donc judicieux de faire un peu de place si votre disque est trop encombré. Voici quelques uns des paquetages installées par Anaconda, dont les plus importants seront détaillés dans les chapitres à venir de ce cours :\n",
    "\n",
    "<center><img src=\"IMG/anaconda.png\"></center>\n",
    "\n",
    "Le système d'exploitation **ChromeOS** présents sur les ordinateurs de type Chromebook n'est pas directement supporté par Anaconda. Néanmoins, ChromeOS contient un sous-système Linux (activable de manière optionnelle) qui permet l'installation d'Anaconda, comme le montre ce [**tutoriel**](https://mychromebook.fr/installer-anaconda-sur-votre-chromebook).\n",
    "\n",
    "Si vous souhaitez absolument avoir sur votre ordinateur ***la version de JupyterLab à la fois la plus récente et la plus légère possible***, il faut commencer par installer la dernière version de l'[**environnement Python**](https://www.python.org/downloads) pour votre système d'exploitation, puis installer manuellement avec la commande **`pip`**, les différents modules nécessaires à l'utilisation de l'environnement JupyterLab. Les étudiants souhaitant utiliser cette méthode peuvent me contacter pour avoir des informations complètes sur la mise en oeuvre de ce processus d'installation (ce n'est pas vraiment complexe, mais il y a simplement un certain nombre de commandes à écrire manuellement)"
   ]
  },
  {
   "attachments": {},
   "cell_type": "markdown",
   "metadata": {
    "jp-MarkdownHeadingCollapsed": true,
    "tags": []
   },
   "source": [
    "---\n",
    "L'installation de la distribution **Anaconda** va créer plusieurs icones dans le gestionnaire d'applications du poste de travail. Parmi ces applications, il y a notamment :\n",
    "\n",
    "- **Anaconda Navigator** qui est une application graphique (cf. copie d'écran ci-dessous) permettant de lancer et configurer les différents outils fournis par Anaconda.\n",
    "\n",
    "- **Anaconda Prompt** qui est un interpréteur de commandes **`bash`** préconfiguré pour inclure les différents chemins d'accès des packages utilisés par Jupyter. Comme les systèmes Linux et MacOS incluent déjà une application **Terminal** permettant de lancer un interpréteur **`bash`**, l'application **Anaconda Prompt** n'est installée que pour Windows\n",
    "\n",
    "<center><img src=\"IMG/navigator.png\"></center><br>\n",
    "\n",
    "Deux options sont alors possibles pour démarrer **JupyterLab** :\n",
    "\n",
    "- soit lancer **Anaconda Navigator** puis cliquer sur ***Launch*** dans la tuile **JupyterLab**\n",
    "- soit lancer **Anaconda Prompt** (sur Windows) ou **Terminal** (sur Linux et MacOS) puis saisir **`jupyter lab`** au clavier et valider par **<kbd>ENTER</kbd>**\n",
    "\n",
    "La seconde option est largement préférable car elle permet à la fois, un démarrage plus rapide, un impact moindre sur les ressources (CPU et RAM) du poste de travail, et l'accès aux messages d'information et d'erreurs générées par le serveur Jupyter (messages qui ne sont pas directement accessibles via Anaconda Navigator). Il faut noter que lorsque vous lancez JupyterLab via la commande **`jupyter lab`**, la racine de l'arborescence des fichiers affichée dans la zone de gauche correspond au dossier où vous étiez, au moment de lancer la commande. Pour changer le dossier correspondant à cette racine de l'arborescence, il existe deux possibilités :\n",
    "\n",
    "- Soit vous effectuez un **`cd dossier_racine`** **AVANT** de lancer la commande **`jupyter lab`**\n",
    "- Soit vous lancez JupyterLab avec la commande **`jupyter lab --notebook-dir=dossier_racine`**\n",
    "\n",
    "Comme le client **JupyterLab** est une application web, ce processus va automatiquement démarrer un ***navigateur web*** (*Chrome*, *Firefox*, *Safari*, *Edge*, ou autre, en fonction de la configuration courante du gestionnaire d'applications) et afficher une page d'accueil qui constituera l'environnement de travail dans lequel l'utilisateur pourra éditer et exécuter ses notebooks. Cet environnement possède de nombreuses fonctionnalités qui seront détaillées dans les sections B et C de ce chapitre.\n",
    "\n",
    "\n",
    "\n",
    "A la fin de la session de travail, il y a également deux options possibles pour arrêter **JupyterLab** :\n",
    "\n",
    "  - soit cliquer sur l'entrée ***Shut Down*** du menu ***File*** dans l'onglet **JupyterLab** de votre navigateur web (une fenêtre popup s'affichera pour demander confirmation de l'arrêt du serveur)\n",
    "  - soit faire un **<kbd>CTRL</kbd> + <kbd>C</kbd>** au clavier dans la fenêtre **Anaconda Prompt** ou **Terminal** qui a permis de lancer **JupyterLab**"
   ]
  },
  {
   "cell_type": "markdown",
   "metadata": {
    "tags": []
   },
   "source": [
    "<h2 style=\"padding:16px; color:#FFF; background:#06D\">B - Description</h2>\n",
    "\n",
    "L'environnement **JupyterHub** sur les postes du CREMI et l'environnement **JupyterLab** sur un poste individuel, fonctionnent de manière quasiment équivalente : en arrière-plan s'exécute un serveur HTTP capable de traduire, de manière interactive, des fichiers ***`.ipynb`*** (IPython NoteBook) en fichiers ***`.html`*** (HyperText Markup Language) qui seront affichés par le client tournant sur le navigateur web. La seule différence est que ce serveur HTTP s'exécute sur une machine dédiée au CREMI lorsque vous vous connectez à **JupyterHub**, alors qu'il s'exécute sur votre poste de travail si vous lancez **Anaconda**.\n",
    "\n",
    "Pour la première session de travail, la page affichée par défaut par le client, correspond à la copie d'écran ci-dessous (onglet **`File Browser`** à gauche, onglet **`Launcher`** à droite). Pour les sessions de travail ultérieurs, l'environnement se reconfigure automatiquement pour reproduire l'affichage que l'utilisateur avait sur son écran à la fin de la session précédente.\n",
    "\n",
    "<center><img src=\"IMG/launcher.png\"></center><br>"
   ]
  },
  {
   "cell_type": "markdown",
   "metadata": {
    "tags": []
   },
   "source": [
    "---\n",
    "### 1 - Interface\n",
    "\n",
    "L'interface est présentée ici ***dans sa version anglaise*** qui est celle que j'utilise, mais vous pouvez évidemment configurer votre environnement en version française si cela vous convient mieux, et vous n'aurez pas de difficulté à trouver les termes français de votre interface qui sont équivalents aux termes anglais utilisés dans cette présentation.\n",
    "\n",
    "La page d'accueil affichée par ***JupyterLab*** est composée de trois zones (cf. copie d'écran ci-dessus) :\n",
    "\n",
    "- **En haut :** une ***barre de menus*** horizontale contenant 8 ou 9 menus déroulants<br>\n",
    "  **`File`** , **`Edit`** , **`View`**, **`Run`** , **`Kernel`** , **`Git`** , **`Tabs`** ,\n",
    "  **`Settings`** , **`Help`**<br>(le menu **`Git`** n'apparait pas sur Anaconda)\n",
    "\n",
    "- **A gauche :** une ***barre de contrôle*** verticale contenant 6 ou 8 onglets activant la ***zone de contrôle***<br>\n",
    "  **`Property Inspector`** , **`File Browser`** , **`Terminals & Kernels`** , **`IPython Parallel`** **`Git`**, **`Table of Contents`** , **`Debugger`**, **`Extension Manager`**<br>(les onglets **`IPython Parallel`** et **`Git`** n'apparaissent par sur Anaconda)\n",
    "\n",
    "- **Au centre :** une ***zone de travail*** contenant les documents actifs, chacun étant identifié par son propre onglet<br> (au démarrage, c'est l'onglet **`Launcher`** qui est actif)\n",
    "\n",
    "- **En bas :** une ***barre d'état*** présentant des informations synthétiques sur l'état courant du serveur et du notebook actif\n",
    "\n",
    "En fait, dans la configuration par défaut, l'interface contient deux barres de contrôle : l'une à droite avec 4 onglet (sur Anaconda) ou 6 onglets (sur JupyterHub), l'autre à gauche avec 2 onglets. Pour gagner de la place sur l'écran, il est préférable de regrouper tous les onglets sur la barre de gauche : pour cela, il suffit de faire un clic droit sur chaque icône de la barre de droite et d'activer la commande **`Switch Sidebar Side`**\n",
    "\n",
    "De même, si vous souhaitez vraiment occuper tout l'espace disponible sur l'écran du poste de travail pour travailer sur votre notebook, ce qui s'appelle le mode ***distraction free***, on peut combiner la désactivation de la ***zone de contrôle*** à gauche, l'activation du mode ***simple interface*** qui va cacher les onglets non actifs, et l'activation mode ***fullscreen*** qui va cacher l'interface utilisateur du navigateur web pour ne garder que celle de JupyterLab :\n",
    "\n",
    "- la zone de contrôle est activé/désactivé en cliquant sur l'onglet actif dans la ***barre de contrôle***\n",
    "- Le mode ***simple interface*** est activé/désactivé avec le switch **`Simple`** dans la barre d'état\n",
    "- le mode ***fullscreen*** est activé/désactivé par la touche **<kbd>F11</kbd>** du clavier"
   ]
  },
  {
   "cell_type": "markdown",
   "metadata": {
    "tags": []
   },
   "source": [
    "---\n",
    "### 2 - Manipulation des documents\n",
    "\n",
    "Même s'il s'exécute dans un navigateur web, l'interface **JupyterLab** permet une interaction poussée avec le système d'exploitation sur lequel s'exécute le serveur **Jupyter** associé. L'onglet **`File Browser`** dans la barre de contrôle fournit un explorateur de fichiers avec une interface graphique tout à fait similaire à ce qui est utilisé sur les systèmes d'exploitation classiques, qui vous permet de naviguer dans un sous-ensemble de l'arborescence des fichiers disponibles sur l'espace disque de votre environnement de travail.\n",
    "\n",
    "Autrement dit, lorsque vous travaillez sur **JupyterHub**, ***même si vous vous connectez depuis chez vous avec votre ordinateur personnel***, vous allez directement interagir avec les postes sous Linux installés au CREMI et vous aurez accès aux fichiers de votre compte utilisateur au CREMI, comme si vous étiez physiquement dans une des salles du CREMI. A l'inverse, lorsque vous travaillez sur **JupyterLab** via la distribution Anaconda, vous aurez accès uniquement aux fichiers de votre compte utilisateur sur votre poste personnel.\n",
    "\n",
    "L'explorateur de fichiers intégré à JupyterLab, permet de naviguer dans l'arborescence, de renommer / copier / déplacer / supprimer des fichiers ou des dossiers, avec la souris ou via l'utilisation de raccourcis clavier. Comme d'habitude, un clic droit sur un fichier ou un dossier permet de faire apparaitre un popup présentant l'ensemble des commandes disponibles. Les commandes les plus fréquentes (**`New Folder`**, **`Upload Files`**, **`Refresh Files`** et **`File Filter`**) sont regroupés dans une mini-barre d'outils au-dessus de l'arborescence. Il faut noter que le **`File Browser`** permet également le ***drag-and-drop*** depuis l'explorateur standard de votre poste de travail. Dans le cas de **JupyterHub**, cela permet de transférer très simplement des fichiers depuis votre poste personnel vers votre compte utilisateur au CREMI. Par contre, la manipulation inverse ne peut pas s'effectuer par drag-and-drop, mais par la commande **`Download`** du menu **`File`**\n",
    "\n",
    "L'environnement **Jupyter** permet de manipuler de nombreux formats de documents, soit en **mode édition** ***(edit)***, soit en **mode visualisation** ***(view)***. Par défaut, un double clic sur le nom d'un fichier dans l'onglet **`File Browser`**, permet de l'ouvrir en mode visualisation (sauf les notebooks qui sont toujours ouverts en mode édition). Pour ouvrir ce fichier en mode édition, il faut effectuer un clic droit et choisir l'outil d'édition dans le menu **`Open With`** qui apparait. La liste ci-dessous présente les types de documents directement utilisables avec la configuration standard de **Jupyter**, mais cette liste peut encore être étendue, en installant différents plugins au moyen de l'onglet **`Extension Manager`** de la barre de contrôle :\n",
    "\n",
    "- **Notebooks** : **`.ipynb`** (edit/view)\n",
    "- **Textes** :  **`.txt`** (edit/view) &emsp; **`.md`** (edit/view) &emsp; **`.html`** (edit/view) &emsp; **`.tex`** (edit/view) &emsp; **`.pdf`** (view)\n",
    "- **Données** : **`.csv/.tsv`** (edit/view) &emsp; **`.json`** (edit/view) &emsp; **`.yaml`** (edit/view) &emsp; **`.xml`** (edit/view))\n",
    "- **Images** :  **`.svg`** (edit/view) &emsp; **`.vg/.vl`** (edit/view) &emsp; **`.png`** (view) &emsp; **`.jpg`** (view) &emsp; **`.gif`** (view) &emsp; **`.bmp`** (view)\n",
    "\n",
    "Dans les chapitres ultérieurs, nous verrons comment aller au delà de la simple visualisation ou édition, en utilisant le langage Python pour effectuer des traitements complexes sur chacun de ces différents types de fichiers"
   ]
  },
  {
   "cell_type": "markdown",
   "metadata": {
    "tags": []
   },
   "source": [
    "---\n",
    "### 3 - Notebook\n",
    "\n",
    "Du point de vue de l'ordinateur, un **notebook Jupyter** est simplement un fichier local ou distant, au format [**JSON**](https://fr.wikipedia.org/wiki/JavaScript_Object_Notation) (JavaScript Object Notation). Même s'il s'agit d'un fichier JSON classique, le nom du fichier utilise une extension spécifique **`.ipynb`** permettant d'activer automatiquement l'interprétation du notebook par le serveur Jupyter\n",
    "\n",
    "Du point de vue de l'utilisateur, un notebook Jupyter est une page web interactive qui se compose de 2 types de **cellules** :\n",
    "\n",
    "- soit des ***cellules de texte*** qui vont contenir les éléments statiques du notebook\n",
    "- soit des ***cellules de code*** qui vont contenir les éléments dynamiques du notebook\n",
    "\n",
    "Pour **éditer une cellule**, il suffit de la sélectionner puis modifier son contenu :\n",
    "\n",
    "- pour une cellule de texte, la sélection s'effectue par un **double clic** de souris\n",
    "- pour une cellule de code, la sélection s'effectue par un **simple clic** de souris\n",
    "\n",
    "Pour **interpréter le contenu** d'une cellule (texte ou code), il faut la valider :\n",
    "\n",
    "- soit par **<kbd>Control</kbd>** + **<kbd>Enter</kbd>** (dans ce cas, la cellule courante reste active)\n",
    "- soit par **<kbd>Shift</kbd>** + **<kbd>Enter</kbd>** (dans ce cas, la cellule suivante devient active, quitte à la créer si nécessaire)\n",
    "- soit par **<kbd>Alt</kbd>** + **<kbd>Enter</kbd>** (dans ce cas, une cellule suivante est systématiquement créée et devient active)\n",
    "\n",
    "> **Note :** Pour visualiser (voire éditer si vous êtes courageux) la structure JSON qui est \"cachée\" à l'intérieur de tout notebook au format **`.ipynb`**, il suffit d'effectuer un clic droit sur le nom du fichier dans l'onglet **`File Browser`** et de sélectionner **`Open With / Editor`**. Cette opération permet de réaliser que, malgré sa complexité visuelle à l'écran, un notebook n'est qu'un banal fichier texte, utilisant un formalisme de description spécifique, exactement de la même manière qu'une page web sera toujours créée à partir d'un fichier texte utilisant le formalisme HTML."
   ]
  },
  {
   "cell_type": "markdown",
   "metadata": {
    "tags": []
   },
   "source": [
    "---\n",
    "### 4 - Barre de menu\n",
    "\n",
    "- Le menu **`File`** permet d'ouvrir, sauvegarder ou exporter un notebook\n",
    "- Le menu **`Edit`** permet de copier, coller, supprimer, déplacer, séparer ou fusionner des cellules\n",
    "- Le menu **`View`** permet de personnaliser l'affichage du notebook ou des cellules\n",
    "- Le menu **`Run`** permet d'interpréter plusieurs cellules en séquence\n",
    "- Le menu **`Kernel`** permet d'arrêter, de relancer ou de changer d'interpréteur\n",
    "- Le menu **`Git`** permet d'interagir avec un dépôt logiciel fonctionnant sous **git**\n",
    "- Le menu **`Tab`** permet de naviguer entre les différents onglets de l'interface\n",
    "- Le menu **`Settings`** permet de lancer les outils de configuration de l'environnement\n",
    "- Le menu **`Help`** permet d'accéder à l'aide en ligne pour les outils disponibles"
   ]
  },
  {
   "cell_type": "markdown",
   "metadata": {
    "jp-MarkdownHeadingCollapsed": true,
    "tags": []
   },
   "source": [
    "---\n",
    "### 5 - Barre de contrôle\n",
    "\n",
    "- L'onglet **`Property Inspector`** permet d'afficher les détails sur une cellule du notebook actif\n",
    "- L'onglet **`File Browser`** permet d'afficher un explorateur de fichiers classique\n",
    "- L'onglet **`Terminal & Kernels`** permet de lister et de manipuler les sessions et les onglets actifs\n",
    "- L'onglet **`Git`** permet de manipuler les commandes standard d'un dépôt logiciel sous **git**\n",
    "- L'onglet **`IPython Parallel`** permet de lancer un environnement d'exécution parallèle (= multi-processeurs)\n",
    "- L'onglet **`Table of Contents`** permet d'afficher l'arborescence du plan pour le notebook actif\n",
    "- L'onglet **`Debugger`** permet d'afficher l'ensemble des commandes utilisables par le débogueur\n",
    "- L'onglet **`Extension Manager`** permet d'installer ou désinstaller des plugins pour l'environnement"
   ]
  },
  {
   "cell_type": "markdown",
   "metadata": {
    "editable": true,
    "jp-MarkdownHeadingCollapsed": true,
    "slideshow": {
     "slide_type": ""
    },
    "tags": []
   },
   "source": [
    "---\n",
    "### 6 - Barre d'outils\n",
    "\n",
    "Chaque notebook ouvert dans **JupyterLab** (identifié par un onglet dans la zone de travail) possède une barre d'outils qui regroupe les commandes les plus fréquentes utilisées lors d'une session :\n",
    "\n",
    "- Le bouton **`Save`** permet de sauvegarder le notebook actif\n",
    "- Le bouton **`Insert Cell`** permet d'insérer une nouvelle cellule sous la cellule active\n",
    "- Le bouton **`Cut Cells`** permet de couper les cellules sélectionnées\n",
    "- Le bouton **`Copy Cells`** permet de copier les cellules sélectionnées\n",
    "- Le bouton **`Paste Cells`** permet de coller les cellules précédemment coupées ou copiées\n",
    "- Le bouton **`Run Selected Cells`** permet d'exécuter/interpréter les cellules sélectionnées\n",
    "- Le bouton **`Interrupt Kernel`** permet d'arrêter le noyau (en cas de blocage, notamment)\n",
    "- Le bouton **`Restart Kernel`** permet d'arrêter et de redémarrer le noyau\n",
    "- Le bouton **`Restart and Run All`** permet d'exécuter/interpréter toutes les cellules du notebook\n",
    "- Le sélecteur **`Cell Type`** permet de modifier le type de la cellule active\n",
    "- Le bouton **`Enable/Disable Debugger`** permet de lancer/arrêter le débogueur pour les cellules de code\n",
    "- Le sélecteur **`Switch Kernel`** permet de modifier le noyau d'exécution utilisé pour le notebook\n",
    "- Le bouton **`Kernel Status`** permet de visualiser l'état courant du noyau d'exécution (*busy* ou *idle*)\n",
    "- Le bouton **`Minimap`** permet d'afficher/cacher la navigation par cellules, en plus de la barre de défilement"
   ]
  },
  {
   "attachments": {},
   "cell_type": "markdown",
   "metadata": {
    "editable": true,
    "slideshow": {
     "slide_type": ""
    },
    "tags": []
   },
   "source": [
    "---\n",
    "### 7 - Raccourcis clavier\n",
    "\n",
    "Comme pour toute application interactive basée sur une interface clavier-souris, l'utilisation des raccourcis clavier permet de gagner en efficacité lors d'une session de travail sous **JupyterLab**. En pratique, durant le processus de création / édition / manipulation du notebook, l'utilisateur va perpétuellement alterner entre deux modes d'interaction :\n",
    "\n",
    "- Le mode **EDIT** utilisé lorsqu'on veut modifier des cellules de texte ou des cellules de code\n",
    "- Le mode **COMMAND** utilisé lorsqu'on veut modifier la structure du notebook (insérer, supprimer, fusionner ou découper des cellules...)\n",
    "\n",
    "> ***Attention : les raccourcis clavier fournis par JupyterLab diffèrent selon le mode d'interaction***\n",
    "\n",
    "&#10070; **Mode EDIT**\n",
    "\n",
    "Le mode **EDIT** des cellules d'un notebook se comporte comme un éditeur de texte classique, où l'utilisateur va retrouver toutes les commandes habituelles pour le déplacement du curseur, la sélection et manipulation du texte, etc. Il y a néamoins quelques raccourcis spécifiques à connaître :\n",
    "\n",
    "- **<kbd>ESC</kbd>** = Sortie du mode **EDIT** et activation du mode **COMMAND**\n",
    "- **<kbd>ENTER</kbd>** = Insertion d'une ligne avec indentation automatique\n",
    "- **<kbd>CTRL</kbd>** + **<kbd>ENTER</kbd>** = Interprétation de la cellule (la cellule courante reste active)\n",
    "- **<kbd>SHIFT</kbd>** + **<kbd>ENTER</kbd>** = Interprétation de la cellule (la cellule suivante devient active)\n",
    "- **<kbd>TAB</kbd>** = Complétion automatique du symbole associé à la position courante du curseur (cellules de code uniquement)\n",
    "- **<kbd>SHIFT</kbd>** + **<kbd>TAB</kbd>** = Affichage d'une aide concernant le symbole associé à la position courante du curseur (cellules de code)\n",
    "- **<kbd>TAB</kbd>** = Indentation (2 ou 4 espaces, selon configuration) des lignes sélectionnées (cellules de code)\n",
    "- **<kbd>SHIFT</kbd>** + **<kbd>TAB</kbd>** = Désindentation des lignes sélectionnées (cellules de code)\n",
    "- **<kbd>CTRL</kbd>** + **<kbd>:</kbd>** = Ajouter ou enlever un commentaire pour les lignes sélectionnées (cellules de code)\n",
    "\n",
    "&#10070; **Mode COMMAND**\n",
    "\n",
    "Le mode **COMMAND** permet d'effectuer des manipulations globales sur les cellules ou sur le notebook :\n",
    "\n",
    "- **<kbd>ENTER</kbd>** = Sortie du mode **COMMAND** et activation du mode **EDIT**\n",
    "- **<kbd>Y</kbd>** = Basculer la cellule active en mode code (**Y** comme Python)\n",
    "- **<kbd>M</kbd>** = Basculer la cellule active en mode texte (**M** comme Markdown)\n",
    "- **<kbd>A</kbd>** = Créer une cellule au-dessus de la cellule active (**Above**)\n",
    "- **<kbd>B</kbd>** = Créer une cellule en-dessous de la cellule active (**Below**)\n",
    "- **<kbd>↑</kbd>** = Activer la cellule précédente (**Prev**)\n",
    "- **<kbd>↓</kbd>** = Activer la cellule suivante (**Next**)\n",
    "- **<kbd>CTRL</kbd>** + **<kbd>SHIFT</kbd>** + **<kbd>↑</kbd>** = Déplacer la cellule courante vers le haut (**Move Up**)\n",
    "- **<kbd>CTRL</kbd>** + **<kbd>SHIFT</kbd>** + **<kbd>↓</kbd>** = Déplacer la cellule courante vers le haut (**Move Down**)\n",
    "- **<kbd>C</kbd>** = Copier la cellule active (**Copy**)\n",
    "- **<kbd>X</kbd>** = Couper la cellule active (**Cut**)\n",
    "- **<kbd>V</kbd>** = Coller la cellule copiée/coupée en-dessous de la cellule active (**Paste**)\n",
    "- **<kbd>D</kbd>** + **<kbd>D</kbd>** = Détruire la cellule active (**Delete**)\n",
    "- **<kbd>Z</kbd>** = Défaire la dernière action de la cellule active (**Undo**)\n",
    "- **<kbd>SHIFT</kbd>** + **<kbd>Z</kbd>** = Refaire la dernière action de la cellule active (**Redo**)\n",
    "- **<kbd>CTRL</kbd>** + **<kbd>F</kbd>** = Chercher ou remplacer un motif dans le notebook (**Find/Replace**)\n",
    "- **<kbd>SHIFT</kbd>** + **<kbd>L</kbd>** = Basculer l'affichage de la numérotation des lignes (**Toggle Lines**)\n",
    "- **<kbd>PAGE DOWN</kbd>** ou **<kbd>SPACE</kbd>** = Afficher la page suivante du notebook(**Page Down**)\n",
    "- **<kbd>PAGE UP</kbd>** ou **<kbd>SHIFT</kbd>** + **<kbd>SPACE</kbd>** = Afficher la page précédente du notebook (**Page Up**)\n",
    "\n",
    "&#10070; **Raccourcis généraux (valables dans les deux modes) :**\n",
    "\n",
    "- **<kbd>CTRL</kbd>** + **<kbd>S</kbd>** = Sauvegarder le notebook actif\n",
    "- **<kbd>CTRL</kbd>** + **<kbd>SHIFT</kbd>** + **<kbd>S</kbd>** = Sauvegarder une copie du notebook actif\n",
    "- **<kbd>CTRL</kbd>** + **<kbd>SHIFT</kbd>** + **<kbd>Q</kbd>** = Fermer le notebook actif et arrêter son noyau d'exécution\n",
    "- **<kbd>CTRL</kbd>** + **<kbd>SHIFT</kbd>** + **<kbd>D</kbd>** = Basculer l'affichage des onglets\n",
    "- **<kbd>CTRL</kbd>** + **<kbd>SHIFT</kbd>** + **<kbd>C</kbd>** = Ouvrir le popup de recherche de commandes\n",
    "- **<kbd>CTRL</kbd>** + **<kbd>SHIFT</kbd>** + **<kbd>L</kbd>** = Ouvrir l'onglet du launcher\n",
    "- **<kbd>CTRL</kbd>** + **<kbd>SHIFT</kbd>** + **<kbd>U</kbd>** = Ouvrir l'onglet des propriétés\n",
    "- **<kbd>CTRL</kbd>** + **<kbd>SHIFT</kbd>** + **<kbd>F</kbd>** = Ouvrir l'onglet de l'explorateur des fichiers\n",
    "- **<kbd>CTRL</kbd>** + **<kbd>SHIFT</kbd>** + **<kbd>B</kbd>** = Ouvrir l'onglet des sessions actives\n",
    "- **<kbd>CTRL</kbd>** + **<kbd>SHIFT</kbd>** + **<kbd>K</kbd>** = Ouvrir l'onglet du plan du notebook\n",
    "- **<kbd>CTRL</kbd>** + **<kbd>SHIFT</kbd>** + **<kbd>E</kbd>** = Ouvrir l'onglet du débogueur\n",
    "- **<kbd>CTRL</kbd>** + **<kbd>SHIFT</kbd>** + **<kbd>X</kbd>** = Ouvrir l'onglet des modules et extensions"
   ]
  },
  {
   "cell_type": "markdown",
   "metadata": {},
   "source": [
    "<h2 style=\"padding:16px; color:#FFF; background:#06D\">C - Contenu d'un notebook</h2>\n",
    "\n",
    "### 1 - Cellules de texte\n",
    "\n",
    "Comme indiqué plus haut, les **cellules de texte** permettent à l'utilisateur d'insérer des éléments statiques  dans un notebook Jupyter, soit sous la forme de textes, de tables, d'équations, de figures, d'images, de vidéos, de liens vers des ressources locales ou distantes, etc. Par défaut, ces cellules de texte sont écrites en utilisant la syntaxe du langage [**Markdown**](https://fr.wikipedia.org/wiki/Markdown) qui fera l'objet d'une présentation complète dans le chapitre 2 de ce cours.\n",
    "\n",
    "Le langage **Markdown** est à la fois très facile à maîtriser et parfaitement adapté pour rédiger et organiser les divers éléments multimédia constituant un notebook. Lorsqu'une mise en page plus spécifique s'avère nécessaire, l'environnement Jupyter permet de basculer temporairement vers les langages [**HTML**](https://fr.wikipedia.org/wiki/Hypertext_Markup_Language) ou [**LaTeX**](https://fr.wikipedia.org/wiki/LaTeX) à l'intérieur d'une cellule de texte écrite en Markdown.\n",
    "\n",
    "Par contre, pour des projets plus ambitieux (manuels, rapports, livres) nécessitant des fonctionnalités supplémentaires et une organisation plus complexe, il est préférable d'installer certaines extensions spécialisées de Jupyter, telles que [**JupyterSphinx**](https://jupyter-sphinx.readthedocs.io/en/latest/) ou [**JupyterBook**](https://jupyterbook.org/en/stable/intro.html) qui permettent de créer automatiquement certains types de contenus fréquemment rencontrés dans les ouvrages scientifiques (table des matières, liste des figures, glossaire, références bibliographiques, etc)"
   ]
  },
  {
   "cell_type": "markdown",
   "metadata": {},
   "source": [
    "---\n",
    "### 2 - Cellules de code\n",
    "\n",
    "A côté des cellules de texte, les **cellules de code** permettent à l'utilisateur d'insérer des éléments dynamiques dans un notebook Jupyter, sous la forme d'une série d'instructions écrites dans un langage de programmation. Ces cellules de code seront exécutés de manière interactive par le **noyau d'exécution** (*execution kernel* ou tout simplement ***kernel***) utilisé pour le notebook courant. Par défaut, ces cellules de code sont écrites en utilisant la syntaxe du langage [**Python**](https://fr.wikipedia.org/wiki/Python_(langage)) qui fera l'objet d'une présentation complète dans le chapitre 3 de ce cours.\n",
    "\n",
    "Le noyau d'exécution [**ipykernel**](https://ipython.org) permettant à Jupyter d'interpréter et d'exécuter les cellules de code écrites en langage **Python** est habituellement le seul kernel présent à l'installation de l'environnement. Néanmoins il existe aujourd'hui des noyaux d'exécution pour près d'une [**centaine de langages de programmation**](https://github.com/jupyter/jupyter/wiki/Jupyter-kernels), qui peuvent donc être utilisés à l'intérieur des notebooks Jupyter. Mais il est important de comprendre qu'un tel kernel ne sert que de relais entre le contenu d'une cellule de code et un interpréteur du langage de programmation correspondant. Il faut donc ***systématiquement installer cet interpréteur sur son poste de travail, en plus du kernel associé***, avant de pouvoir utiliser ce langage dans les notebooks Jupyter. De plus, le processus d'installation d'un kernel peut varier assez fortement d'un langage à l'autre, il est donc conseillé de bien lire la documentation associée à chaque noyau pour identifier les étapes à suivre."
   ]
  },
  {
   "cell_type": "markdown",
   "metadata": {},
   "source": [
    "---\n",
    "### 3 - Commandes \"magiques\"\n",
    "\n",
    "En plus des instructions standards du langage Python, le noyau [**ipykernel**](https://ipython.org) permet également d'utiliser des commandes dites ***magiques*** dans les cellules de code, pour obtenir des fonctionnalités avancées. Ces commandes magiques se présentent sous deux formes différentes :\n",
    "\n",
    "- Les commandes magiques de cellules, préfixées par `%%`, se placent **obligatoirement en début de cellule**\n",
    "- Les commandes magiques de lignes, préfixées par `%`, se placent **n'importe où dans une cellule**\n",
    "\n",
    "La liste complète des commandes magiques est obtenue en utilisant la commande **`%lsmagic`**. Une aide plus complète se trouve sur le site [**ReadTheDocs**](https://ipython.readthedocs.io/en/stable/interactive/magics.html), mais une copie locale est directement accessible dans le menu **`Help`** de JupyterLab, sous le titre ***IPython Reference***. Les commandes magiques peuvent globalement être réparties en trois catégories :\n",
    "\n",
    "- Les ***commandes d'interaction avec le système d'exploitation***, permettant notamment de manipuler les variables d'environnement et l'arborescence des fichiers :\n",
    "  > **`%env`** / **`%pwd`** / **`%ls`** / **`%cd`** / **`%mkdir`** / **`%rmdir`** / **`%mv`** / **`%cp`** / **`%load`** / **`%run`** / ...\n",
    "\n",
    "- Les ***commandes de profilage***, permettant de mesurer le temps d'exécution et de comparer l'efficacité de diverses implémentations d'une même fonctionnalité :\n",
    "  > **`%time`** / **`%timeit`** / **`%prun`** / ...\n",
    "\n",
    "- Les ***commandes de substitution de langage***, permettant d'interpréter la cellule courante par un autre interpréteur que celui défini par le noyau d'exécution :\n",
    "  > **`%%html`** / **`%%latex`** / **`%%javascript`** / **`%%ruby`** / **`%%perl`** / **`%%bash`** / **`%%cmd`** / ...\n",
    "\n",
    "---"
   ]
  },
  {
   "cell_type": "code",
   "execution_count": 1,
   "metadata": {
    "tags": []
   },
   "outputs": [
    {
     "data": {
      "application/json": {
       "cell": {
        "!": "OSMagics",
        "HTML": "Other",
        "SVG": "Other",
        "bash": "Other",
        "capture": "ExecutionMagics",
        "cmd": "Other",
        "code_wrap": "ExecutionMagics",
        "debug": "ExecutionMagics",
        "file": "Other",
        "html": "DisplayMagics",
        "javascript": "DisplayMagics",
        "js": "DisplayMagics",
        "latex": "DisplayMagics",
        "markdown": "DisplayMagics",
        "perl": "Other",
        "prun": "ExecutionMagics",
        "pypy": "Other",
        "python": "Other",
        "python2": "Other",
        "python3": "Other",
        "ruby": "Other",
        "script": "ScriptMagics",
        "sh": "Other",
        "svg": "DisplayMagics",
        "sx": "OSMagics",
        "system": "OSMagics",
        "time": "ExecutionMagics",
        "timeit": "ExecutionMagics",
        "writefile": "OSMagics"
       },
       "line": {
        "alias": "OSMagics",
        "alias_magic": "BasicMagics",
        "autoawait": "AsyncMagics",
        "autocall": "AutoMagics",
        "automagic": "AutoMagics",
        "autosave": "KernelMagics",
        "bookmark": "OSMagics",
        "cd": "OSMagics",
        "clear": "KernelMagics",
        "cls": "KernelMagics",
        "code_wrap": "ExecutionMagics",
        "colors": "BasicMagics",
        "conda": "PackagingMagics",
        "config": "ConfigMagics",
        "connect_info": "KernelMagics",
        "copy": "Other",
        "ddir": "Other",
        "debug": "ExecutionMagics",
        "dhist": "OSMagics",
        "dirs": "OSMagics",
        "doctest_mode": "BasicMagics",
        "echo": "Other",
        "ed": "Other",
        "edit": "KernelMagics",
        "env": "OSMagics",
        "gui": "BasicMagics",
        "hist": "Other",
        "history": "HistoryMagics",
        "killbgscripts": "ScriptMagics",
        "ldir": "Other",
        "less": "KernelMagics",
        "load": "CodeMagics",
        "load_ext": "ExtensionMagics",
        "loadpy": "CodeMagics",
        "logoff": "LoggingMagics",
        "logon": "LoggingMagics",
        "logstart": "LoggingMagics",
        "logstate": "LoggingMagics",
        "logstop": "LoggingMagics",
        "ls": "Other",
        "lsmagic": "BasicMagics",
        "macro": "ExecutionMagics",
        "magic": "BasicMagics",
        "mamba": "PackagingMagics",
        "matplotlib": "PylabMagics",
        "micromamba": "PackagingMagics",
        "mkdir": "Other",
        "more": "KernelMagics",
        "notebook": "BasicMagics",
        "page": "BasicMagics",
        "pastebin": "CodeMagics",
        "pdb": "ExecutionMagics",
        "pdef": "NamespaceMagics",
        "pdoc": "NamespaceMagics",
        "pfile": "NamespaceMagics",
        "pinfo": "NamespaceMagics",
        "pinfo2": "NamespaceMagics",
        "pip": "PackagingMagics",
        "popd": "OSMagics",
        "pprint": "BasicMagics",
        "precision": "BasicMagics",
        "prun": "ExecutionMagics",
        "psearch": "NamespaceMagics",
        "psource": "NamespaceMagics",
        "pushd": "OSMagics",
        "pwd": "OSMagics",
        "pycat": "OSMagics",
        "pylab": "PylabMagics",
        "qtconsole": "KernelMagics",
        "quickref": "BasicMagics",
        "recall": "HistoryMagics",
        "rehashx": "OSMagics",
        "reload_ext": "ExtensionMagics",
        "ren": "Other",
        "rep": "Other",
        "rerun": "HistoryMagics",
        "reset": "NamespaceMagics",
        "reset_selective": "NamespaceMagics",
        "rmdir": "Other",
        "run": "ExecutionMagics",
        "save": "CodeMagics",
        "sc": "OSMagics",
        "set_env": "OSMagics",
        "store": "StoreMagics",
        "sx": "OSMagics",
        "system": "OSMagics",
        "tb": "ExecutionMagics",
        "time": "ExecutionMagics",
        "timeit": "ExecutionMagics",
        "unalias": "OSMagics",
        "unload_ext": "ExtensionMagics",
        "who": "NamespaceMagics",
        "who_ls": "NamespaceMagics",
        "whos": "NamespaceMagics",
        "xdel": "NamespaceMagics",
        "xmode": "BasicMagics"
       }
      },
      "text/plain": [
       "Available line magics:\n",
       "%alias  %alias_magic  %autoawait  %autocall  %automagic  %autosave  %bookmark  %cd  %clear  %cls  %code_wrap  %colors  %conda  %config  %connect_info  %copy  %ddir  %debug  %dhist  %dirs  %doctest_mode  %echo  %ed  %edit  %env  %gui  %hist  %history  %killbgscripts  %ldir  %less  %load  %load_ext  %loadpy  %logoff  %logon  %logstart  %logstate  %logstop  %ls  %lsmagic  %macro  %magic  %mamba  %matplotlib  %micromamba  %mkdir  %more  %notebook  %page  %pastebin  %pdb  %pdef  %pdoc  %pfile  %pinfo  %pinfo2  %pip  %popd  %pprint  %precision  %prun  %psearch  %psource  %pushd  %pwd  %pycat  %pylab  %qtconsole  %quickref  %recall  %rehashx  %reload_ext  %ren  %rep  %rerun  %reset  %reset_selective  %rmdir  %run  %save  %sc  %set_env  %store  %sx  %system  %tb  %time  %timeit  %unalias  %unload_ext  %who  %who_ls  %whos  %xdel  %xmode\n",
       "\n",
       "Available cell magics:\n",
       "%%!  %%HTML  %%SVG  %%bash  %%capture  %%cmd  %%code_wrap  %%debug  %%file  %%html  %%javascript  %%js  %%latex  %%markdown  %%perl  %%prun  %%pypy  %%python  %%python2  %%python3  %%ruby  %%script  %%sh  %%svg  %%sx  %%system  %%time  %%timeit  %%writefile\n",
       "\n",
       "Automagic is ON, % prefix IS NOT needed for line magics."
      ]
     },
     "execution_count": 1,
     "metadata": {},
     "output_type": "execute_result"
    }
   ],
   "source": [
    "%lsmagic # liste des commandes magiques"
   ]
  },
  {
   "cell_type": "code",
   "execution_count": 2,
   "metadata": {
    "tags": []
   },
   "outputs": [
    {
     "name": "stdout",
     "output_type": "stream",
     "text": [
      "Current folder = D:\\Users\\Work\\JUPYTER\\OUTINFO\n"
     ]
    }
   ],
   "source": [
    "folder = %pwd # stockage du dossier courant dans une variable Python\n",
    "print('Current folder =', folder)"
   ]
  },
  {
   "cell_type": "code",
   "execution_count": 3,
   "metadata": {},
   "outputs": [],
   "source": [
    "#%run SRC/hello\n",
    "# enlever le commentaire de la ligne précédente, pour lancer l'exécution du fichier 'SRC/hello.py'"
   ]
  },
  {
   "cell_type": "code",
   "execution_count": 4,
   "metadata": {},
   "outputs": [],
   "source": [
    "#%load SRC/hello\n",
    "# enlever le commentaire de la ligne précédente, pour charger le contenu du fichier 'SRC/hello.py'"
   ]
  },
  {
   "cell_type": "markdown",
   "metadata": {},
   "source": [
    "---\n",
    "L'une des commandes magiques les plus utiles est celle permettant de lancer, à l'intérieur d'un notebook, des commandes destinées au système d'exploitation. Le langage de commande [**bash**](https://fr.wikipedia.org/wiki/Bourne-Again_shell), initialement développé pour le système ***Unix*** puis adapté à l'ensemble des systèmes d'exploitation courants ***(Windows, MacOS, Linux, Android, iOS)***, est devenu un standard de facto parmi les outils utilisés en Sciences des Données. La commande magique **`%%bash`** permet ainsi de transformer une cellule de notebook en interpréteur **bash** et d'exécuter un script écrit dans ce langage. Lorsque l'instruction à exécuter en **bash** se réduit à une seule ligne, on peut remplacer la commande magique **`%%bash`** par un simple préfixe **`!`** :"
   ]
  },
  {
   "cell_type": "code",
   "execution_count": 5,
   "metadata": {},
   "outputs": [
    {
     "name": "stdout",
     "output_type": "stream",
     "text": [
      "06-Matplotlib.ipynb\n",
      "E+Matplotlib.ipynb\n",
      "E-Matplotlib.ipynb\n",
      "E~Matplotlib.ipynb\n"
     ]
    }
   ],
   "source": [
    "%%bash # exécution d'un script 'bash' (= langage de commande du système)\n",
    "# par exemple, lister tous les noms de fichiers '.ipynb' qui contiennent le motif 'plot'\n",
    "ls *.ipynb | grep plot"
   ]
  },
  {
   "cell_type": "code",
   "execution_count": 6,
   "metadata": {},
   "outputs": [
    {
     "name": "stdout",
     "output_type": "stream",
     "text": [
      "06-Matplotlib.ipynb\n",
      "E+Matplotlib.ipynb\n",
      "E-Matplotlib.ipynb\n",
      "E~Matplotlib.ipynb\n"
     ]
    }
   ],
   "source": [
    "# le préfixe ! est un raccourci pour %%bash lorsque le script se réduit à une seule commande\n",
    "!ls *.ipynb | grep plot"
   ]
  },
  {
   "cell_type": "markdown",
   "metadata": {},
   "source": [
    "Parmi les utilisations très fréquentes du préfixe **`!`** dans un notebook Jupyter, figure la ***vérification de la présence d'une bibliothèque Python suivie de son installation automatique lorsqu'elle est manquante***. Ce processus s'effectue à l'aide du gestionnaire de packages, appelé [**pip**](https://docs.python.org/3/installing/index.html), et permet ainsi de garantir que toutes les bibliothèques nécessaires à l'exécution correcte du notebook sont bien installées et reconnues par le noyau d'exécution :"
   ]
  },
  {
   "cell_type": "code",
   "execution_count": 7,
   "metadata": {},
   "outputs": [
    {
     "name": "stdout",
     "output_type": "stream",
     "text": [
      "Requirement already satisfied: lxml in c:\\tools\\python\\lib\\site-packages (5.4.0)\n"
     ]
    },
    {
     "name": "stderr",
     "output_type": "stream",
     "text": [
      "\n",
      "[notice] A new release of pip is available: 25.0.1 -> 25.1.1\n",
      "[notice] To update, run: python.exe -m pip install --upgrade pip\n"
     ]
    }
   ],
   "source": [
    "# vérification de la présence du module Python 'lxml' suivie de son installation s'il est absent\n",
    "!pip install lxml"
   ]
  },
  {
   "cell_type": "markdown",
   "metadata": {},
   "source": [
    "---\n",
    "En dehors du langage **bash**, les commandes de substitution de langage permettent d'interpréter le contenu d'une cellule de notebook avec tous les langages pour lesquels un interpréteur a été installé dans l'environnement Jupyter. En pratique, les deux commandes de substitution les plus utilisés sont **`%%html`** pour interpréter une cellule écrite en [**HTML**](https://fr.wikipedia.org/wiki/Hypertext_Markup_Language)\n",
    "et **`%%latex`** pour interpréter une cellule écrite en [**LaTeX**](https://fr.wikipedia.org/wiki/LaTeX). Les cellules de codes ci-dessous fournissent quelques exemples permettant d'illustrer le rôle de ces deux commandes magiques.\n",
    "\n",
    ">**Note :** Pour les cellules de code utilisant des langages de présentation comme HTML ou LaTeX, ce qui intéresse l'utilisateur la plupart du temps, c'est le résultat visuel obtenu et non le code qui a permis de générer ce résultat. Il est donc tout à fait cohérent, une fois que le code a été écrit et validé, de cacher le contenu de la cellule de code pour ne laisser visible que le résultat. Ceci s'obtient simplement en cliquant sur la barre verticale bleue à gauche de la cellule, et permet de remplacer toute la cellule de code par des points de suspension (sur lequel on pourra cliquer à nouveau, si on veut modifier ultérieurement le contenu du code)"
   ]
  },
  {
   "cell_type": "code",
   "execution_count": 8,
   "metadata": {
    "tags": []
   },
   "outputs": [
    {
     "data": {
      "text/html": [
       "<!-- Inclusion de bloc de texte au format HTML, en utilisant la propriété 'style' pour les paramètres CSS -->\n",
       "<p style=\"background:#06D; color:#FFF; font-size:40px; font-weight:700; text-align:center\">\n",
       "ABCDEFGHIJKLMNOPQRSTUVWXYZ </p>\n"
      ],
      "text/plain": [
       "<IPython.core.display.HTML object>"
      ]
     },
     "metadata": {},
     "output_type": "display_data"
    }
   ],
   "source": [
    "%%html\n",
    "<!-- Inclusion de bloc de texte au format HTML, en utilisant la propriété 'style' pour les paramètres CSS -->\n",
    "<p style=\"background:#06D; color:#FFF; font-size:40px; font-weight:700; text-align:center\">\n",
    "ABCDEFGHIJKLMNOPQRSTUVWXYZ </p>"
   ]
  },
  {
   "cell_type": "code",
   "execution_count": 9,
   "metadata": {
    "tags": [
     "hide-input"
    ]
   },
   "outputs": [
    {
     "data": {
      "text/html": [
       "<!-- Inclusion de bloc de texte au format HTML, en utilisant la balise '<style>' et le mode 'flexbox' -->\n",
       "<style>\n",
       "  .row {display:flex; font-size:16px; font-weight:700}\n",
       "  .colA {flex:66%; background:#7FA; padding:8px}\n",
       "  .colB {flex:33%; background:#FA7; padding:8px}\n",
       "  .colC {flex:99%; text-align:center; font-style:italic}\n",
       "</style>\n",
       "<div class=row>\n",
       "  <div class=colA>ABCDEFGHIJKLMNOPQRSTUVWXYZ</div>\n",
       "  <div class=colB>ABCDEFGHIJKLMNOPQRSTUVWXYZ</div>\n",
       "</div> <div class=row>\n",
       "  <div class=colC>ABCDEFGHIJKLMNOPQRSTUVWXYZ</div>\n",
       "</div> <div class=row>\n",
       "  <div class=colC>ABCDEFGHIJKLMNOPQRSTUVWXYZ</div>\n",
       "  <div class=colC>ABCDEFGHIJKLMNOPQRSTUVWXYZ</div>\n",
       "</div> <div class=row>\n",
       "  <div class=colB>ABCDEFGHIJKLMNOPQRSTUVWXYZ</div>\n",
       "  <div class=colA>ABCDEFGHIJKLMNOPQRSTUVWXYZ</div>\n",
       "</div>\n"
      ],
      "text/plain": [
       "<IPython.core.display.HTML object>"
      ]
     },
     "metadata": {},
     "output_type": "display_data"
    }
   ],
   "source": [
    "%%html\n",
    "<!-- Inclusion de bloc de texte au format HTML, en utilisant la balise '<style>' et le mode 'flexbox' -->\n",
    "<style>\n",
    "  .row {display:flex; font-size:16px; font-weight:700}\n",
    "  .colA {flex:66%; background:#7FA; padding:8px}\n",
    "  .colB {flex:33%; background:#FA7; padding:8px}\n",
    "  .colC {flex:99%; text-align:center; font-style:italic}\n",
    "</style>\n",
    "<div class=row>\n",
    "  <div class=colA>ABCDEFGHIJKLMNOPQRSTUVWXYZ</div>\n",
    "  <div class=colB>ABCDEFGHIJKLMNOPQRSTUVWXYZ</div>\n",
    "</div> <div class=row>\n",
    "  <div class=colC>ABCDEFGHIJKLMNOPQRSTUVWXYZ</div>\n",
    "</div> <div class=row>\n",
    "  <div class=colC>ABCDEFGHIJKLMNOPQRSTUVWXYZ</div>\n",
    "  <div class=colC>ABCDEFGHIJKLMNOPQRSTUVWXYZ</div>\n",
    "</div> <div class=row>\n",
    "  <div class=colB>ABCDEFGHIJKLMNOPQRSTUVWXYZ</div>\n",
    "  <div class=colA>ABCDEFGHIJKLMNOPQRSTUVWXYZ</div>\n",
    "</div>"
   ]
  },
  {
   "cell_type": "code",
   "execution_count": 10,
   "metadata": {
    "tags": []
   },
   "outputs": [
    {
     "data": {
      "text/html": [
       "<!-- Inclusion de figure au format SVG, en utilisant la balise '<svg>' -->\n",
       "<svg viewBox='0 0 750 250' xmlns='http://www.w3.org/2000/svg'>\n",
       "  <g fill='#EEE' stroke='#000' stroke-width='2'>\n",
       "    <rect x='25' y='25' width='700' height='200' rx='25' stroke-width='4'/>\n",
       "    <ellipse cx='100' cy='125' rx='50' ry='75' fill='#F00'/>\n",
       "    <ellipse cx='210' cy='125' rx='50' ry='75' fill='#0F0'/>\n",
       "    <ellipse cx='320' cy='125' rx='50' ry='75' fill='#00F'/>\n",
       "    <ellipse cx='430' cy='125' rx='50' ry='75' fill='#0FF'/>\n",
       "    <ellipse cx='540' cy='125' rx='50' ry='75' fill='#F0F'/>\n",
       "    <ellipse cx='650' cy='125' rx='50' ry='75' fill='#FF0'/>\n",
       "  </g>\n",
       "</svg>\n"
      ],
      "text/plain": [
       "<IPython.core.display.HTML object>"
      ]
     },
     "metadata": {},
     "output_type": "display_data"
    }
   ],
   "source": [
    "%%html\n",
    "<!-- Inclusion de figure au format SVG, en utilisant la balise '<svg>' -->\n",
    "<svg viewBox='0 0 750 250' xmlns='http://www.w3.org/2000/svg'>\n",
    "  <g fill='#EEE' stroke='#000' stroke-width='2'>\n",
    "    <rect x='25' y='25' width='700' height='200' rx='25' stroke-width='4'/>\n",
    "    <ellipse cx='100' cy='125' rx='50' ry='75' fill='#F00'/>\n",
    "    <ellipse cx='210' cy='125' rx='50' ry='75' fill='#0F0'/>\n",
    "    <ellipse cx='320' cy='125' rx='50' ry='75' fill='#00F'/>\n",
    "    <ellipse cx='430' cy='125' rx='50' ry='75' fill='#0FF'/>\n",
    "    <ellipse cx='540' cy='125' rx='50' ry='75' fill='#F0F'/>\n",
    "    <ellipse cx='650' cy='125' rx='50' ry='75' fill='#FF0'/>\n",
    "  </g>\n",
    "</svg>"
   ]
  },
  {
   "cell_type": "code",
   "execution_count": 11,
   "metadata": {},
   "outputs": [
    {
     "data": {
      "text/html": [
       "<!-- Inclusion de son (lien sur fichier au format WAV, MP3, AAC ou OGG), en utilisant la balise '<audio>' -->\n",
       "<audio autoplay src='IMG/beep.mp3'/>\n"
      ],
      "text/plain": [
       "<IPython.core.display.HTML object>"
      ]
     },
     "metadata": {},
     "output_type": "display_data"
    }
   ],
   "source": [
    "%%html\n",
    "<!-- Inclusion de son (lien sur fichier au format WAV, MP3, AAC ou OGG), en utilisant la balise '<audio>' -->\n",
    "<audio autoplay src='IMG/beep.mp3'/>"
   ]
  },
  {
   "cell_type": "code",
   "execution_count": 12,
   "metadata": {},
   "outputs": [
    {
     "data": {
      "text/html": [
       "<!-- Idem en ajoutant une widget de lecture -->\n",
       "<audio controls loop src='IMG/beep.ogg'/>\n"
      ],
      "text/plain": [
       "<IPython.core.display.HTML object>"
      ]
     },
     "metadata": {},
     "output_type": "display_data"
    }
   ],
   "source": [
    "%%html\n",
    "<!-- Idem en ajoutant une widget de lecture -->\n",
    "<audio controls loop src='IMG/beep.ogg'/>"
   ]
  },
  {
   "cell_type": "code",
   "execution_count": 13,
   "metadata": {
    "tags": []
   },
   "outputs": [
    {
     "data": {
      "text/html": [
       "<!-- Inclusion de vidéo (lien sur fichier au format MP4), en utilisant la balise '<video>' -->\n",
       "<video width=100% height=144 autoplay loop src='IMG/noise.mp4'/>\n"
      ],
      "text/plain": [
       "<IPython.core.display.HTML object>"
      ]
     },
     "metadata": {},
     "output_type": "display_data"
    }
   ],
   "source": [
    "%%html\n",
    "<!-- Inclusion de vidéo (lien sur fichier au format MP4), en utilisant la balise '<video>' -->\n",
    "<video width=100% height=144 autoplay loop src='IMG/noise.mp4'/>"
   ]
  },
  {
   "cell_type": "code",
   "execution_count": 14,
   "metadata": {
    "tags": []
   },
   "outputs": [
    {
     "data": {
      "text/html": [
       "<!-- Idem en ajoutant une widget de lecture -->\n",
       "<video width=100% height=144 controls src='IMG/noise.mp4'/>\n"
      ],
      "text/plain": [
       "<IPython.core.display.HTML object>"
      ]
     },
     "metadata": {},
     "output_type": "display_data"
    }
   ],
   "source": [
    "%%html\n",
    "<!-- Idem en ajoutant une widget de lecture -->\n",
    "<video width=100% height=144 controls src='IMG/noise.mp4'/>"
   ]
  },
  {
   "cell_type": "code",
   "execution_count": 15,
   "metadata": {
    "tags": []
   },
   "outputs": [
    {
     "data": {
      "text/html": [
       "<!-- Inclusion de vidéo (lien sur une page YouTube), en utilisant la balise '<iframe>' -->\n",
       "<iframe width=100% height=360 frameborder=0 allowfullscreen src='https://www.youtube.com/embed/A5YyoCKxEOU'/>\n"
      ],
      "text/plain": [
       "<IPython.core.display.HTML object>"
      ]
     },
     "metadata": {},
     "output_type": "display_data"
    }
   ],
   "source": [
    "%%html\n",
    "<!-- Inclusion de vidéo (lien sur une page YouTube), en utilisant la balise '<iframe>' -->\n",
    "<iframe width=100% height=360 frameborder=0 allowfullscreen src='https://www.youtube.com/embed/A5YyoCKxEOU'/>"
   ]
  },
  {
   "cell_type": "code",
   "execution_count": 16,
   "metadata": {
    "tags": []
   },
   "outputs": [
    {
     "data": {
      "text/html": [
       "<!-- Inclusion de site web complet, en utilisant la balise '<iframe>' -->\n",
       "<iframe width=100% height=360 frameborder=0 src='https://www.wikipedia.org'/>\n"
      ],
      "text/plain": [
       "<IPython.core.display.HTML object>"
      ]
     },
     "metadata": {},
     "output_type": "display_data"
    }
   ],
   "source": [
    "%%html\n",
    "<!-- Inclusion de site web complet, en utilisant la balise '<iframe>' -->\n",
    "<iframe width=100% height=360 frameborder=0 src='https://www.wikipedia.org'/>"
   ]
  },
  {
   "cell_type": "code",
   "execution_count": 17,
   "metadata": {
    "tags": []
   },
   "outputs": [
    {
     "data": {
      "text/latex": [
       "\\begin{align}\n",
       "  e^{\\,i\\pi} + 1 & = 0 && {\\sf (identité d'Euler)} \\\\\n",
       "  F(\\omega) & = \\int_{-\\infty}^{+\\infty} f(t)\\, e^{-2\\pi i\\, \\omega t}\\, dt && {\\sf (transformée de Fourier continue)} \\\\\n",
       "  S_m & = \\sum_{n\\,=\\,0}^{N-1} s_n\\, e^{-2\\pi i\\frac{m\\,n}{N}} && {\\sf (transformée de Fourier discrète)}\n",
       "\\end{align}\n"
      ],
      "text/plain": [
       "<IPython.core.display.Latex object>"
      ]
     },
     "metadata": {},
     "output_type": "display_data"
    }
   ],
   "source": [
    "%%latex # inclusion de bloc d'équations, en utilisant la syntaxe LaTeX\n",
    "\\begin{align}\n",
    "  e^{\\,i\\pi} + 1 & = 0 && {\\sf (identité d'Euler)} \\\\\n",
    "  F(\\omega) & = \\int_{-\\infty}^{+\\infty} f(t)\\, e^{-2\\pi i\\, \\omega t}\\, dt && {\\sf (transformée de Fourier continue)} \\\\\n",
    "  S_m & = \\sum_{n\\,=\\,0}^{N-1} s_n\\, e^{-2\\pi i\\frac{m\\,n}{N}} && {\\sf (transformée de Fourier discrète)}\n",
    "\\end{align}"
   ]
  },
  {
   "cell_type": "markdown",
   "metadata": {
    "tags": [
     "hide-input"
    ]
   },
   "source": [
    "---\n",
    "\n",
    "**Remarque importante :** Les deux langages de présentation **HTML+CSS** et **LaTeX** sont des outils importants pour le travail quotidien lorsqu'on travaille dans le domaine des Sciences des Données. Si vous n'avez pas eu de formation sur ces éléments durant votre cursus universitaire, ***il est fortement conseillé de suivre une auto-formation*** (même succinte) pour en maîtriser les éléments de base. Voici quelques pointeurs sur des tutos en ligne ou des mémos à télécharger, plutôt bien faits :\n",
    "\n",
    "> ***Tutos et Mémos HTML :***\n",
    "  [**W3schools**](https://www.w3schools.com/html) ●\n",
    "  [**MDN Web**](https://developer.mozilla.org/fr/docs/Web/HTML) ●\n",
    "  [**Tutorial Points**](https://www.tutorialspoint.com/html) ●\n",
    "  [**Mémo par Olivier Dommange**](https://www.labri.fr/perso/schlick/outinfo/PDF/MemoHTML.pdf)\n",
    "\n",
    "> ***Tutos et Mémos CSS :***\n",
    "  [**W3schools**](https://www.w3schools.com/css) ●\n",
    "  [**MDN Web**](https://developer.mozilla.org/fr/docs/Web/HTML) ●\n",
    "  [**Tutorial Points**](https://www.tutorialspoint.com/css) ●\n",
    "  [**Mémo par Olivier Dommange**](https://www.labri.fr/perso/schlick/outinfo/PDF/MemoCSS.pdf)\n",
    "\n",
    "> ***Tutos et Mémos LaTeX :***\n",
    "  [**Overleaf**](https://fr.overleaf.com/learn/latex/Learn_LaTeX_in_30_minutes) ●\n",
    "  [**latex-tutorial**](https://latex-tutorial.com/) ●\n",
    "  [**Tuto par Serge Varette**](https://www.labri.fr/perso/schlick/outinfo/PDF/TutoLaTeX.pdf) ●\n",
    "  [**Mémo par Winston Chang**](https://www.labri.fr/perso/schlick/outinfo/PDF/MemoLaTeX.pdf)\n"
   ]
  },
  {
   "cell_type": "markdown",
   "metadata": {},
   "source": [
    "<div style=\"padding:8px; margin:0px -20px; color:#FFF; background:#06D; text-align:right\">● ● ● </div>"
   ]
  }
 ],
 "metadata": {
  "kernelspec": {
   "display_name": "Python 3 (ipykernel)",
   "language": "python",
   "name": "python3"
  },
  "language_info": {
   "codemirror_mode": {
    "name": "ipython",
    "version": 3
   },
   "file_extension": ".py",
   "mimetype": "text/x-python",
   "name": "python",
   "nbconvert_exporter": "python",
   "pygments_lexer": "ipython3",
   "version": "3.12.4"
  }
 },
 "nbformat": 4,
 "nbformat_minor": 4
}
