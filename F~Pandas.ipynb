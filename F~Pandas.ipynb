{
 "cells": [
  {
   "cell_type": "markdown",
   "metadata": {},
   "source": [
    "<p style=\"color:#FFF; background:#06D; padding:12px; font-size:20px; font-style:italic; text-align:center\">\n",
    "<span style=\"width:49%; display:inline-block; text-align:left\">Version 2025-06</span>\n",
    "<span style=\"width:49%; display:inline-block; text-align:right\">Licence CC–BY–NC–ND</span>\n",
    "<span style=\"font-size:40px; font-style:normal\"><b>EXERCICES : PANDAS</b></span><br>\n",
    "<span style=\"width:49%; display:inline-block; text-align:left\">Christophe Schlick</span>\n",
    "<span style=\"width:49%; display:inline-block; text-align:right\">schlick ಄ u<b>-</b>bordeaux • fr</p>"
   ]
  },
  {
   "cell_type": "markdown",
   "metadata": {},
   "source": [
    "---\n",
    "> ***ATTENTION : L'exercice F5 ne sera pas traité en TD, mais pourra être fait en travail personnel et mis sur votre espace www au CREMI, selon les modalités définies sur le site web du cours***\n",
    "---"
   ]
  },
  {
   "cell_type": "markdown",
   "metadata": {},
   "source": [
    "L'objectif de cette feuille d'exercices est de voir comment mettre en oeuvre quelques unes des fonctionnalités fournies par le package **pandas**, basées sur l'utilisation des conteneurs **`series`** et **`dataframe`**. En parallèle, pour l'affichage des données, on mettra en oeuvre la bibliothèque **seaborn**, une sur-couche de **matplotlib** spécialisée pour les figures liées à l'analyse statistiques des données. Avant de commencer cette feuille d'exercices, il est donc fortement recommandé de relire les notebooks **07-Pandas.ipynb** et **08-Seaborn.ipynb** qui contiennent les éléments de cours correspondants."
   ]
  },
  {
   "cell_type": "code",
   "execution_count": 1,
   "metadata": {},
   "outputs": [],
   "source": [
    "import numpy as np\n",
    "import matplotlib.pyplot as mp\n",
    "import pandas as pd # import du package 'pandas' avec alias 'pd'\n",
    "import seaborn as sb # import du package 'seaborn' avec alias 'sb'\n",
    "sb.set_style('ticks') # on choisit le style des figures (autres styles = white, dark, whitegrid, darkgrid)\n",
    "import warnings; warnings.filterwarnings('ignore') # suppression des 'warning' de l'interpréteur"
   ]
  },
  {
   "cell_type": "markdown",
   "metadata": {
    "tags": []
   },
   "source": [
    "<h2 style=\"padding:16px; color:#FFF; background:#06D\">Exercice F1 - Pokemon</h2>\n",
    "\n",
    "On fournit un fichier CSV [**pokemon.csv**](DATA/pokemon.csv) contenant des informations diverses sur les 151 Pokemon de première génération.\n",
    "\n",
    "En ouvrant le fichier directement avec l'environnement Jupyter, on peut constater que la première ligne du fichier contient les noms des colonnes de la table, et que la première colonne, nommée **`#`**, contient un indice numérique correspondant au numéro \"officiel\" du Pokemon selon le [**Pokedex**](https://www.pokepedia.fr/Liste_des_Pok%C3%A9mon_dans_l%27ordre_du_Pok%C3%A9dex_National#Liste_des_Pok%C3%A9mon). Ecrire les instructions permettant de récupérer le contenu du fichier dans une table **pandas**, en utilisant la colonne **`#`** pour l'index des lignes, et les labels fournis pour l'index des colonnes :"
   ]
  },
  {
   "cell_type": "code",
   "execution_count": 2,
   "metadata": {},
   "outputs": [],
   "source": [
    "# TODO : utiliser la variable 'pkm' pour stocker la table"
   ]
  },
  {
   "cell_type": "markdown",
   "metadata": {},
   "source": [
    "---\n",
    "Les labels de certaines colonnes comportent des espaces, ce qui interdit de les utiliser avec un accès par attribut (notation pointée). Ecrire les instructions permettant de supprimer ces espaces :"
   ]
  },
  {
   "cell_type": "code",
   "execution_count": 3,
   "metadata": {},
   "outputs": [],
   "source": [
    "# TODO"
   ]
  },
  {
   "cell_type": "markdown",
   "metadata": {},
   "source": [
    "---\n",
    "Vérifier les types de données pour les 12 colonnes :"
   ]
  },
  {
   "cell_type": "code",
   "execution_count": 4,
   "metadata": {},
   "outputs": [],
   "source": [
    "# TODO"
   ]
  },
  {
   "cell_type": "markdown",
   "metadata": {},
   "source": [
    "Afficher les statistiques descriptives pour les colonnes numériques de la table :"
   ]
  },
  {
   "cell_type": "code",
   "execution_count": 5,
   "metadata": {},
   "outputs": [],
   "source": [
    "# TODO"
   ]
  },
  {
   "cell_type": "markdown",
   "metadata": {},
   "source": [
    "Afficher le nombre de valeurs distinctes pour chaque colonne :"
   ]
  },
  {
   "cell_type": "code",
   "execution_count": 6,
   "metadata": {},
   "outputs": [],
   "source": [
    "# TODO"
   ]
  },
  {
   "cell_type": "markdown",
   "metadata": {},
   "source": [
    "---\n",
    "On constate qu'il y a 15 noms différents pour **Type1** et 11 pour **Type2**. Ecrire les instructions permettant de les afficher, classés par ordre alphabétique : "
   ]
  },
  {
   "cell_type": "code",
   "execution_count": 7,
   "metadata": {},
   "outputs": [],
   "source": [
    "# TODO"
   ]
  },
  {
   "cell_type": "markdown",
   "metadata": {},
   "source": [
    "On constate également qu'il y a 150 noms différents alors qu'il y a 151 lignes. Trouver le nom en doublon :"
   ]
  },
  {
   "cell_type": "code",
   "execution_count": 8,
   "metadata": {},
   "outputs": [],
   "source": [
    "# TODO"
   ]
  },
  {
   "cell_type": "markdown",
   "metadata": {},
   "source": [
    "Trouver sur le web la raison de ce doublon, et en déduire un moyen de le corriger dans la table :"
   ]
  },
  {
   "cell_type": "code",
   "execution_count": 9,
   "metadata": {},
   "outputs": [],
   "source": [
    "# TODO"
   ]
  },
  {
   "cell_type": "markdown",
   "metadata": {},
   "source": [
    "---\n",
    "La colonne **Total** semble être égale à la somme des colonnes de **HP** à **Speed**. Confirmer ou infirmer cette hypothèse :"
   ]
  },
  {
   "cell_type": "code",
   "execution_count": 10,
   "metadata": {},
   "outputs": [],
   "source": [
    "# TODO"
   ]
  },
  {
   "cell_type": "markdown",
   "metadata": {},
   "source": [
    "En utilisant la fonction **`histplot`** du package **seaborn**, afficher l'histogramme de la colonne **Total** ainsi que la courbe d'estimation de sa densité de probabilité (***kde*** = kernel density estimation) :"
   ]
  },
  {
   "cell_type": "code",
   "execution_count": 11,
   "metadata": {},
   "outputs": [],
   "source": [
    "# TODO"
   ]
  },
  {
   "cell_type": "markdown",
   "metadata": {},
   "source": [
    "Le résultat obtenu par l'estimateur de la densité de probabilités, montre clairement une distribution bimodale, avec un premier mode autour de 320 et un second autour de 480."
   ]
  },
  {
   "cell_type": "markdown",
   "metadata": {},
   "source": [
    "---\n",
    "En utilisant la méthode **`groupby`**, écrire les instructions permettant de calculer la valeur moyenne de la colonne **Total** pour chacune des 12 catégories définies par **Type1** (afficher le résultat par ordre décroissant des moyennes obtenues). Même question pour les 11 catégories définies par **Type2** et pour les 3 catégories définies par **Stage** :"
   ]
  },
  {
   "cell_type": "code",
   "execution_count": 12,
   "metadata": {},
   "outputs": [],
   "source": [
    "# TODO"
   ]
  },
  {
   "cell_type": "markdown",
   "metadata": {},
   "source": [
    "En utilisant les fonctions **`violinplot`** et **`swarmplot`** de **seaborn**, afficher les variations de la colonne **Total** pour chacun des 151 Pokemon en fonction de son **Type1**, de son **Type2**, et enfin de son **Stage** :"
   ]
  },
  {
   "cell_type": "code",
   "execution_count": 13,
   "metadata": {},
   "outputs": [],
   "source": [
    "# TODO"
   ]
  },
  {
   "cell_type": "markdown",
   "metadata": {},
   "source": [
    "Cette dernière figure permet de comprendre la raison de la distribution bimodale observée à la question précédente : les Pokemon de **Stage 1** ont une forte densité autour de la valeur $300$, ceux de **Stage 3**, une forte densité autour de la valeur $500$, et les éléments de **Stage 2** une distribution relativement uniforme sur l'intervalle $[350,550]$."
   ]
  },
  {
   "cell_type": "markdown",
   "metadata": {
    "tags": []
   },
   "source": [
    "---\n",
    "On s'intéresse maintenant aux 4 caractéristiques **Atk**, **Def**, **SpecAtk** et **SpecDef**. Visualiser les variations de ces 4 colonnes à l'aide de la fonction **`boxplot`**, en y rajoutant l'affichage de la distribution sous-jacente avec la fonction **`swarmplot`** :"
   ]
  },
  {
   "cell_type": "code",
   "execution_count": 14,
   "metadata": {},
   "outputs": [],
   "source": [
    "# TODO"
   ]
  },
  {
   "cell_type": "markdown",
   "metadata": {
    "tags": []
   },
   "source": [
    "On cherche à établir s'il existe des corrélations entre ces quatre paramètres. L'outil idéal pour avoir une vision d'ensemble est la fonction **`pairplot`**. Pour un complément d'information, on va mettre des couleurs différentes les trois valeurs de la colonne **Stage** (utilisation du paramètre optionnel **`hue='Stage'`**):"
   ]
  },
  {
   "cell_type": "code",
   "execution_count": 15,
   "metadata": {},
   "outputs": [],
   "source": [
    "# TODO"
   ]
  },
  {
   "cell_type": "markdown",
   "metadata": {},
   "source": [
    "Les diagrammes ne sont pas très probants, le seul endroit où une correlation semble apparaître concerne les variables **SpecAtk** et **SpecDef** (et encore, c'est uniquement pour la première moitié de l'échelle des valeurs). On va utiliser la fonction **`regplot`** pour visualiser les relations entre ces deux variables, et tenter d'y appliquer une régression linéaire :"
   ]
  },
  {
   "cell_type": "code",
   "execution_count": 16,
   "metadata": {},
   "outputs": [],
   "source": [
    "# TODO"
   ]
  },
  {
   "cell_type": "markdown",
   "metadata": {
    "tags": []
   },
   "source": [
    "<h2 style=\"padding:16px; color:#FFF; background:#06D\">Exercice F2 - Fortune 500</h2>\n",
    "\n",
    "On fournit un fichier CSV [**fortune500.csv**](DATA/fortune500.csv) qui contient 51 classements annuels (entre 1955 et 2005) établis par le magazine [**Fortune**](https://fortune.com/fortune500) et contenant les noms des 500 plus grandes entreprises américaines (au sens du chiffre d'affaires annuel).\n",
    "\n",
    "Comme dans l'exercice prédédent, on peut constater que la première ligne du fichier contient les noms des colonnes de la table. Ecrire les instructions permettant de récupérer le contenu du fichier sous la forme d'une table **pandas** en gardant l'index par défaut pour les lignes et en utilisant les labels fournis pour l'index des colonnes. Ensuite supprimer la colonne **`Profit (in millions)`** dont on ne se servira pas, et renommer la colonne **`Revenue (in millions)`** en **`Revenue`** :"
   ]
  },
  {
   "cell_type": "code",
   "execution_count": 17,
   "metadata": {},
   "outputs": [],
   "source": [
    "# TODO : utiliser la variable 'top500' pour stocker la table"
   ]
  },
  {
   "cell_type": "markdown",
   "metadata": {},
   "source": [
    "---\n",
    "On veut connaitre le nom de toutes les sociétés qui ont été classsées **Top 1** au moins une fois sur les 51 classements annuels, et les afficher par ordre décroissant du nombre de classements dans cette position : "
   ]
  },
  {
   "cell_type": "code",
   "execution_count": 18,
   "metadata": {},
   "outputs": [],
   "source": [
    "# TODO : utiliser la variable 'top1' pour stocker la table"
   ]
  },
  {
   "cell_type": "markdown",
   "metadata": {
    "tags": []
   },
   "source": [
    "Même question avec un classement dans le **Top 10**, en se limitant aux sociétés qui y ont été classées au moins 20 fois :"
   ]
  },
  {
   "cell_type": "code",
   "execution_count": 19,
   "metadata": {},
   "outputs": [],
   "source": [
    "# TODO : utiliser la variable 'top10' pour stocker la table"
   ]
  },
  {
   "cell_type": "markdown",
   "metadata": {},
   "source": [
    "---\n",
    "Afficher sur un même graphique avec la fonction **`lineplot`**, l'évolution du chiffre d'affaires moyen du top 1, du top 10 et de l'ensemble du top 500 entre les années 1955 et 2005 :"
   ]
  },
  {
   "cell_type": "code",
   "execution_count": 20,
   "metadata": {},
   "outputs": [],
   "source": [
    "# TODO : utiliser la variable 'revenues' pour stocker les moyennes des chiffres d'affaires des sociétés "
   ]
  },
  {
   "cell_type": "markdown",
   "metadata": {},
   "source": [
    "Le défaut majeur de ce graphique est qu'il n'inclut pas l'effet de l'inflation (**1\\$** de 1955 n'a évidemment rien à voir avec **1\\$** de 2005). Pour corriger cette erreur, il faut inclure l'évolution annuelle de l'indice des prix à la consommation aux Etats-Unis (***Historical Consumer Price Index***) qui se trouve (par exemple) sur [**cette page**](https://inflationdata.com/Inflation/Consumer_Price_Index/HistoricalCPI.aspx). Il faut donc récupérer cette table (via la fonction **`pd.read_html`**), ne garder que la colonne de décembre et les lignes entre 1955 et 2005, et s'en servir pour regénérer le graphique précédent en dollars constants :"
   ]
  },
  {
   "cell_type": "code",
   "execution_count": 21,
   "metadata": {},
   "outputs": [],
   "source": [
    "# TODO : utiliser la variable 'cpi' pour stocker la table des indices de prix"
   ]
  },
  {
   "cell_type": "markdown",
   "metadata": {},
   "source": [
    "---\n",
    "Et pour finir, on cherche à afficher l'histogramme empilé des chiffres d'affaires (transformés en dollars constants) des sociétés du **Top 10**, pour l'ensemble des 51 classements. Pour cela il faut d'abord\n",
    "créer une colonne pour chacun des 10 rangs, à l'aide de la fonction **`pivot_table`** puis utiliser la méthode **`plot`** avec les paramètres **`kind='bar'`** et **`stacked=True`** :"
   ]
  },
  {
   "cell_type": "code",
   "execution_count": 22,
   "metadata": {},
   "outputs": [],
   "source": [
    "# TODO"
   ]
  },
  {
   "cell_type": "markdown",
   "metadata": {
    "tags": []
   },
   "source": [
    "<h2 style=\"padding:16px; color:#FFF; background:#06D\">Exercice F3 - Population des USA</h2>\n",
    "\n",
    "On cherche à établir quelques statistiques sur (une partie de) la base de données du recensement aux Etats-Unis. On fournit trois fichiers :\n",
    "\n",
    "* L'évolution de la population, Etat par Etat, entre 1990 et 2013 : [**usa-pops.csv**](DATA/usa-pops.csv)\n",
    "* La superficie de chaque Etat (en squared miles) : [**usa-areas.csv**](DATA/usa-areas.csv)\n",
    "* L'abréviation et le nom officiel de chacun des 50 Etats : [**usa-names.csv**](DATA/usa-names.csv)\n",
    "\n",
    "A partir de ces fichiers, et sans avoir plus d'explications sur la manière de procéder, écrire la liste des instructions à exécuter pour obtenir les résultats suivants :\n",
    "\n",
    "* Convertir l'ensemble des surfaces des 50 Etats (uniquement les 50 Etats fédéraux) en **km$^2$** et afficher les statistiques descriptives associées\n",
    "* Vérifier si, pour chaque année, la population totale des USA est bien égale à la somme de celle des 50 Etats, ou si les totaux fournis par le fichier incluent la population des 2 territoires non-fédéraux :<br> **DC** = *District of Columbia* et **PR** = *Puerto Rico*\n",
    "* Tracer l'évolution de la population globale des Etats-Unis entre 1990 et 2013, selon trois courbes différentes : les personnes mineures, les personnes majeures, la somme des deux\n",
    "* Calculer l'évolution de la densité de population (habitants par km$^2$) pour chaque Etat, puis tracer (sur une même figure) l'évolution des 3 Etats les plus denses et des 3 Etats les moins denses\n",
    "* Calculer pour chaque année, l'évolution relative de la population de chaque Etat, puis tracer sous forme\n",
    "de nuage de points, la relation entre la population totale de chaque Etat et son évolution relative\n",
    "\n",
    "> **Note :** La table des superficies utilise les noms complets des Etats, alors que la table des populations utilise le sigle sur 2 caractères. Pour utiliser correctement les deux tables, il faudra donc se servir de la troisième table qui associe les noms et les sigles pour les 50 Etats fédéraux."
   ]
  },
  {
   "cell_type": "code",
   "execution_count": 23,
   "metadata": {},
   "outputs": [],
   "source": [
    "# TODO"
   ]
  },
  {
   "cell_type": "markdown",
   "metadata": {
    "tags": []
   },
   "source": [
    "<h2 style=\"padding:16px; color:#FFF; background:#06D\">Exercice F4 - Equipements publics Bordeaux Metropole</h2>\n",
    "\n",
    "La métropole de Bordeaux propose un grand nombre de [**jeux de données en OpenData**](https://opendata.bordeaux-metropole.fr) dont on a extrait les trois fichiers suivants (en supprimant quelques colonnes pour alléger la taille des données) :\n",
    "\n",
    "* La liste (relativement) complète des adresses postales de la métropole : [**bx-adresses.csv**](DATA/bx-adresses.csv)\n",
    "* La liste complète des équipements publics, classé en 15 catégories : [**bx-equi-pub.csv**](DATA/bx-equi-pub.csv)\n",
    "* La liste des codes et des titres asssociés à ces 15 catégories : [**bx-code-equi.csv**](DATA/bx-code-equi.csv)\n",
    "\n",
    "On cherche à exploiter ces fichiers pour obtenir une visualisation géolocalisée des équipements publics de la métropole. Il existe plusieurs bibliothèques Python permettant la création et la visualisation de cartes contenant des données géolocalisées, les plus utilisées étant les packages **`folium`**, **`ipyleaflet`** et **`plotly`**. La plus facile d'accès, qui sera mise en oeuvre dans cet exercice, est très certainement la bibliothèque [**folium**](https://python-visualization.github.io/folium) qui offre un \"wrapper\" simplifié pour la bibliothèque [**leaflet.js**](https://leafletjs.com) écrite en JavaScript. Les deux autres bibliothèques sont plus complètes, mais également plus complexes à maîtriser, elles font l'objet d'une description détaillée dans le chapitre 12.\n",
    "\n",
    "Pour la mise en oeuvre de **folium**, il est conseillé de commencer par lire les deux (courts) tutoriels suivants : un [**exemple d'introduction**](https://towardsdatascience.com/creating-a-simple-map-with-folium-and-python-4c083abfff94) tiré du site **towardsdatascience**, et le [**quickstart**](https://python-visualization.github.io/folium/quickstart.html) officiel du package. Une fois cette lecture achevée, vous devriez pouvoir écrire sans difficulté, la liste des instructions à exécuter pour obtenir les résultats suivants :\n",
    "\n",
    "* Afficher l'histogramme du nombre d'équipements publics pour chacune des 15 catégories\n",
    "* Créer et afficher une carte contenant l'ensemble des 5600 équipements publics de la métropole : on utilisera un marqueur graphique d'une couleur ou forme différente pour chaque catégorie, et chaque marqueur devra afficher un popup fournissant des informations complètes sur l'équipement sélectionné)\n",
    "* Pour certains équipement, la donnée de la colonne **`adresse`** est manquante. En utilisant le fichier des adresses et les coordonnées GPS, trouver l'adresse la plus probable pour chacun de ces équipements."
   ]
  },
  {
   "cell_type": "code",
   "execution_count": 24,
   "metadata": {},
   "outputs": [],
   "source": [
    "# TODO"
   ]
  },
  {
   "cell_type": "markdown",
   "metadata": {
    "tags": []
   },
   "source": [
    "<h2 style=\"padding:16px; color:#FFF; background:#06D\">Exercice F5 - Indices des prix des minéraux</h2>\n",
    "\n",
    "Sur le site de l'[**INSEE**](https://www.insee.fr) *(Institut National de la Statistique et des Etudes Economiques)*, on peut trouver l'ensemble des [**indices de prix et cours des matières premières**](https://www.insee.fr/fr/statistiques/series/105299226) avec le récapitulatif de leur évolution mensuelle depuis janvier 1990. L'objectif de l'exercice est de récupérer sur le site, toutes les données correspondant aux cours des minéraux (or, argent, cuivre, aluminiun, etc), de les fusionner dans une même table et d'appliquer une série de traitements et de visualisations similaires à celles effectuées dans l'exercice **F2**. Il n'y a pas de contraintes sur la nature des traitements et des visualisations, l'idée est d'arriver à analyser les données et à ***mettre en avant les éléments qui vous semblent les plus importants*** (évolutions rapides des cours, pénurie ou saturation du marché, etc) dans une démarche de \"data mining\""
   ]
  },
  {
   "cell_type": "code",
   "execution_count": 25,
   "metadata": {},
   "outputs": [],
   "source": [
    "# TODO"
   ]
  },
  {
   "cell_type": "markdown",
   "metadata": {},
   "source": [
    "<div style=\"padding:8px; margin:0px -20px; color:#FFF; background:#06D; text-align:right\">● ● ● </div>"
   ]
  }
 ],
 "metadata": {
  "kernelspec": {
   "display_name": "Python 3 (ipykernel)",
   "language": "python",
   "name": "python3"
  },
  "language_info": {
   "codemirror_mode": {
    "name": "ipython",
    "version": 3
   },
   "file_extension": ".py",
   "mimetype": "text/x-python",
   "name": "python",
   "nbconvert_exporter": "python",
   "pygments_lexer": "ipython3",
   "version": "3.12.4"
  }
 },
 "nbformat": 4,
 "nbformat_minor": 4
}
