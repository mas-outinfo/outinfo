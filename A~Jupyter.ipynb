{
 "cells": [
  {
   "cell_type": "markdown",
   "metadata": {},
   "source": [
    "<p style=\"color:#FFF; background:#06D; padding:12px; font-size:20px; font-style:italic; text-align:center\">\n",
    "<span style=\"width:49%; display:inline-block; text-align:left\">Version 2025-06</span>\n",
    "<span style=\"width:49%; display:inline-block; text-align:right\">Licence CC–BY–NC–ND</span>\n",
    "<span style=\"font-size:40px; font-style:normal\"><b>EXERCICES : JUPYTERLAB</b></span><br>\n",
    "<span style=\"width:49%; display:inline-block; text-align:left\">Christophe Schlick</span>\n",
    "<span style=\"width:49%; display:inline-block; text-align:right\">schlick ಄ u<b>-</b>bordeaux • fr</p>"
   ]
  },
  {
   "attachments": {},
   "cell_type": "markdown",
   "metadata": {
    "jp-MarkdownHeadingCollapsed": true
   },
   "source": [
    "<div style=\"padding:16px; color:#FFF; background:#F64\">\n",
    "Comme indiqué durant la séance de présentation de l'UE, <b>l'utilisation de l'IA générative</b> <i>(<b>ChatGPT</b> ou autres outils similaires)</i> est <b>autorisée durant les séances de TD</b> pour vous aider à développer le code demandé dans les exercices. Il y a simplement deux contraintes impératives à respecter :\n",
    "<ul>\n",
    "<li>Il faut systématiquement <b>développer de manière personnelle une première version du code demandé</b>, appelé <b><i>version alpha</b>, qui sera la plupart du temps incomplète et non fonctionnelle, mais qui permettra de préciser à l'IAG, le principe général de l'algorithme et des structures de données à utiliser, la nature des données en entrée et le format souhaité pour le résultat final.</li>\n",
    "<li>L'ensemble des requêtes <i>(prompt)</i> et des interactions avec l'IA devra s'effectuer <b>uniquement en langue anglaise</b></li>\n",
    "</ul>\n",
    "Nous aurons l'occasion de voir en cours, la notion de <b><i>prompt engineering</i></b> regroupant les bonnes pratiques pour la rédaction de requêtes, mais pour cette première séance, vous êtes laissés libres sur la manière d'interagir avec l'IAG\n",
    "</div>\n",
    "\n",
    "---\n",
    "> ***ATTENTION : L'exercice A3 ne sera pas traité en TD, mais pourra être fait en travail personnel et mis sur votre espace www au CREMI, selon les modalités définies sur le site web du cours***\n",
    "---\n",
    "\n",
    "L'objectif de cette feuille d'exercices est d'apprendre à maîtriser l'utilisation interactive de l'environnement **JupyterLab**, ainsi que les bases du langage **Markdown**, saupoudré d'un peu d'**HTML**, de **CSS**, de **SVG** et de **LaTeX**\n",
    "\n",
    "Avant de commencer cette feuille d'exercices, il est donc fortement recommandé de relire les notebooks **01-Jupyter.ipynb** et **02-Markdown.ipynb** qui contiennent les éléments de cours correspondants, ou au minimum d'***avoir ces deux notebooks ouverts dans d'autres onglets de votre environnement JupyterLab*** pour pouvoir vous y référer facilement."
   ]
  },
  {
   "cell_type": "markdown",
   "metadata": {},
   "source": [
    "<h2 style=\"padding:16px; color:#FFF; background:#06D\">Exercice A0 - Configuration de l'environnement JupyterLab</h2>\n",
    "\n",
    "Si vous êtes en train de lire ce notebook dans votre environnement **JupyterHub**, c'est que vous avez réussi à exécuter correctement le script d'installation **`setup.sh`** qui a configuré l'arborescence de travail sur votre espace disque du CREMI. Dans l'explorateur de fichiers, sur la zone de gauche de la fenêtre, vous devriez voir le contenu de votre dossier **`OUTINFO`** qui a été créé par ce script d'installation et qui inclut un certain nombre de notebooks ainsi que les dossiers **`DATA`**, **`IMG`**, **`SRC`** et **`TEST`** contenant les différents fichiers de données utilisés par ces notebooks. En naviguant dans cette arborescence jusqu'au dossier **`espaces/www`** vous devriez voir le dossier secret **`OI-?????`** (les **`?`** correspondent à des lettres aléatoires) qui a été créé par le script d'installation et qui contient les dossiers **`BONUS`**, **`PROJET`**, **`TP1`** et **`TP2`** qui seront utilisés durant le semestre pour déposer vos travaux personnels.\n",
    "\n",
    "Les dernières étapes qui restent à réaliser consistent à ***configurer les paramètres de l'interface*** **JupyterLab** (sachant que cette configuration devra être faite pour le serveur JupyterHub du CREMI, et le cas échéant, répétée pour le serveur Jupyter de votre distribution Anaconda, si vous l'avez installé sur votre poste personnel). Une première opération rapide consiste à reconfigurer les deux barres de contrôle qui, par défaut, se trouvent respectivement sur les extrémités gauche et droite de votre fenêtre. Pour gagner de la place sur l'écran (notamment lorsqu'on va utiliser le debugger), il est préférable de regrouper tous les onglets sur la barre de gauche : pour cela, il suffit de faire un clic droit sur chaque icône de la barre de droite et d'activer la commande **`Switch Sidebar Side`** pour la transférer sur l'autre barre.\n",
    "\n",
    "Comme pour tout environnement de développement moderne, l'interface utilisateur de **JupyterLab** est configurable et personnalisable dans les moindres détails, aussi bien visuels que fonctionnels. Cette configuration peut s'effectuer de manière interactive, via le menu **`Settings`** dans la barre de menu principale de l'application. Ce menu regroupe les paramètres de personnalisation les plus fréquents (choix du thème et de la langue de l'interface, de la taille des fonts...), mais contient également une commande **`Settings Editor`** (tout en bas du menu) qui va ouvrir un nouvel onglet, appelé **Settings**, dans la zone de travail, dans lequel sont regroupés l'intégralité des différents paramètres de configuration classés par modules.\n",
    "\n",
    "Le choix des paramètres de configuration est essentiellement une affaire de préférences personnelles. Néanmoins pour l'édition de code informatique, sélectionner un certain nombre de paramètres spécifiques pour l'éditeur des cellules de code, permet d'augmenter la productivité. De plus, les notebooks fournis dans le cadre de ce cours, ont été réalisés avec certaines options particulières, il est donc important que vous configuriez votre environnement avec les mêmes options pour que vos éventuelles modifications soient formatées de la même manière que les cellules de texte ou de code existantes. A la première utilisation de **JupyterLab**, il est donc conseillé de faire les manipulations suivantes :\n",
    "\n",
    "- Ouvrir l'onglet **Settings**, en sélectionnant **`Settings Editor`** dans le menu **`Settings`** (tout en bas)\n",
    "- Dans la colonne de gauche de cet onglet, sélectionner **Code Mirror** (nom de l'éditeur de code)\n",
    "- Puis dans la colonne de droite, cocher ou modifier les paramètres suivants (de haut en bas) :\n",
    "\n",
    "    * **Auto Closing Brackets** : true\n",
    "    * **Code Folding** : true\n",
    "    * **Highlight Special Characters** : true\n",
    "    * **Highlight Trailing Spaces** : true\n",
    "    * **Indentation Unit** : 2\n",
    "    * **Line Numbers** : true\n",
    "    * **Line Wrap** : true\n",
    "    * **Match Brackets** : true\n",
    "    * **Rectangular Selection** : true\n",
    "    * **Smart Indentation** : true\n",
    "    * **Tab Size** : 2\n",
    "    * **Multiple Selection** : true\n",
    "\n",
    "Les propriétés non citées dans cette liste doivent rester vides ou non cochées"
   ]
  },
  {
   "cell_type": "markdown",
   "metadata": {
    "tags": []
   },
   "source": [
    "<h2 style=\"padding:16px; color:#FFF; background:#06D\">Exercice A1 - Un petit échauffement...</h2>\n",
    "\n",
    "Vous trouverez ci-dessous, une série de cellules (de texte ou de code) dont les contenus utilisent différents langages reconnus par Jupyter : **Markdown**, **Python**, **HTML**, **SVG**, **LaTeX**. L'objectif de cet exercice d'échauffement est d'effectuer quelques manipulations avec les cellules d'un notebook, pour vous familariser avec les fonctionnalités disponibles. Parmi les choses à tester, on peut lister les actions suivantes (pour chacune de ces actions, ***essayez de faire chacune des manipulations d'abord en utilisant la souris, puis en tentant de trouver le raccourci-clavier associé)*** :\n",
    "\n",
    "- Placez la cellule *\"Welcome to **Markdown**\"* du notebook en mode édition afin de modifier son contenu, tout en gardant un contenu Markdown valide\n",
    "- Vérifiez le résultat de votre modification en lançant l'interprétation de la cellule par Jupyter\n",
    "- Refaites une édition de la cellule en créant cette fois-ci du contenu Markdown non-valide, et constatez ce que produit son interprétation par Jupyter\n",
    "- Effectuez la même série de manipulations (modification valide, vérification, modification non-valide, vérification) sur les autres cellules de l'exercice (*\"Welcome to **Python**\"*, *\"Welcome to **HTML**\"*, *\"Welcome to **SVG**\"*, *\"Welcome to **LaTeX**\"*) en respectant la syntaxe du langage utilisé pour chacune des cellules. Vous pouvez évidemment utiliser les tutos et les mémos qui sont listés à la fin du chapitre 1 pour obtenir des infos sur la syntaxe à utiliser\n",
    "- Créez plusieurs autres cellules avec du contenu pour chacun des langages, rajoutez des cellules de texte permettant de documenter le contenu généré par chacune de vos cellules de code\n",
    "- Déplacez et/ou copiez des cellules ou des groupes de cellules au sein de votre notebook\n",
    "- Trouvez comment cacher/afficher une cellule de code tout en continuant d'afficher le résultat de son interprétation, puis trouvez comment cacher/afficher le résultat tout en continuant d'afficher la cellule de code\n",
    "- Réorganisez le contenu de votre notebook en créant une organisation hiérarchique (section, sous-section) et vérifiez que cette organisation est bien reconnue par la table des matières (activable sur la barre d'outils à gauche)\n",
    "---"
   ]
  },
  {
   "cell_type": "markdown",
   "metadata": {},
   "source": [
    "<!-- Ceci est une CELLULE DE TEXTE en Markdown, avec un commentaire au format XML -->\n",
    "\n",
    "Welcome to **Markdown**\n",
    "\n",
    "![smiley](IMG/smiley.png)"
   ]
  },
  {
   "cell_type": "code",
   "execution_count": null,
   "metadata": {},
   "outputs": [],
   "source": [
    "<!-- Ceci est une CELLULE DE CODE en Markdown, avec un commentaire au format XML -->\n",
    "<!-- elle génère une erreur car les cellules de code ne peuvent pas être écrites en Markdown -->\n",
    "\n",
    "Welcome to **Markdown**\n",
    "\n",
    "![smiley](IMG/smiley.png)"
   ]
  },
  {
   "cell_type": "code",
   "execution_count": 8,
   "metadata": {},
   "outputs": [
    {
     "name": "stdout",
     "output_type": "stream",
     "text": [
      "Welcome to Python\n"
     ]
    }
   ],
   "source": [
    "# Ceci est une cellule de code en Python, avec un commentaire au format Python\n",
    "\n",
    "print('Welcome to Python')"
   ]
  },
  {
   "cell_type": "code",
   "execution_count": 34,
   "metadata": {},
   "outputs": [
    {
     "data": {
      "text/html": [
       "<!-- Ceci est une cellule de code en HTML, avec un commentaire en XML -->\n",
       "\n",
       "Welcome to <b>HTML</b> <img src='IMG/smiley.png' width='60'/>\n"
      ],
      "text/plain": [
       "<IPython.core.display.HTML object>"
      ]
     },
     "metadata": {},
     "output_type": "display_data"
    }
   ],
   "source": [
    "%%html\n",
    "<!-- Ceci est une cellule de code en HTML, avec un commentaire au format XML -->\n",
    "\n",
    "Welcome to <b>HTML</b> <img src='IMG/smiley.png' width='60'/>"
   ]
  },
  {
   "cell_type": "code",
   "execution_count": 22,
   "metadata": {},
   "outputs": [
    {
     "data": {
      "image/svg+xml": [
       "<svg xmlns=\"http://www.w3.org/2000/svg\" viewBox=\"0 0 800 40\">\n",
       "<rect x=\"5\" y=\"5\" width=\"160\" height=\"30\" rx=\"15\" fill=\"#EEE\" stroke=\"#000\" stroke-width=\"1\"/>\n",
       "<text x=\"25\" y=\"25\" font-size=\"16\" font-family=\"sans-serif\"> Welcome to SVG </text>\n",
       "</svg>"
      ],
      "text/plain": [
       "<IPython.core.display.SVG object>"
      ]
     },
     "metadata": {},
     "output_type": "display_data"
    }
   ],
   "source": [
    "%%svg # Ceci est une cellule de code en SVG, avec un commentaire au format Python\n",
    "\n",
    "<svg viewBox='0 0 800 40' xmlns='http://www.w3.org/2000/svg'>\n",
    "<rect x='5' y='5' width='160' height='30' rx='15' fill='#EEE' stroke='#000' stroke-width='1'/>\n",
    "<text x='25' y='25' font-size='16' font-family='sans-serif'> Welcome to SVG </text>\n",
    "</svg>"
   ]
  },
  {
   "cell_type": "code",
   "execution_count": 36,
   "metadata": {},
   "outputs": [
    {
     "data": {
      "text/latex": [
       "\n",
       "Welcome to $\\bf\\LaTeX$ $$\\sum_{n=1}^{N} n^2 = \\cdots$$\n"
      ],
      "text/plain": [
       "<IPython.core.display.Latex object>"
      ]
     },
     "metadata": {},
     "output_type": "display_data"
    }
   ],
   "source": [
    "%%latex # Ceci est une cellule de code en LaTeX, avec un commentaire au format Python\n",
    "\n",
    "Welcome to $\\bf\\LaTeX$ $$\\sum_{n=1}^{N} n^2 = \\cdots$$"
   ]
  },
  {
   "cell_type": "markdown",
   "metadata": {
    "tags": []
   },
   "source": [
    "<h2 style=\"padding:16px; color:#FFF; background:#06D\">Exercice A2 - Test pour \"Mission: Impossible\"</h2>\n",
    "\n",
    "Votre mission, à supposer que vous l'acceptiez, consiste à reproduire le contenu et la mise en page du document ci-dessous, dont nous savons qu'il a été écrit en combinant du code Markdown, HTML, CSS, SVG et LaTeX dans un notebook Jupyter. Votre objectif est de retrouver les instructions de ces différents langages qui ont été utilisées par les auteurs, ***de manière à obtenir une similarité parfaite avec le document initial***. Aucune information complémentaire ne vous sera fournie pour cette mission. Comme toujours, si vous ou l'un de vos camarades de promotion étaient capturés ou tués, l'Université nierait avoir eu connaissance de vos actions. Ce notebook ne s'autodétruira pas dans les cinq secondes à venir, car gâcher du matériel informatique n'est plus vraiment dans l'air du temps...\n",
    "\n",
    "<div style=\"padding:4px; background:#F30; text-align:center; text-decoration:none; font-size:24px\">\n",
    "  <a href='https://www.labri.fr/perso/schlick/outinfo/mission.html' style=\"color:#FFF\">\n",
    "  <b>CLIQUEZ ICI POUR AVOIR ACCÈS AU DOCUMENT</b></a></div>"
   ]
  },
  {
   "cell_type": "markdown",
   "metadata": {},
   "source": [
    "<h2 style=\"padding:16px; color:#FFF; background:#06D\">Exercice A3 - Candidature à l'IMF (<i>Impossible Mission Force</i>)</h2>\n",
    "\n",
    "Maintenant que vous avez brillamment réussi votre test de l'exercice A2, vous pouvez sérieusement envisager de candidater pour rejoindre notre unité ***Impossible Mission Force***, en tant qu'agent spécialisé en Sciences des Données. Pour cela, vous aurez à construire un CV détaillé, toujours en combinant du code Markdown, HTML, CSS, SVG et LaTeX, présentant l'ensemble de vos nombreuses compétences, tous domaines confondus. ***Seuls les CV avec le rendu visuel le plus spectaculaire auront une chance d'être sélectionnés***. A vous d'être performant et original  !\n",
    "\n",
    "<p style=\"text-align:right; font-size:24px\">祝你好运 [Zhù nǐ hǎo yùn]</p>"
   ]
  },
  {
   "cell_type": "markdown",
   "metadata": {},
   "source": [
    "<div style=\"padding:8px; margin:0px -20px; color:#FFF; background:#06D; text-align:right\">● ● ● </div>"
   ]
  }
 ],
 "metadata": {
  "kernelspec": {
   "display_name": "Python 3 (ipykernel)",
   "language": "python",
   "name": "python3"
  },
  "language_info": {
   "codemirror_mode": {
    "name": "ipython",
    "version": 3
   },
   "file_extension": ".py",
   "mimetype": "text/x-python",
   "name": "python",
   "nbconvert_exporter": "python",
   "pygments_lexer": "ipython3",
   "version": "3.12.4"
  }
 },
 "nbformat": 4,
 "nbformat_minor": 4
}
